{
 "cells": [
  {
   "cell_type": "markdown",
   "metadata": {},
   "source": [
    "# Final Project Baseline: House Prices- Advanced Regression Techniques\n",
    "### Author: Radia Abdul Wahab, Parham Motameni, Jun Qian\n",
    "### Date: Fall 2021\n",
    "### Course: w207 Machine Learning\n",
    "\n",
    "\n",
    "\n",
    "\n",
    "\n"
   ]
  },
  {
   "cell_type": "markdown",
   "metadata": {},
   "source": [
    "## Supplementary Notebook for Various Linear Regression Models, Hyperparameter tuning and RMSE assessment. "
   ]
  },
  {
   "cell_type": "code",
   "execution_count": 1,
   "metadata": {},
   "outputs": [],
   "source": [
    "# This tells matplotlib not to try opening a new window for each plot.\n",
    "from pathlib import Path\n",
    "import seaborn as sns\n",
    "import pandas as pd\n",
    "import random\n",
    "import warnings\n",
    "\n",
    "import matplotlib.pyplot as plt\n",
    "\n",
    "# sklearn\n",
    "from sklearn.model_selection import train_test_split\n",
    "from sklearn.model_selection import GridSearchCV\n",
    "from sklearn.metrics import mean_squared_error\n",
    "\n",
    "from sklearn.linear_model import LinearRegression\n",
    "from sklearn.linear_model import Ridge\n",
    "from sklearn.linear_model import Lasso\n",
    "from sklearn.linear_model import ElasticNet\n",
    "from sklearn.tree import DecisionTreeRegressor as DTR\n",
    "from sklearn.ensemble import RandomForestRegressor as RFR\n",
    "from sklearn.feature_selection import RFE\n",
    "\n",
    "\n",
    "# internal modules\n",
    "from base_regressor_plot import BaseRegressorPlot\n",
    "from configurations import args\n",
    "from data_loader import DataLoader\n",
    "from elastic_net_regressor import ElasticNetRegressor\n",
    "from decision_tree_regressor import DecisionTreeRegressor\n",
    "from lasso_regressor import LassoRegressor\n",
    "from linear_regressor import LinearRegressor\n",
    "from random_forest_regressor import RandomForestRegressor\n",
    "from ridge_regressor import RidgeRegressor\n",
    "\n",
    "%matplotlib inline\n",
    "\n",
    "\n",
    "warnings.filterwarnings('ignore')"
   ]
  },
  {
   "cell_type": "code",
   "execution_count": 2,
   "metadata": {},
   "outputs": [
    {
     "name": "stdout",
     "output_type": "stream",
     "text": [
      "Datafile is already loaded.\n"
     ]
    }
   ],
   "source": [
    "# download data file if it is not ready\n",
    "data_file = Path(args.data_path)\n",
    "if data_file.is_file():\n",
    "    print(\"Datafile is already loaded.\")\n",
    "else:\n",
    "    !curl -L \"https://drive.google.com/uc?export=download&id=1ortEJfmlpt9-dbg5f6cTDt5nicswf5wT\" > 'test.csv'\n",
    "    !curl -L \"https://drive.google.com/uc?export=download&id=1EG5jP5RDEIsNAMaF2m42KOyz-ZVjC8wS\" > 'train.csv'\n",
    "data_loader = DataLoader(args)\n",
    "df = data_loader.df"
   ]
  },
  {
   "cell_type": "code",
   "execution_count": 3,
   "metadata": {},
   "outputs": [],
   "source": [
    "# lock the seed to have repeatable results\n",
    "random.seed(100)"
   ]
  },
  {
   "cell_type": "markdown",
   "metadata": {},
   "source": [
    "## Taking a look at what the features are\n",
    "Additionally reviewed the data_description.txt file. The column names and the names on the file correspond accurately"
   ]
  },
  {
   "cell_type": "code",
   "execution_count": 4,
   "metadata": {},
   "outputs": [
    {
     "name": "stdout",
     "output_type": "stream",
     "text": [
      "<class 'pandas.core.frame.DataFrame'>\n",
      "Int64Index: 1456 entries, 0 to 1459\n",
      "Data columns (total 81 columns):\n",
      " #   Column         Non-Null Count  Dtype  \n",
      "---  ------         --------------  -----  \n",
      " 0   Id             1456 non-null   int64  \n",
      " 1   MSSubClass     1456 non-null   int64  \n",
      " 2   MSZoning       1456 non-null   object \n",
      " 3   LotFrontage    1197 non-null   float64\n",
      " 4   LotArea        1456 non-null   int64  \n",
      " 5   Street         1456 non-null   object \n",
      " 6   Alley          91 non-null     object \n",
      " 7   LotShape       1456 non-null   object \n",
      " 8   LandContour    1456 non-null   object \n",
      " 9   Utilities      1456 non-null   object \n",
      " 10  LotConfig      1456 non-null   object \n",
      " 11  LandSlope      1456 non-null   object \n",
      " 12  Neighborhood   1456 non-null   object \n",
      " 13  Condition1     1456 non-null   object \n",
      " 14  Condition2     1456 non-null   object \n",
      " 15  BldgType       1456 non-null   object \n",
      " 16  HouseStyle     1456 non-null   object \n",
      " 17  OverallQual    1456 non-null   int64  \n",
      " 18  OverallCond    1456 non-null   int64  \n",
      " 19  YearBuilt      1456 non-null   int64  \n",
      " 20  YearRemodAdd   1456 non-null   int64  \n",
      " 21  RoofStyle      1456 non-null   object \n",
      " 22  RoofMatl       1456 non-null   object \n",
      " 23  Exterior1st    1456 non-null   object \n",
      " 24  Exterior2nd    1456 non-null   object \n",
      " 25  MasVnrType     1448 non-null   object \n",
      " 26  MasVnrArea     1448 non-null   float64\n",
      " 27  ExterQual      1456 non-null   object \n",
      " 28  ExterCond      1456 non-null   object \n",
      " 29  Foundation     1456 non-null   object \n",
      " 30  BsmtQual       1419 non-null   object \n",
      " 31  BsmtCond       1419 non-null   object \n",
      " 32  BsmtExposure   1418 non-null   object \n",
      " 33  BsmtFinType1   1419 non-null   object \n",
      " 34  BsmtFinSF1     1456 non-null   int64  \n",
      " 35  BsmtFinType2   1418 non-null   object \n",
      " 36  BsmtFinSF2     1456 non-null   int64  \n",
      " 37  BsmtUnfSF      1456 non-null   int64  \n",
      " 38  TotalBsmtSF    1456 non-null   int64  \n",
      " 39  Heating        1456 non-null   object \n",
      " 40  HeatingQC      1456 non-null   object \n",
      " 41  CentralAir     1456 non-null   object \n",
      " 42  Electrical     1455 non-null   object \n",
      " 43  1stFlrSF       1456 non-null   int64  \n",
      " 44  2ndFlrSF       1456 non-null   int64  \n",
      " 45  LowQualFinSF   1456 non-null   int64  \n",
      " 46  GrLivArea      1456 non-null   int64  \n",
      " 47  BsmtFullBath   1456 non-null   int64  \n",
      " 48  BsmtHalfBath   1456 non-null   int64  \n",
      " 49  FullBath       1456 non-null   int64  \n",
      " 50  HalfBath       1456 non-null   int64  \n",
      " 51  BedroomAbvGr   1456 non-null   int64  \n",
      " 52  KitchenAbvGr   1456 non-null   int64  \n",
      " 53  KitchenQual    1456 non-null   object \n",
      " 54  TotRmsAbvGrd   1456 non-null   int64  \n",
      " 55  Functional     1456 non-null   object \n",
      " 56  Fireplaces     1456 non-null   int64  \n",
      " 57  FireplaceQu    766 non-null    object \n",
      " 58  GarageType     1375 non-null   object \n",
      " 59  GarageYrBlt    1375 non-null   float64\n",
      " 60  GarageFinish   1375 non-null   object \n",
      " 61  GarageCars     1456 non-null   int64  \n",
      " 62  GarageArea     1456 non-null   int64  \n",
      " 63  GarageQual     1375 non-null   object \n",
      " 64  GarageCond     1375 non-null   object \n",
      " 65  PavedDrive     1456 non-null   object \n",
      " 66  WoodDeckSF     1456 non-null   int64  \n",
      " 67  OpenPorchSF    1456 non-null   int64  \n",
      " 68  EnclosedPorch  1456 non-null   int64  \n",
      " 69  3SsnPorch      1456 non-null   int64  \n",
      " 70  ScreenPorch    1456 non-null   int64  \n",
      " 71  PoolArea       1456 non-null   int64  \n",
      " 72  PoolQC         5 non-null      object \n",
      " 73  Fence          280 non-null    object \n",
      " 74  MiscFeature    54 non-null     object \n",
      " 75  MiscVal        1456 non-null   int64  \n",
      " 76  MoSold         1456 non-null   int64  \n",
      " 77  YrSold         1456 non-null   int64  \n",
      " 78  SaleType       1456 non-null   object \n",
      " 79  SaleCondition  1456 non-null   object \n",
      " 80  SalePrice      1456 non-null   int64  \n",
      "dtypes: float64(3), int64(35), object(43)\n",
      "memory usage: 932.8+ KB\n"
     ]
    }
   ],
   "source": [
    "df.info()"
   ]
  },
  {
   "cell_type": "markdown",
   "metadata": {},
   "source": [
    "## Check whether there are variables with significant missing values. \n",
    "\n",
    "It looks like PoolQC , MiscFeature, Alley, Fence, FireplaceQu,LotFrontage have substantial missing values. \n",
    "\n",
    "Looking closer into the descriptions of these variables, we find most NA actually means the house does not have such feature. For example, if a value is missing from PoolQC, most likely that house doesn't even have a pool.\n",
    "\n",
    "So we looked at the variables, to see which ones will fall under this category and fill it with \"NonExist\" as a distinct category."
   ]
  },
  {
   "cell_type": "code",
   "execution_count": 5,
   "metadata": {},
   "outputs": [
    {
     "data": {
      "text/html": [
       "<div>\n",
       "<style scoped>\n",
       "    .dataframe tbody tr th:only-of-type {\n",
       "        vertical-align: middle;\n",
       "    }\n",
       "\n",
       "    .dataframe tbody tr th {\n",
       "        vertical-align: top;\n",
       "    }\n",
       "\n",
       "    .dataframe thead th {\n",
       "        text-align: right;\n",
       "    }\n",
       "</style>\n",
       "<table border=\"1\" class=\"dataframe\">\n",
       "  <thead>\n",
       "    <tr style=\"text-align: right;\">\n",
       "      <th></th>\n",
       "      <th>Missing Values</th>\n",
       "      <th>Percentage Missing</th>\n",
       "    </tr>\n",
       "  </thead>\n",
       "  <tbody>\n",
       "    <tr>\n",
       "      <th>PoolQC</th>\n",
       "      <td>1451</td>\n",
       "      <td>99.656593</td>\n",
       "    </tr>\n",
       "    <tr>\n",
       "      <th>MiscFeature</th>\n",
       "      <td>1402</td>\n",
       "      <td>96.291209</td>\n",
       "    </tr>\n",
       "    <tr>\n",
       "      <th>Alley</th>\n",
       "      <td>1365</td>\n",
       "      <td>93.750000</td>\n",
       "    </tr>\n",
       "    <tr>\n",
       "      <th>Fence</th>\n",
       "      <td>1176</td>\n",
       "      <td>80.769231</td>\n",
       "    </tr>\n",
       "    <tr>\n",
       "      <th>FireplaceQu</th>\n",
       "      <td>690</td>\n",
       "      <td>47.390110</td>\n",
       "    </tr>\n",
       "    <tr>\n",
       "      <th>LotFrontage</th>\n",
       "      <td>259</td>\n",
       "      <td>17.788462</td>\n",
       "    </tr>\n",
       "    <tr>\n",
       "      <th>GarageType</th>\n",
       "      <td>81</td>\n",
       "      <td>5.563187</td>\n",
       "    </tr>\n",
       "    <tr>\n",
       "      <th>GarageQual</th>\n",
       "      <td>81</td>\n",
       "      <td>5.563187</td>\n",
       "    </tr>\n",
       "    <tr>\n",
       "      <th>GarageFinish</th>\n",
       "      <td>81</td>\n",
       "      <td>5.563187</td>\n",
       "    </tr>\n",
       "    <tr>\n",
       "      <th>GarageCond</th>\n",
       "      <td>81</td>\n",
       "      <td>5.563187</td>\n",
       "    </tr>\n",
       "    <tr>\n",
       "      <th>GarageYrBlt</th>\n",
       "      <td>81</td>\n",
       "      <td>5.563187</td>\n",
       "    </tr>\n",
       "    <tr>\n",
       "      <th>BsmtFinType2</th>\n",
       "      <td>38</td>\n",
       "      <td>2.609890</td>\n",
       "    </tr>\n",
       "    <tr>\n",
       "      <th>BsmtExposure</th>\n",
       "      <td>38</td>\n",
       "      <td>2.609890</td>\n",
       "    </tr>\n",
       "    <tr>\n",
       "      <th>BsmtQual</th>\n",
       "      <td>37</td>\n",
       "      <td>2.541209</td>\n",
       "    </tr>\n",
       "    <tr>\n",
       "      <th>BsmtCond</th>\n",
       "      <td>37</td>\n",
       "      <td>2.541209</td>\n",
       "    </tr>\n",
       "    <tr>\n",
       "      <th>BsmtFinType1</th>\n",
       "      <td>37</td>\n",
       "      <td>2.541209</td>\n",
       "    </tr>\n",
       "    <tr>\n",
       "      <th>MasVnrArea</th>\n",
       "      <td>8</td>\n",
       "      <td>0.549451</td>\n",
       "    </tr>\n",
       "    <tr>\n",
       "      <th>MasVnrType</th>\n",
       "      <td>8</td>\n",
       "      <td>0.549451</td>\n",
       "    </tr>\n",
       "    <tr>\n",
       "      <th>Electrical</th>\n",
       "      <td>1</td>\n",
       "      <td>0.068681</td>\n",
       "    </tr>\n",
       "  </tbody>\n",
       "</table>\n",
       "</div>"
      ],
      "text/plain": [
       "              Missing Values  Percentage Missing\n",
       "PoolQC                  1451           99.656593\n",
       "MiscFeature             1402           96.291209\n",
       "Alley                   1365           93.750000\n",
       "Fence                   1176           80.769231\n",
       "FireplaceQu              690           47.390110\n",
       "LotFrontage              259           17.788462\n",
       "GarageType                81            5.563187\n",
       "GarageQual                81            5.563187\n",
       "GarageFinish              81            5.563187\n",
       "GarageCond                81            5.563187\n",
       "GarageYrBlt               81            5.563187\n",
       "BsmtFinType2              38            2.609890\n",
       "BsmtExposure              38            2.609890\n",
       "BsmtQual                  37            2.541209\n",
       "BsmtCond                  37            2.541209\n",
       "BsmtFinType1              37            2.541209\n",
       "MasVnrArea                 8            0.549451\n",
       "MasVnrType                 8            0.549451\n",
       "Electrical                 1            0.068681"
      ]
     },
     "execution_count": 5,
     "metadata": {},
     "output_type": "execute_result"
    }
   ],
   "source": [
    "missing=df.isnull().sum().sort_values(ascending=False).head(20)\n",
    "missing\n",
    "\n",
    "missing = missing[missing > 0]\n",
    "percent_missing = missing * 100 / df.shape[0]\n",
    "pd.concat([missing, percent_missing], axis=1, \n",
    "          keys=['Missing Values', 'Percentage Missing']).\\\n",
    "          sort_values(by=\"Missing Values\", ascending=False)"
   ]
  },
  {
   "cell_type": "code",
   "execution_count": 6,
   "metadata": {},
   "outputs": [
    {
     "data": {
      "text/html": [
       "<div>\n",
       "<style scoped>\n",
       "    .dataframe tbody tr th:only-of-type {\n",
       "        vertical-align: middle;\n",
       "    }\n",
       "\n",
       "    .dataframe tbody tr th {\n",
       "        vertical-align: top;\n",
       "    }\n",
       "\n",
       "    .dataframe thead th {\n",
       "        text-align: right;\n",
       "    }\n",
       "</style>\n",
       "<table border=\"1\" class=\"dataframe\">\n",
       "  <thead>\n",
       "    <tr style=\"text-align: right;\">\n",
       "      <th></th>\n",
       "      <th>Missing Values After filling Non_Exist</th>\n",
       "      <th>Percentage Missing</th>\n",
       "    </tr>\n",
       "  </thead>\n",
       "  <tbody>\n",
       "    <tr>\n",
       "      <th>LotFrontage</th>\n",
       "      <td>259</td>\n",
       "      <td>17.788462</td>\n",
       "    </tr>\n",
       "    <tr>\n",
       "      <th>GarageFinish</th>\n",
       "      <td>81</td>\n",
       "      <td>5.563187</td>\n",
       "    </tr>\n",
       "    <tr>\n",
       "      <th>GarageCond</th>\n",
       "      <td>81</td>\n",
       "      <td>5.563187</td>\n",
       "    </tr>\n",
       "    <tr>\n",
       "      <th>GarageYrBlt</th>\n",
       "      <td>81</td>\n",
       "      <td>5.563187</td>\n",
       "    </tr>\n",
       "    <tr>\n",
       "      <th>GarageQual</th>\n",
       "      <td>81</td>\n",
       "      <td>5.563187</td>\n",
       "    </tr>\n",
       "    <tr>\n",
       "      <th>GarageType</th>\n",
       "      <td>81</td>\n",
       "      <td>5.563187</td>\n",
       "    </tr>\n",
       "    <tr>\n",
       "      <th>BsmtFinType2</th>\n",
       "      <td>38</td>\n",
       "      <td>2.609890</td>\n",
       "    </tr>\n",
       "    <tr>\n",
       "      <th>BsmtExposure</th>\n",
       "      <td>38</td>\n",
       "      <td>2.609890</td>\n",
       "    </tr>\n",
       "    <tr>\n",
       "      <th>BsmtCond</th>\n",
       "      <td>37</td>\n",
       "      <td>2.541209</td>\n",
       "    </tr>\n",
       "    <tr>\n",
       "      <th>BsmtFinType1</th>\n",
       "      <td>37</td>\n",
       "      <td>2.541209</td>\n",
       "    </tr>\n",
       "    <tr>\n",
       "      <th>BsmtQual</th>\n",
       "      <td>37</td>\n",
       "      <td>2.541209</td>\n",
       "    </tr>\n",
       "    <tr>\n",
       "      <th>MasVnrArea</th>\n",
       "      <td>8</td>\n",
       "      <td>0.549451</td>\n",
       "    </tr>\n",
       "    <tr>\n",
       "      <th>MasVnrType</th>\n",
       "      <td>8</td>\n",
       "      <td>0.549451</td>\n",
       "    </tr>\n",
       "    <tr>\n",
       "      <th>Electrical</th>\n",
       "      <td>1</td>\n",
       "      <td>0.068681</td>\n",
       "    </tr>\n",
       "  </tbody>\n",
       "</table>\n",
       "</div>"
      ],
      "text/plain": [
       "              Missing Values After filling Non_Exist  Percentage Missing\n",
       "LotFrontage                                      259           17.788462\n",
       "GarageFinish                                      81            5.563187\n",
       "GarageCond                                        81            5.563187\n",
       "GarageYrBlt                                       81            5.563187\n",
       "GarageQual                                        81            5.563187\n",
       "GarageType                                        81            5.563187\n",
       "BsmtFinType2                                      38            2.609890\n",
       "BsmtExposure                                      38            2.609890\n",
       "BsmtCond                                          37            2.541209\n",
       "BsmtFinType1                                      37            2.541209\n",
       "BsmtQual                                          37            2.541209\n",
       "MasVnrArea                                         8            0.549451\n",
       "MasVnrType                                         8            0.549451\n",
       "Electrical                                         1            0.068681"
      ]
     },
     "execution_count": 6,
     "metadata": {},
     "output_type": "execute_result"
    }
   ],
   "source": [
    "# Fill missing value of 'PoolQC','MiscFeature','Alley','Fence','FireplaceQu' as NonExist. Leave LotFrontage for further investigation\n",
    "df[['PoolQC','MiscFeature','Alley','Fence','FireplaceQu']]=df[['PoolQC','MiscFeature','Alley','Fence','FireplaceQu']].fillna('NonExist')\n",
    "missing_with_replace=df.isnull().sum().sort_values(ascending=False).head(20)\n",
    "missing_with_replace\n",
    "\n",
    "\n",
    "missing_with_replace = missing_with_replace[missing_with_replace > 0]\n",
    "percent_missing = missing_with_replace * 100 / df.shape[0]\n",
    "pd.concat([missing_with_replace, percent_missing], axis=1, \n",
    "          keys=['Missing Values After filling Non_Exist', 'Percentage Missing']).\\\n",
    "          sort_values(by=\"Missing Values After filling Non_Exist\", ascending=False)"
   ]
  },
  {
   "cell_type": "markdown",
   "metadata": {},
   "source": [
    "### Where we decided to leave it\n",
    "\n",
    "We replaced \"Pool, Misc Features, Alley, Fence and Fireplace\". Those seemed obvious and missing values % was very high. \n",
    "\n",
    "However, we were on the fence (no pun intended) on the Lot Frontage. So we replaced with \"NoLotFrontage\"\n",
    "\n",
    "The next top of the residual missing values were all related to Garage (GarageYrBlt, GarageCond, GarageType, GarageFinish, GarageQual). All of them had the same number of missing values. And reviewing the data description it seems to us that these 81 houses did not have a garage. So we replaced them with \"NoGarage\"\n",
    "\n",
    "Same for NoBasement and NoMassVnr.\n",
    "\n",
    "For the first round we decide to keep rest as is."
   ]
  },
  {
   "cell_type": "code",
   "execution_count": 7,
   "metadata": {},
   "outputs": [],
   "source": [
    "# split data into Test and train\n",
    "X_train, X_test, y_train, y_test = train_test_split(\n",
    "    data_loader.df_X, data_loader.df_y, test_size= 0.10, random_state=1)"
   ]
  },
  {
   "cell_type": "markdown",
   "metadata": {},
   "source": [
    "## Initial Look at the data:"
   ]
  },
  {
   "cell_type": "code",
   "execution_count": 8,
   "metadata": {},
   "outputs": [
    {
     "name": "stdout",
     "output_type": "stream",
     "text": [
      "X_train size: (1310, 79), X_test size: (146, 79)\n",
      "y_train size: (1310, 1), y_test size: (146, 1)\n"
     ]
    },
    {
     "data": {
      "text/html": [
       "<div>\n",
       "<style scoped>\n",
       "    .dataframe tbody tr th:only-of-type {\n",
       "        vertical-align: middle;\n",
       "    }\n",
       "\n",
       "    .dataframe tbody tr th {\n",
       "        vertical-align: top;\n",
       "    }\n",
       "\n",
       "    .dataframe thead th {\n",
       "        text-align: right;\n",
       "    }\n",
       "</style>\n",
       "<table border=\"1\" class=\"dataframe\">\n",
       "  <thead>\n",
       "    <tr style=\"text-align: right;\">\n",
       "      <th></th>\n",
       "      <th>MSSubClass</th>\n",
       "      <th>MSZoning</th>\n",
       "      <th>LotFrontage</th>\n",
       "      <th>LotArea</th>\n",
       "      <th>Street</th>\n",
       "      <th>Alley</th>\n",
       "      <th>LotShape</th>\n",
       "      <th>LandContour</th>\n",
       "      <th>Utilities</th>\n",
       "      <th>LotConfig</th>\n",
       "      <th>...</th>\n",
       "      <th>ScreenPorch</th>\n",
       "      <th>PoolArea</th>\n",
       "      <th>PoolQC</th>\n",
       "      <th>Fence</th>\n",
       "      <th>MiscFeature</th>\n",
       "      <th>MiscVal</th>\n",
       "      <th>MoSold</th>\n",
       "      <th>YrSold</th>\n",
       "      <th>SaleType</th>\n",
       "      <th>SaleCondition</th>\n",
       "    </tr>\n",
       "  </thead>\n",
       "  <tbody>\n",
       "    <tr>\n",
       "      <th>498</th>\n",
       "      <td>20</td>\n",
       "      <td>RL</td>\n",
       "      <td>65.0</td>\n",
       "      <td>7800</td>\n",
       "      <td>Pave</td>\n",
       "      <td>NaN</td>\n",
       "      <td>Reg</td>\n",
       "      <td>Lvl</td>\n",
       "      <td>AllPub</td>\n",
       "      <td>Inside</td>\n",
       "      <td>...</td>\n",
       "      <td>0</td>\n",
       "      <td>0</td>\n",
       "      <td>NaN</td>\n",
       "      <td>MnPrv</td>\n",
       "      <td>NaN</td>\n",
       "      <td>0</td>\n",
       "      <td>6</td>\n",
       "      <td>2009</td>\n",
       "      <td>WD</td>\n",
       "      <td>Normal</td>\n",
       "    </tr>\n",
       "    <tr>\n",
       "      <th>721</th>\n",
       "      <td>120</td>\n",
       "      <td>RM</td>\n",
       "      <td>NaN</td>\n",
       "      <td>4426</td>\n",
       "      <td>Pave</td>\n",
       "      <td>NaN</td>\n",
       "      <td>Reg</td>\n",
       "      <td>Lvl</td>\n",
       "      <td>AllPub</td>\n",
       "      <td>Inside</td>\n",
       "      <td>...</td>\n",
       "      <td>0</td>\n",
       "      <td>0</td>\n",
       "      <td>NaN</td>\n",
       "      <td>NaN</td>\n",
       "      <td>NaN</td>\n",
       "      <td>0</td>\n",
       "      <td>5</td>\n",
       "      <td>2010</td>\n",
       "      <td>WD</td>\n",
       "      <td>Normal</td>\n",
       "    </tr>\n",
       "    <tr>\n",
       "      <th>177</th>\n",
       "      <td>50</td>\n",
       "      <td>RL</td>\n",
       "      <td>NaN</td>\n",
       "      <td>13650</td>\n",
       "      <td>Pave</td>\n",
       "      <td>NaN</td>\n",
       "      <td>Reg</td>\n",
       "      <td>Lvl</td>\n",
       "      <td>AllPub</td>\n",
       "      <td>Inside</td>\n",
       "      <td>...</td>\n",
       "      <td>0</td>\n",
       "      <td>0</td>\n",
       "      <td>NaN</td>\n",
       "      <td>NaN</td>\n",
       "      <td>NaN</td>\n",
       "      <td>0</td>\n",
       "      <td>7</td>\n",
       "      <td>2006</td>\n",
       "      <td>WD</td>\n",
       "      <td>Normal</td>\n",
       "    </tr>\n",
       "    <tr>\n",
       "      <th>585</th>\n",
       "      <td>20</td>\n",
       "      <td>RL</td>\n",
       "      <td>88.0</td>\n",
       "      <td>11443</td>\n",
       "      <td>Pave</td>\n",
       "      <td>NaN</td>\n",
       "      <td>Reg</td>\n",
       "      <td>Lvl</td>\n",
       "      <td>AllPub</td>\n",
       "      <td>Inside</td>\n",
       "      <td>...</td>\n",
       "      <td>0</td>\n",
       "      <td>0</td>\n",
       "      <td>NaN</td>\n",
       "      <td>NaN</td>\n",
       "      <td>NaN</td>\n",
       "      <td>0</td>\n",
       "      <td>3</td>\n",
       "      <td>2006</td>\n",
       "      <td>New</td>\n",
       "      <td>Partial</td>\n",
       "    </tr>\n",
       "    <tr>\n",
       "      <th>1394</th>\n",
       "      <td>120</td>\n",
       "      <td>RL</td>\n",
       "      <td>53.0</td>\n",
       "      <td>4045</td>\n",
       "      <td>Pave</td>\n",
       "      <td>NaN</td>\n",
       "      <td>Reg</td>\n",
       "      <td>Lvl</td>\n",
       "      <td>AllPub</td>\n",
       "      <td>Inside</td>\n",
       "      <td>...</td>\n",
       "      <td>0</td>\n",
       "      <td>0</td>\n",
       "      <td>NaN</td>\n",
       "      <td>NaN</td>\n",
       "      <td>NaN</td>\n",
       "      <td>0</td>\n",
       "      <td>10</td>\n",
       "      <td>2006</td>\n",
       "      <td>New</td>\n",
       "      <td>Partial</td>\n",
       "    </tr>\n",
       "  </tbody>\n",
       "</table>\n",
       "<p>5 rows × 79 columns</p>\n",
       "</div>"
      ],
      "text/plain": [
       "      MSSubClass MSZoning  LotFrontage  LotArea Street Alley LotShape  \\\n",
       "498           20       RL         65.0     7800   Pave   NaN      Reg   \n",
       "721          120       RM          NaN     4426   Pave   NaN      Reg   \n",
       "177           50       RL          NaN    13650   Pave   NaN      Reg   \n",
       "585           20       RL         88.0    11443   Pave   NaN      Reg   \n",
       "1394         120       RL         53.0     4045   Pave   NaN      Reg   \n",
       "\n",
       "     LandContour Utilities LotConfig  ... ScreenPorch PoolArea PoolQC  Fence  \\\n",
       "498          Lvl    AllPub    Inside  ...           0        0    NaN  MnPrv   \n",
       "721          Lvl    AllPub    Inside  ...           0        0    NaN    NaN   \n",
       "177          Lvl    AllPub    Inside  ...           0        0    NaN    NaN   \n",
       "585          Lvl    AllPub    Inside  ...           0        0    NaN    NaN   \n",
       "1394         Lvl    AllPub    Inside  ...           0        0    NaN    NaN   \n",
       "\n",
       "     MiscFeature MiscVal  MoSold  YrSold  SaleType  SaleCondition  \n",
       "498          NaN       0       6    2009        WD         Normal  \n",
       "721          NaN       0       5    2010        WD         Normal  \n",
       "177          NaN       0       7    2006        WD         Normal  \n",
       "585          NaN       0       3    2006       New        Partial  \n",
       "1394         NaN       0      10    2006       New        Partial  \n",
       "\n",
       "[5 rows x 79 columns]"
      ]
     },
     "execution_count": 8,
     "metadata": {},
     "output_type": "execute_result"
    }
   ],
   "source": [
    "print(f'X_train size: {X_train.shape}, X_test size: {X_test.shape}')\n",
    "print(f'y_train size: {y_train.shape}, y_test size: {y_test.shape}')\n",
    "X_train.head()"
   ]
  },
  {
   "cell_type": "markdown",
   "metadata": {},
   "source": [
    "Above result shows that\n",
    "1.  The **train** set has **1314** records (1314 labelled houses)\n",
    "2.  The **test** set has **146 long** records (146 labelled houses)\n",
    "3.  Each house has **79 features**. \n",
    "4.  Features are a mix of **nominal, ordinal, and categorical**\n",
    "5.  We will have to be cognisant of the different data types for our assessments"
   ]
  },
  {
   "cell_type": "markdown",
   "metadata": {},
   "source": [
    "## Analysis on SalePrice\n",
    "#### Confirming whether our Target Variable is Normally Distributed"
   ]
  },
  {
   "cell_type": "code",
   "execution_count": 9,
   "metadata": {},
   "outputs": [
    {
     "data": {
      "text/plain": [
       "Text(0.5, 1.0, 'Sale Price Normality Evaluation')"
      ]
     },
     "execution_count": 9,
     "metadata": {},
     "output_type": "execute_result"
    },
    {
     "data": {
      "image/png": "[encoded data removed]",
      "text/plain": [
       "<Figure size 432x288 with 1 Axes>"
      ]
     },
     "metadata": {
      "needs_background": "light"
     },
     "output_type": "display_data"
    }
   ],
   "source": [
    "#Overall Saleprice distribution (Target variable should be a normally distributed variable)\n",
    "\n",
    "sns.distplot(df['SalePrice'], kde=False, color=\"#172B4D\", hist_kws={\"alpha\": 0.8})\n",
    "plt.ylabel(\"Count\")\n",
    "plt.title(\"Sale Price Normality Evaluation\")"
   ]
  },
  {
   "cell_type": "markdown",
   "metadata": {},
   "source": [
    "# Validating Different Regressor"
   ]
  },
  {
   "cell_type": "markdown",
   "metadata": {},
   "source": [
    "Here we are training multiple regression models on the Training set and at the end we compare the results"
   ]
  },
  {
   "cell_type": "markdown",
   "metadata": {},
   "source": [
    "## Base Regressor \n",
    "Using this as the base class for all regressor to share the common diagnostics like: Plotting RMSE, and other diagnostics plots"
   ]
  },
  {
   "cell_type": "code",
   "execution_count": 10,
   "metadata": {},
   "outputs": [],
   "source": [
    "args.list_of_sections_to_skip=[]"
   ]
  },
  {
   "cell_type": "code",
   "execution_count": 11,
   "metadata": {},
   "outputs": [],
   "source": [
    "RMSE_Scores=[]"
   ]
  },
  {
   "cell_type": "markdown",
   "metadata": {},
   "source": [
    "## Linear Regression"
   ]
  },
  {
   "cell_type": "code",
   "execution_count": 12,
   "metadata": {},
   "outputs": [
    {
     "name": "stdout",
     "output_type": "stream",
     "text": [
      "RMSE:29325.596201952554\n"
     ]
    },
    {
     "data": {
      "image/png": "[encoded data removed]",
      "text/plain": [
       "<Figure size 1080x576 with 2 Axes>"
      ]
     },
     "metadata": {
      "needs_background": "light"
     },
     "output_type": "display_data"
    }
   ],
   "source": [
    "def analyze_linear_regression():\n",
    "    X_train, X_test, y_train, y_test = data_loader.get_clean_encoded_data()\n",
    "    regressor = LinearRegressor()\n",
    "    regressor.fit(X_train, y_train)\n",
    "    predicted = regressor.get_predicted(X_test)\n",
    "\n",
    "    \n",
    "    # plot dignostics\n",
    "    fig, axes = plt.subplots(1, 2, figsize=(15, 8))\n",
    "    BaseRegressorPlot.plot_predicted_vs_actual(axes[0], predicted, y_test)\n",
    "    BaseRegressorPlot.plot_learning_curves(axes[1], regressor, data_loader)\n",
    "    print(\"RMSE:\" + str(mean_squared_error(y_test, predicted, squared=False)))\n",
    "    RMSE=mean_squared_error(y_test, predicted, squared=False)\n",
    "    RMSE_Scores.append(RMSE)\n",
    "\n",
    "analyze_linear_regression()"
   ]
  },
  {
   "cell_type": "markdown",
   "metadata": {},
   "source": [
    "## Regularized Regressions\n",
    "- Rigde Regression\n",
    "- Lasso Regression\n",
    "- Elstic Net"
   ]
  },
  {
   "cell_type": "markdown",
   "metadata": {},
   "source": [
    "## Ridge Regression\n",
    "In this section we analyze Ridge regression "
   ]
  },
  {
   "cell_type": "markdown",
   "metadata": {},
   "source": [
    "Ridge is regularized version of linear regression\n",
    "\n",
    "It adds $ \\Sigma_{\\ i=1}^{\\ n} \\ \\theta_i^{\\ 2}$  regularization term to cost function to keep the model weight as samll as possible.\n",
    "\n",
    "Ridge Regression cost function:\n",
    "\n",
    "$$ J(\\theta) \\ = \\ MSE(\\theta) + \\alpha \\ \\frac{1}{2} \\Sigma_{\\ i=1}^{\\ n} \\ \\theta_i^{\\ 2} $$"
   ]
  },
  {
   "cell_type": "code",
   "execution_count": 13,
   "metadata": {},
   "outputs": [
    {
     "name": "stdout",
     "output_type": "stream",
     "text": [
      "29406.413053315344\n"
     ]
    },
    {
     "data": {
      "image/png": "[encoded data removed]",
      "text/plain": [
       "<Figure size 1080x432 with 2 Axes>"
      ]
     },
     "metadata": {
      "needs_background": "light"
     },
     "output_type": "display_data"
    }
   ],
   "source": [
    "def analyze_ridge_regression():\n",
    "    X_train, X_test, y_train, y_test = data_loader.get_clean_encoded_data()\n",
    "    regressor = RidgeRegressor()\n",
    "    regressor.fit(X_train, y_train)\n",
    "    predicted = regressor.get_predicted(X_test)\n",
    "\n",
    "    \n",
    "    # plot dignostics\n",
    "    fig, axes = plt.subplots(1, 2, figsize=(15, 6))\n",
    "    BaseRegressorPlot.plot_predicted_vs_actual(axes[0], predicted, y_test)\n",
    "    BaseRegressorPlot.plot_learning_curves(axes[1], regressor, data_loader)\n",
    "    print(mean_squared_error(y_test, predicted,squared=False))\n",
    "    RMSE=mean_squared_error(y_test, predicted, squared=False)\n",
    "    RMSE_Scores.append(RMSE)\n",
    "\n",
    "analyze_ridge_regression()\n",
    "\n"
   ]
  },
  {
   "cell_type": "markdown",
   "metadata": {},
   "source": [
    "## Lasso Regression"
   ]
  },
  {
   "cell_type": "markdown",
   "metadata": {},
   "source": [
    "Lasso adds a regularization term to the cost function, but it uses the ℓ1 norm of the weight vector instead of half the square of the ℓ2 norm\n",
    "\n",
    "Lasso Regression cost function\n",
    "\n",
    " $$ J(\\theta) \\ = \\ MSE(\\theta) + \\alpha \\  \\Sigma_{\\ i=1}^{\\ n} \\ |\\theta_i| $$\n",
    "\n",
    "An important characteristic of Lasso Regression is that it tends to eliminate the weights of the least important features (i.e., set them to zero).\n",
    "\n",
    "In other words, Lasso Regression automatically performs feature selection and outputs a sparse model (i.e., with few nonzero feature weights).\n",
    "\n",
    "Note: Lasso regression has $\\alpha$ as hyperparmeter which needs to be searched "
   ]
  },
  {
   "cell_type": "code",
   "execution_count": 14,
   "metadata": {},
   "outputs": [
    {
     "name": "stdout",
     "output_type": "stream",
     "text": [
      "29340.796981186755\n"
     ]
    },
    {
     "data": {
      "image/png": "[encoded data removed]",
      "text/plain": [
       "<Figure size 1080x432 with 2 Axes>"
      ]
     },
     "metadata": {
      "needs_background": "light"
     },
     "output_type": "display_data"
    }
   ],
   "source": [
    "def analyze_lasso_regression():\n",
    "    X_train, X_test, y_train, y_test = data_loader.get_clean_encoded_data()\n",
    "    # TODO later use search for alpha\n",
    "    #regressor = LassoRegressor(alpha=0.1)\n",
    "    regressor = LassoRegressor(alpha=10)\n",
    "    regressor.fit(X_train, y_train)\n",
    "    predicted = regressor.get_predicted(X_test)\n",
    "\n",
    "    # plot dignostics\n",
    "    fig, axes = plt.subplots(1, 2, figsize=(15, 6))\n",
    "    BaseRegressorPlot.plot_predicted_vs_actual(axes[0], predicted, y_test)\n",
    "    BaseRegressorPlot.plot_learning_curves(axes[1], regressor, data_loader)\n",
    "    #plt.scatter(y_test, regressor.predict(X_test))\n",
    "    print(mean_squared_error(y_test, predicted, squared=False))\n",
    "    RMSE=mean_squared_error(y_test, predicted, squared=False)\n",
    "    RMSE_Scores.append(RMSE)\n",
    "\n",
    "analyze_lasso_regression()"
   ]
  },
  {
   "cell_type": "markdown",
   "metadata": {},
   "source": [
    "## Elastic Net"
   ]
  },
  {
   "cell_type": "markdown",
   "metadata": {},
   "source": [
    "For Elastic Net regularization term is a simple mix of both Ridge and Lasso’s regularization terms, and you can control the mix ratio r. When r = 0, Elastic Net is equivalent to Ridge Regression, and when r = 1, it is equivalent to Lasso Regression\n",
    "\n",
    "Elastic Net cost function\n",
    "\n",
    "$$ J(\\theta) \\ = \\ MSE(\\theta) + r \\alpha \\  \\Sigma_{\\ i=1}^{\\ n} \\ |\\theta_i| +  \\frac{1-r}{2} \\alpha \\ \\Sigma_{\\ i=1}^{\\ n} \\ \\theta_i^{\\ 2}$$"
   ]
  },
  {
   "cell_type": "code",
   "execution_count": 15,
   "metadata": {},
   "outputs": [
    {
     "name": "stdout",
     "output_type": "stream",
     "text": [
      "30925.94437179155\n"
     ]
    },
    {
     "data": {
      "image/png": "[encoded data removed]",
      "text/plain": [
       "<Figure size 1080x432 with 2 Axes>"
      ]
     },
     "metadata": {
      "needs_background": "light"
     },
     "output_type": "display_data"
    }
   ],
   "source": [
    "def analyze_elasticnet_regression():\n",
    "    X_train, X_test, y_train, y_test = data_loader.get_clean_encoded_data()\n",
    "    # TODO later use search for alpha\n",
    "    #regressor = ElasticNetRegressor(alpha=0.1, l1_ratio=0.5)\n",
    "    regressor = ElasticNetRegressor(alpha=0.1, l1_ratio=0.5)\n",
    "    regressor.fit(X_train, y_train)\n",
    "    predicted = regressor.get_predicted(X_test)\n",
    "\n",
    "    # plot dignostics\n",
    "    fig, axes = plt.subplots(1, 2, figsize=(15, 6))\n",
    "    BaseRegressorPlot.plot_predicted_vs_actual(axes[0], predicted, y_test)\n",
    "    BaseRegressorPlot.plot_learning_curves(axes[1], regressor, data_loader)\n",
    "    #plt.scatter(y_test, regressor.predict(X_test))\n",
    "    print(mean_squared_error(y_test, predicted, squared=False))\n",
    "    RMSE=mean_squared_error(y_test, predicted, squared=False)\n",
    "    RMSE_Scores.append(RMSE)\n",
    "\n",
    "analyze_elasticnet_regression()"
   ]
  },
  {
   "cell_type": "markdown",
   "metadata": {},
   "source": [
    "## Decision Tree"
   ]
  },
  {
   "cell_type": "code",
   "execution_count": 16,
   "metadata": {},
   "outputs": [
    {
     "name": "stdout",
     "output_type": "stream",
     "text": [
      "37407.315384114045\n"
     ]
    },
    {
     "data": {
      "image/png": "[encoded data removed]",
      "text/plain": [
       "<Figure size 1080x432 with 2 Axes>"
      ]
     },
     "metadata": {
      "needs_background": "light"
     },
     "output_type": "display_data"
    }
   ],
   "source": [
    "def analyze_decision_tree_regression():\n",
    "    X_train, X_test, y_train, y_test = data_loader.get_clean_encoded_data()\n",
    "    regressor = DecisionTreeRegressor()\n",
    "    regressor.fit(X_train, y_train)\n",
    "    predicted = regressor.get_predicted(X_test)\n",
    "\n",
    "    # plot dignostics\n",
    "    fig, axes = plt.subplots(1, 2, figsize=(15, 6))\n",
    "    BaseRegressorPlot.plot_predicted_vs_actual(axes[0], predicted, y_test)\n",
    "    BaseRegressorPlot.plot_learning_curves(axes[1], regressor, data_loader)\n",
    "    #plt.scatter(y_test, regressor.predict(X_test))\n",
    "    print(mean_squared_error(y_test, predicted, squared=False))\n",
    "    RMSE=mean_squared_error(y_test, predicted, squared=False)\n",
    "    RMSE_Scores.append(RMSE)\n",
    "\n",
    "\n",
    "analyze_decision_tree_regression()"
   ]
  },
  {
   "cell_type": "markdown",
   "metadata": {},
   "source": [
    "## Random Forest"
   ]
  },
  {
   "cell_type": "code",
   "execution_count": 17,
   "metadata": {},
   "outputs": [
    {
     "name": "stdout",
     "output_type": "stream",
     "text": [
      "30394.642471529554\n"
     ]
    },
    {
     "data": {
      "image/png": "[encoded data removed]",
      "text/plain": [
       "<Figure size 1080x432 with 2 Axes>"
      ]
     },
     "metadata": {
      "needs_background": "light"
     },
     "output_type": "display_data"
    }
   ],
   "source": [
    "def analyze_random_forest_regression():\n",
    "    X_train, X_test, y_train, y_test = data_loader.get_clean_encoded_data()\n",
    "    regressor = RandomForestRegressor()\n",
    "    regressor.fit(X_train, y_train)\n",
    "    predicted = regressor.get_predicted(X_test)\n",
    "\n",
    "    # plot dignostics\n",
    "    fig, axes = plt.subplots(1, 2, figsize=(15, 6))\n",
    "    BaseRegressorPlot.plot_predicted_vs_actual(axes[0], predicted, y_test)\n",
    "    BaseRegressorPlot.plot_learning_curves(axes[1], regressor, data_loader)\n",
    "    #plt.scatter(y_test, regressor.predict(X_test))\n",
    "    print(mean_squared_error(y_test, predicted, squared=False))\n",
    "    RMSE=mean_squared_error(y_test, predicted, squared=False)\n",
    "    RMSE_Scores.append(RMSE)\n",
    "\n",
    "\n",
    "analyze_random_forest_regression()"
   ]
  },
  {
   "cell_type": "markdown",
   "metadata": {},
   "source": [
    "## Wrapper method\n",
    "This is a recursive feature elemination process to identify features importance"
   ]
  },
  {
   "cell_type": "code",
   "execution_count": 18,
   "metadata": {},
   "outputs": [],
   "source": [
    "#reset the data to all features\n",
    "df_fs_w = data_loader.df\n",
    "X_train_fs_w, X_test_fs_w, y_train_fs_w, y_test_fs_w = train_test_split(\n",
    "    data_loader.df_X, data_loader.df_y, test_size=0.10, random_state=1)\n",
    "\n"
   ]
  },
  {
   "cell_type": "code",
   "execution_count": 19,
   "metadata": {},
   "outputs": [],
   "source": [
    "X_train = data_loader.data_prep(X_train_fs_w)\n",
    "y_train = y_train_fs_w\n",
    "X_test = data_loader.data_prep(X_test_fs_w)\n",
    "y_test = y_test_fs_w\n",
    "\n"
   ]
  },
  {
   "cell_type": "code",
   "execution_count": 20,
   "metadata": {},
   "outputs": [],
   "source": [
    "\n",
    "def rfe_fs(regressor, threshold=20):\n",
    "    ''' Select the most important * features based on the model\n",
    "         and use it as X_train & X_test'''\n",
    "    selector = RFE(regressor, n_features_to_select=threshold, step=1)\n",
    "    selector = selector.fit(X_train, y_train)\n",
    "    selector_ind = selector.get_support()\n",
    "    X_train_rfe = X_train.iloc[:, selector_ind]\n",
    "    X_test_rfe = X_test.iloc[:, selector_ind]\n",
    "\n",
    "    return X_train_rfe, X_test_rfe\n",
    "\n"
   ]
  },
  {
   "cell_type": "code",
   "execution_count": 21,
   "metadata": {},
   "outputs": [],
   "source": [
    "#Initialize List to store RMSE scrores for wrapper function\n",
    "\n",
    "RMSE_Scores_Wrapper=[]"
   ]
  },
  {
   "cell_type": "code",
   "execution_count": 22,
   "metadata": {},
   "outputs": [
    {
     "name": "stdout",
     "output_type": "stream",
     "text": [
      "RMSE =  37698.10661219387\n"
     ]
    },
    {
     "data": {
      "image/png": "[encoded data removed]",
      "text/plain": [
       "<Figure size 432x288 with 1 Axes>"
      ]
     },
     "metadata": {
      "needs_background": "light"
     },
     "output_type": "display_data"
    }
   ],
   "source": [
    "regressor = LinearRegression()\n",
    "\n",
    "def analyze_regression():\n",
    "\n",
    "    X_train_rfe, X_test_rfe = rfe_fs(regressor)\n",
    "    regressor.fit(X_train_rfe, y_train)\n",
    "\n",
    "    # plot dignostics\n",
    "\n",
    "    plt.scatter(y_test, regressor.predict(X_test_rfe))\n",
    "    plt.xlabel(\"SalePrice\")\n",
    "    plt.ylabel(\"Predicted SalePrice\")\n",
    "    print(\"RMSE = \", mean_squared_error(y_test, regressor.predict(X_test_rfe), squared=False))\n",
    "    RMSE=mean_squared_error(y_test, regressor.predict(X_test_rfe), squared=False)\n",
    "    RMSE_Scores_Wrapper.append(RMSE)\n",
    "\n",
    "\n",
    "analyze_regression()"
   ]
  },
  {
   "cell_type": "code",
   "execution_count": 23,
   "metadata": {},
   "outputs": [
    {
     "name": "stdout",
     "output_type": "stream",
     "text": [
      "RMSE =  37739.18820888874\n"
     ]
    },
    {
     "data": {
      "image/png": "[encoded data removed]",
      "text/plain": [
       "<Figure size 432x288 with 1 Axes>"
      ]
     },
     "metadata": {
      "needs_background": "light"
     },
     "output_type": "display_data"
    }
   ],
   "source": [
    "regressor = Ridge()\n",
    "\n",
    "\n",
    "def analyze_regression():\n",
    "\n",
    "    X_train_rfe, X_test_rfe = rfe_fs(regressor)\n",
    "    regressor.fit(X_train_rfe, y_train)\n",
    "\n",
    "    # plot dignostics\n",
    "\n",
    "    plt.scatter(y_test, regressor.predict(X_test_rfe))\n",
    "    plt.xlabel(\"SalePrice\")\n",
    "    plt.ylabel(\"Predicted SalePrice\")\n",
    "    print(\"RMSE = \", mean_squared_error(y_test, regressor.predict(X_test_rfe), squared=False))\n",
    "    RMSE=mean_squared_error(y_test, regressor.predict(X_test_rfe), squared=False)\n",
    "    RMSE_Scores_Wrapper.append(RMSE)\n",
    "\n",
    "\n",
    "analyze_regression()"
   ]
  },
  {
   "cell_type": "code",
   "execution_count": 24,
   "metadata": {},
   "outputs": [
    {
     "name": "stdout",
     "output_type": "stream",
     "text": [
      "RMSE =  37698.27800160666\n"
     ]
    },
    {
     "data": {
      "image/png": "[encoded data removed]",
      "text/plain": [
       "<Figure size 432x288 with 1 Axes>"
      ]
     },
     "metadata": {
      "needs_background": "light"
     },
     "output_type": "display_data"
    }
   ],
   "source": [
    "regressor = Lasso(alpha=0.1)\n",
    "\n",
    "def analyze_regression():\n",
    "\n",
    "    X_train_rfe, X_test_rfe = rfe_fs(regressor)\n",
    "    regressor.fit(X_train_rfe, y_train)\n",
    "\n",
    "    # plot dignostics\n",
    "    \n",
    "    plt.scatter(y_test, regressor.predict(X_test_rfe))\n",
    "    plt.xlabel(\"SalePrice\")\n",
    "    plt.ylabel(\"Predicted SalePrice\")\n",
    "    print(\"RMSE = \", mean_squared_error(y_test, regressor.predict(X_test_rfe), squared=False))\n",
    "    RMSE=mean_squared_error(y_test, regressor.predict(X_test_rfe), squared=False)\n",
    "    RMSE_Scores_Wrapper.append(RMSE)\n",
    "\n",
    "analyze_regression()"
   ]
  },
  {
   "cell_type": "code",
   "execution_count": 25,
   "metadata": {},
   "outputs": [
    {
     "name": "stdout",
     "output_type": "stream",
     "text": [
      "RMSE =  37270.44691112326\n"
     ]
    },
    {
     "data": {
      "image/png": "[encoded data removed]",
      "text/plain": [
       "<Figure size 432x288 with 1 Axes>"
      ]
     },
     "metadata": {
      "needs_background": "light"
     },
     "output_type": "display_data"
    }
   ],
   "source": [
    "regressor = ElasticNet(alpha=0.1, l1_ratio=0.5)\n",
    "\n",
    "def analyze_regression():\n",
    "\n",
    "    X_train_rfe, X_test_rfe = rfe_fs(regressor)\n",
    "    regressor.fit(X_train_rfe, y_train)\n",
    "\n",
    "    # plot dignostics\n",
    "\n",
    "    plt.scatter(y_test, regressor.predict(X_test_rfe))\n",
    "    plt.xlabel(\"SalePrice\")\n",
    "    plt.ylabel(\"Predicted SalePrice\")\n",
    "    print(\"RMSE = \",mean_squared_error(y_test, regressor.predict(X_test_rfe), squared=False))\n",
    "    RMSE=mean_squared_error(y_test, regressor.predict(X_test_rfe), squared=False)\n",
    "    RMSE_Scores_Wrapper.append(RMSE)\n",
    "\n",
    "analyze_regression()"
   ]
  },
  {
   "cell_type": "code",
   "execution_count": 26,
   "metadata": {},
   "outputs": [
    {
     "name": "stdout",
     "output_type": "stream",
     "text": [
      "RMSE =  31025.824756293252\n"
     ]
    },
    {
     "data": {
      "image/png": "[encoded data removed]",
      "text/plain": [
       "<Figure size 432x288 with 1 Axes>"
      ]
     },
     "metadata": {
      "needs_background": "light"
     },
     "output_type": "display_data"
    }
   ],
   "source": [
    "regressor = DTR()\n",
    "\n",
    "def analyze_regression():\n",
    "    \n",
    "    X_train_rfe, X_test_rfe = rfe_fs(regressor)\n",
    "    regressor.fit(X_train_rfe, y_train)\n",
    "\n",
    "    # plot dignostics\n",
    "\n",
    "    plt.scatter(y_test, regressor.predict(X_test_rfe))\n",
    "    plt.xlabel(\"SalePrice\")\n",
    "    plt.ylabel(\"Predicted SalePrice\")\n",
    "    print(\"RMSE = \",mean_squared_error(y_test, regressor.predict(X_test_rfe), squared=False))\n",
    "    RMSE=mean_squared_error(y_test, regressor.predict(X_test_rfe), squared=False)\n",
    "    RMSE_Scores_Wrapper.append(RMSE)\n",
    "\n",
    "analyze_regression()"
   ]
  },
  {
   "cell_type": "code",
   "execution_count": 27,
   "metadata": {},
   "outputs": [
    {
     "name": "stdout",
     "output_type": "stream",
     "text": [
      "RMSE =  29279.573075568525\n"
     ]
    },
    {
     "data": {
      "image/png": "[encoded data removed]",
      "text/plain": [
       "<Figure size 432x288 with 1 Axes>"
      ]
     },
     "metadata": {
      "needs_background": "light"
     },
     "output_type": "display_data"
    }
   ],
   "source": [
    "regressor = RFR()\n",
    "\n",
    "def analyze_regression():\n",
    "\n",
    "    X_train_rfe, X_test_rfe = rfe_fs(regressor)\n",
    "    regressor.fit(X_train_rfe, y_train)\n",
    "\n",
    "    # plot dignostics\n",
    "\n",
    "    plt.scatter(y_test, regressor.predict(X_test_rfe))\n",
    "    plt.xlabel(\"SalePrice\")\n",
    "    plt.ylabel(\"Predicted SalePrice\")\n",
    "    print(\"RMSE = \",mean_squared_error(y_test, regressor.predict(X_test_rfe), squared=False))\n",
    "    RMSE=mean_squared_error(y_test, regressor.predict(X_test_rfe), squared=False)\n",
    "    RMSE_Scores_Wrapper.append(RMSE)\n",
    "\n",
    "analyze_regression()\n",
    "\n"
   ]
  },
  {
   "cell_type": "code",
   "execution_count": 28,
   "metadata": {},
   "outputs": [],
   "source": [
    "from sklearn.model_selection import cross_validate"
   ]
  },
  {
   "cell_type": "markdown",
   "metadata": {},
   "source": [
    "## Using sklearn cross_validate, set as 5 fold (same as default)"
   ]
  },
  {
   "cell_type": "code",
   "execution_count": 29,
   "metadata": {},
   "outputs": [
    {
     "data": {
      "text/plain": [
       "-758174212.8342596"
      ]
     },
     "execution_count": 29,
     "metadata": {},
     "output_type": "execute_result"
    }
   ],
   "source": [
    "def k_fold_cv(model): \n",
    "    score=cross_validate(model,X_train,y_train, cv=5, scoring=\"neg_mean_squared_error\")['test_score']\n",
    "    return score.mean()\n",
    "\n",
    "k_fold_cv(LinearRegression()).mean()\n",
    "\n",
    "# the model produces a metric which is  \"negate MSE\" so the larger the better. Since the metric is suppose\n",
    "# to be used not for model selection but comparison"
   ]
  },
  {
   "cell_type": "code",
   "execution_count": 30,
   "metadata": {},
   "outputs": [
    {
     "name": "stdout",
     "output_type": "stream",
     "text": [
      "For LinearRegression() the average neg_mean_squared_error is -758174212.8342596\n",
      "For Ridge() the average neg_mean_squared_error is -731047348.059858\n",
      "For Lasso(alpha=0.1) the average neg_mean_squared_error is -757929320.7882836\n",
      "For ElasticNet(alpha=0.1) the average neg_mean_squared_error is -718977868.6832272\n",
      "For DecisionTreeRegressor() the average neg_mean_squared_error is -1530975670.9519086\n",
      "For RandomForestRegressor() the average neg_mean_squared_error is -660259926.3207437\n"
     ]
    }
   ],
   "source": [
    "regressor=[LinearRegression(),Ridge(),Lasso(alpha=0.1),ElasticNet(alpha=0.1, l1_ratio=0.5),DTR(),RFR()]\n",
    "\n",
    "for model in regressor:\n",
    "    score_avg=k_fold_cv(model)\n",
    "    print(\"For {model} the average neg_mean_squared_error is {scores}\".\\\n",
    "        format(model=model,scores=score_avg))\n",
    "\n"
   ]
  },
  {
   "cell_type": "markdown",
   "metadata": {},
   "source": [
    "## Hyperparameter tuning"
   ]
  },
  {
   "cell_type": "code",
   "execution_count": 31,
   "metadata": {},
   "outputs": [],
   "source": [
    "RMSE_Scores_Hyper=[]"
   ]
  },
  {
   "cell_type": "code",
   "execution_count": 32,
   "metadata": {},
   "outputs": [
    {
     "name": "stdout",
     "output_type": "stream",
     "text": [
      "Best parameters:\n",
      "{'alpha': 1, 'fit_intercept': False, 'solver': 'svd'}\n",
      "29409.79498245915\n"
     ]
    }
   ],
   "source": [
    "X_train, X_test, y_train, y_test = data_loader.get_clean_encoded_data()\n",
    "\n",
    "def ridge_model_HP():\n",
    "\n",
    "    parameter_space = {\n",
    "        \"alpha\": [1, 10, 100, 290, 500],\n",
    "        \"fit_intercept\": [True, False],\n",
    "        \"solver\": ['svd', 'cholesky', 'lsqr', 'sparse_cg', 'sag', 'saga'],\n",
    "    }\n",
    "\n",
    "    clf = GridSearchCV(Ridge(random_state=3), parameter_space, n_jobs=4,\n",
    "                       cv=3)\n",
    "\n",
    "    clf.fit(X_train, y_train)\n",
    "    print(\"Best parameters:\")\n",
    "    print(clf.best_params_)\n",
    "    \n",
    "    ridge_model = Ridge(random_state=3, **clf.best_params_)\n",
    "    ridge_model.fit(X_train, y_train);\n",
    "\n",
    "    y_pred = ridge_model.predict(X_test)\n",
    "    print(mean_squared_error(y_test, y_pred, squared=False))\n",
    "    RMSE=mean_squared_error(y_test, y_pred, squared=False)\n",
    "    RMSE_Scores_Hyper.append(RMSE)\n",
    "    \n",
    "ridge_model_HP()"
   ]
  },
  {
   "cell_type": "markdown",
   "metadata": {},
   "source": [
    "### Hyperparamter tuning of Lasso Regressor"
   ]
  },
  {
   "cell_type": "code",
   "execution_count": 33,
   "metadata": {},
   "outputs": [
    {
     "name": "stderr",
     "output_type": "stream",
     "text": [
      "/home/pmotameni/anaconda3/envs/w207final/lib/python3.9/site-packages/sklearn/linear_model/_coordinate_descent.py:647: ConvergenceWarning: Objective did not converge. You might want to increase the number of iterations, check the scale of the features or consider increasing regularisation. Duality gap: 8.686e+10, tolerance: 6.679e+08\n",
      "  model = cd_fast.enet_coordinate_descent(\n",
      "/home/pmotameni/anaconda3/envs/w207final/lib/python3.9/site-packages/sklearn/linear_model/_coordinate_descent.py:647: ConvergenceWarning: Objective did not converge. You might want to increase the number of iterations, check the scale of the features or consider increasing regularisation. Duality gap: 8.888e+10, tolerance: 6.599e+08\n",
      "  model = cd_fast.enet_coordinate_descent(\n",
      "/home/pmotameni/anaconda3/envs/w207final/lib/python3.9/site-packages/sklearn/linear_model/_coordinate_descent.py:647: ConvergenceWarning: Objective did not converge. You might want to increase the number of iterations, check the scale of the features or consider increasing regularisation. Duality gap: 8.957e+10, tolerance: 6.750e+08\n",
      "  model = cd_fast.enet_coordinate_descent(\n",
      "/home/pmotameni/anaconda3/envs/w207final/lib/python3.9/site-packages/sklearn/linear_model/_coordinate_descent.py:647: ConvergenceWarning: Objective did not converge. You might want to increase the number of iterations, check the scale of the features or consider increasing regularisation. Duality gap: 8.390e+10, tolerance: 6.836e+08\n",
      "  model = cd_fast.enet_coordinate_descent(\n",
      "/home/pmotameni/anaconda3/envs/w207final/lib/python3.9/site-packages/sklearn/linear_model/_coordinate_descent.py:647: ConvergenceWarning: Objective did not converge. You might want to increase the number of iterations, check the scale of the features or consider increasing regularisation. Duality gap: 8.541e+10, tolerance: 7.002e+08\n",
      "  model = cd_fast.enet_coordinate_descent(\n",
      "/home/pmotameni/anaconda3/envs/w207final/lib/python3.9/site-packages/sklearn/linear_model/_coordinate_descent.py:647: ConvergenceWarning: Objective did not converge. You might want to increase the number of iterations, check the scale of the features or consider increasing regularisation. Duality gap: 6.179e+10, tolerance: 6.657e+08\n",
      "  model = cd_fast.enet_coordinate_descent(\n",
      "/home/pmotameni/anaconda3/envs/w207final/lib/python3.9/site-packages/sklearn/linear_model/_coordinate_descent.py:647: ConvergenceWarning: Objective did not converge. You might want to increase the number of iterations, check the scale of the features or consider increasing regularisation. Duality gap: 8.875e+10, tolerance: 6.735e+08\n",
      "  model = cd_fast.enet_coordinate_descent(\n",
      "/home/pmotameni/anaconda3/envs/w207final/lib/python3.9/site-packages/sklearn/linear_model/_coordinate_descent.py:647: ConvergenceWarning: Objective did not converge. You might want to increase the number of iterations, check the scale of the features or consider increasing regularisation. Duality gap: 9.218e+10, tolerance: 6.821e+08\n",
      "  model = cd_fast.enet_coordinate_descent(\n",
      "/home/pmotameni/anaconda3/envs/w207final/lib/python3.9/site-packages/sklearn/linear_model/_coordinate_descent.py:647: ConvergenceWarning: Objective did not converge. You might want to increase the number of iterations, check the scale of the features or consider increasing regularisation. Duality gap: 8.670e+10, tolerance: 6.764e+08\n",
      "  model = cd_fast.enet_coordinate_descent(\n",
      "/home/pmotameni/anaconda3/envs/w207final/lib/python3.9/site-packages/sklearn/linear_model/_coordinate_descent.py:647: ConvergenceWarning: Objective did not converge. You might want to increase the number of iterations, check the scale of the features or consider increasing regularisation. Duality gap: 8.541e+10, tolerance: 7.002e+08\n",
      "  model = cd_fast.enet_coordinate_descent(\n",
      "/home/pmotameni/anaconda3/envs/w207final/lib/python3.9/site-packages/sklearn/linear_model/_coordinate_descent.py:647: ConvergenceWarning: Objective did not converge. You might want to increase the number of iterations, check the scale of the features or consider increasing regularisation. Duality gap: 6.195e+10, tolerance: 6.748e+08\n",
      "  model = cd_fast.enet_coordinate_descent(\n",
      "/home/pmotameni/anaconda3/envs/w207final/lib/python3.9/site-packages/sklearn/linear_model/_coordinate_descent.py:647: ConvergenceWarning: Objective did not converge. You might want to increase the number of iterations, check the scale of the features or consider increasing regularisation. Duality gap: 6.179e+10, tolerance: 6.657e+08\n",
      "  model = cd_fast.enet_coordinate_descent(\n",
      "/home/pmotameni/anaconda3/envs/w207final/lib/python3.9/site-packages/sklearn/linear_model/_coordinate_descent.py:647: ConvergenceWarning: Objective did not converge. You might want to increase the number of iterations, check the scale of the features or consider increasing regularisation. Duality gap: 8.686e+10, tolerance: 6.679e+08\n",
      "  model = cd_fast.enet_coordinate_descent(\n",
      "/home/pmotameni/anaconda3/envs/w207final/lib/python3.9/site-packages/sklearn/linear_model/_coordinate_descent.py:647: ConvergenceWarning: Objective did not converge. You might want to increase the number of iterations, check the scale of the features or consider increasing regularisation. Duality gap: 8.875e+10, tolerance: 6.735e+08\n",
      "  model = cd_fast.enet_coordinate_descent(\n",
      "/home/pmotameni/anaconda3/envs/w207final/lib/python3.9/site-packages/sklearn/linear_model/_coordinate_descent.py:647: ConvergenceWarning: Objective did not converge. You might want to increase the number of iterations, check the scale of the features or consider increasing regularisation. Duality gap: 8.390e+10, tolerance: 6.836e+08\n",
      "  model = cd_fast.enet_coordinate_descent(\n",
      "/home/pmotameni/anaconda3/envs/w207final/lib/python3.9/site-packages/sklearn/linear_model/_coordinate_descent.py:647: ConvergenceWarning: Objective did not converge. You might want to increase the number of iterations, check the scale of the features or consider increasing regularisation. Duality gap: 8.957e+10, tolerance: 6.750e+08\n",
      "  model = cd_fast.enet_coordinate_descent(\n",
      "/home/pmotameni/anaconda3/envs/w207final/lib/python3.9/site-packages/sklearn/linear_model/_coordinate_descent.py:647: ConvergenceWarning: Objective did not converge. You might want to increase the number of iterations, check the scale of the features or consider increasing regularisation. Duality gap: 9.218e+10, tolerance: 6.821e+08\n",
      "  model = cd_fast.enet_coordinate_descent(\n",
      "/home/pmotameni/anaconda3/envs/w207final/lib/python3.9/site-packages/sklearn/linear_model/_coordinate_descent.py:647: ConvergenceWarning: Objective did not converge. You might want to increase the number of iterations, check the scale of the features or consider increasing regularisation. Duality gap: 8.670e+10, tolerance: 6.764e+08\n",
      "  model = cd_fast.enet_coordinate_descent(\n",
      "/home/pmotameni/anaconda3/envs/w207final/lib/python3.9/site-packages/sklearn/linear_model/_coordinate_descent.py:647: ConvergenceWarning: Objective did not converge. You might want to increase the number of iterations, check the scale of the features or consider increasing regularisation. Duality gap: 8.686e+10, tolerance: 6.679e+08\n",
      "  model = cd_fast.enet_coordinate_descent(\n",
      "/home/pmotameni/anaconda3/envs/w207final/lib/python3.9/site-packages/sklearn/linear_model/_coordinate_descent.py:647: ConvergenceWarning: Objective did not converge. You might want to increase the number of iterations, check the scale of the features or consider increasing regularisation. Duality gap: 6.195e+10, tolerance: 6.748e+08\n",
      "  model = cd_fast.enet_coordinate_descent(\n",
      "/home/pmotameni/anaconda3/envs/w207final/lib/python3.9/site-packages/sklearn/linear_model/_coordinate_descent.py:647: ConvergenceWarning: Objective did not converge. You might want to increase the number of iterations, check the scale of the features or consider increasing regularisation. Duality gap: 8.541e+10, tolerance: 7.002e+08\n",
      "  model = cd_fast.enet_coordinate_descent(\n",
      "/home/pmotameni/anaconda3/envs/w207final/lib/python3.9/site-packages/sklearn/linear_model/_coordinate_descent.py:647: ConvergenceWarning: Objective did not converge. You might want to increase the number of iterations, check the scale of the features or consider increasing regularisation. Duality gap: 8.888e+10, tolerance: 6.599e+08\n",
      "  model = cd_fast.enet_coordinate_descent(\n",
      "/home/pmotameni/anaconda3/envs/w207final/lib/python3.9/site-packages/sklearn/linear_model/_coordinate_descent.py:647: ConvergenceWarning: Objective did not converge. You might want to increase the number of iterations, check the scale of the features or consider increasing regularisation. Duality gap: 8.888e+10, tolerance: 6.599e+08\n",
      "  model = cd_fast.enet_coordinate_descent(\n",
      "/home/pmotameni/anaconda3/envs/w207final/lib/python3.9/site-packages/sklearn/linear_model/_coordinate_descent.py:647: ConvergenceWarning: Objective did not converge. You might want to increase the number of iterations, check the scale of the features or consider increasing regularisation. Duality gap: 6.179e+10, tolerance: 6.657e+08\n",
      "  model = cd_fast.enet_coordinate_descent(\n",
      "/home/pmotameni/anaconda3/envs/w207final/lib/python3.9/site-packages/sklearn/linear_model/_coordinate_descent.py:647: ConvergenceWarning: Objective did not converge. You might want to increase the number of iterations, check the scale of the features or consider increasing regularisation. Duality gap: 8.957e+10, tolerance: 6.750e+08\n",
      "  model = cd_fast.enet_coordinate_descent(\n",
      "/home/pmotameni/anaconda3/envs/w207final/lib/python3.9/site-packages/sklearn/linear_model/_coordinate_descent.py:647: ConvergenceWarning: Objective did not converge. You might want to increase the number of iterations, check the scale of the features or consider increasing regularisation. Duality gap: 8.875e+10, tolerance: 6.735e+08\n",
      "  model = cd_fast.enet_coordinate_descent(\n",
      "/home/pmotameni/anaconda3/envs/w207final/lib/python3.9/site-packages/sklearn/linear_model/_coordinate_descent.py:647: ConvergenceWarning: Objective did not converge. You might want to increase the number of iterations, check the scale of the features or consider increasing regularisation. Duality gap: 8.390e+10, tolerance: 6.836e+08\n",
      "  model = cd_fast.enet_coordinate_descent(\n",
      "/home/pmotameni/anaconda3/envs/w207final/lib/python3.9/site-packages/sklearn/linear_model/_coordinate_descent.py:647: ConvergenceWarning: Objective did not converge. You might want to increase the number of iterations, check the scale of the features or consider increasing regularisation. Duality gap: 9.218e+10, tolerance: 6.821e+08\n",
      "  model = cd_fast.enet_coordinate_descent(\n",
      "/home/pmotameni/anaconda3/envs/w207final/lib/python3.9/site-packages/sklearn/linear_model/_coordinate_descent.py:647: ConvergenceWarning: Objective did not converge. You might want to increase the number of iterations, check the scale of the features or consider increasing regularisation. Duality gap: 8.690e+10, tolerance: 6.679e+08\n",
      "  model = cd_fast.enet_coordinate_descent(\n",
      "/home/pmotameni/anaconda3/envs/w207final/lib/python3.9/site-packages/sklearn/linear_model/_coordinate_descent.py:647: ConvergenceWarning: Objective did not converge. You might want to increase the number of iterations, check the scale of the features or consider increasing regularisation. Duality gap: 8.670e+10, tolerance: 6.764e+08\n",
      "  model = cd_fast.enet_coordinate_descent(\n",
      "/home/pmotameni/anaconda3/envs/w207final/lib/python3.9/site-packages/sklearn/linear_model/_coordinate_descent.py:647: ConvergenceWarning: Objective did not converge. You might want to increase the number of iterations, check the scale of the features or consider increasing regularisation. Duality gap: 8.545e+10, tolerance: 7.002e+08\n",
      "  model = cd_fast.enet_coordinate_descent(\n",
      "/home/pmotameni/anaconda3/envs/w207final/lib/python3.9/site-packages/sklearn/linear_model/_coordinate_descent.py:647: ConvergenceWarning: Objective did not converge. You might want to increase the number of iterations, check the scale of the features or consider increasing regularisation. Duality gap: 6.182e+10, tolerance: 6.657e+08\n",
      "  model = cd_fast.enet_coordinate_descent(\n",
      "/home/pmotameni/anaconda3/envs/w207final/lib/python3.9/site-packages/sklearn/linear_model/_coordinate_descent.py:647: ConvergenceWarning: Objective did not converge. You might want to increase the number of iterations, check the scale of the features or consider increasing regularisation. Duality gap: 6.195e+10, tolerance: 6.748e+08\n",
      "  model = cd_fast.enet_coordinate_descent(\n",
      "/home/pmotameni/anaconda3/envs/w207final/lib/python3.9/site-packages/sklearn/linear_model/_coordinate_descent.py:647: ConvergenceWarning: Objective did not converge. You might want to increase the number of iterations, check the scale of the features or consider increasing regularisation. Duality gap: 8.892e+10, tolerance: 6.599e+08\n",
      "  model = cd_fast.enet_coordinate_descent(\n",
      "/home/pmotameni/anaconda3/envs/w207final/lib/python3.9/site-packages/sklearn/linear_model/_coordinate_descent.py:647: ConvergenceWarning: Objective did not converge. You might want to increase the number of iterations, check the scale of the features or consider increasing regularisation. Duality gap: 6.466e+10, tolerance: 6.836e+08\n",
      "  model = cd_fast.enet_coordinate_descent(\n",
      "/home/pmotameni/anaconda3/envs/w207final/lib/python3.9/site-packages/sklearn/linear_model/_coordinate_descent.py:647: ConvergenceWarning: Objective did not converge. You might want to increase the number of iterations, check the scale of the features or consider increasing regularisation. Duality gap: 3.616e+11, tolerance: 6.750e+08\n",
      "  model = cd_fast.enet_coordinate_descent(\n",
      "/home/pmotameni/anaconda3/envs/w207final/lib/python3.9/site-packages/sklearn/linear_model/_coordinate_descent.py:647: ConvergenceWarning: Objective did not converge. You might want to increase the number of iterations, check the scale of the features or consider increasing regularisation. Duality gap: 8.879e+10, tolerance: 6.735e+08\n",
      "  model = cd_fast.enet_coordinate_descent(\n",
      "/home/pmotameni/anaconda3/envs/w207final/lib/python3.9/site-packages/sklearn/linear_model/_coordinate_descent.py:647: ConvergenceWarning: Objective did not converge. You might want to increase the number of iterations, check the scale of the features or consider increasing regularisation. Duality gap: 8.673e+10, tolerance: 6.764e+08\n",
      "  model = cd_fast.enet_coordinate_descent(\n",
      "/home/pmotameni/anaconda3/envs/w207final/lib/python3.9/site-packages/sklearn/linear_model/_coordinate_descent.py:647: ConvergenceWarning: Objective did not converge. You might want to increase the number of iterations, check the scale of the features or consider increasing regularisation. Duality gap: 9.222e+10, tolerance: 6.821e+08\n",
      "  model = cd_fast.enet_coordinate_descent(\n",
      "/home/pmotameni/anaconda3/envs/w207final/lib/python3.9/site-packages/sklearn/linear_model/_coordinate_descent.py:647: ConvergenceWarning: Objective did not converge. You might want to increase the number of iterations, check the scale of the features or consider increasing regularisation. Duality gap: 2.324e+09, tolerance: 6.748e+08\n",
      "  model = cd_fast.enet_coordinate_descent(\n"
     ]
    },
    {
     "name": "stdout",
     "output_type": "stream",
     "text": [
      "Best parameters:\n",
      "{'alpha': 0.1}\n",
      "29325.822246933545\n"
     ]
    }
   ],
   "source": [
    "X_train, X_test, y_train, y_test = data_loader.get_clean_encoded_data()\n",
    "\n",
    "def Lasso_model_HP():\n",
    "\n",
    "    parameter_space = {\n",
    "        \"alpha\":[0.0001,0.0001,0.001,0.1],\n",
    "    }\n",
    "\n",
    "    clf = GridSearchCV(Lasso(), parameter_space, n_jobs=4,cv=10)\n",
    "\n",
    "    clf.fit(X_train, y_train)\n",
    "    print(\"Best parameters:\")\n",
    "    print(clf.best_params_)\n",
    "\n",
    "    Lasso_model = Lasso(random_state=3, **clf.best_params_)\n",
    "    Lasso_model.fit(X_train, y_train);\n",
    "\n",
    "    y_pred = Lasso_model.predict(X_test)\n",
    "    print(mean_squared_error(y_test, y_pred, squared=False))\n",
    "    RMSE=mean_squared_error(y_test, y_pred, squared=False)\n",
    "    RMSE_Scores_Hyper.append(RMSE)\n",
    "\n",
    "Lasso_model_HP()\n",
    "\n"
   ]
  },
  {
   "cell_type": "markdown",
   "metadata": {},
   "source": [
    "### Hyperparameter tuning of ElasticNet"
   ]
  },
  {
   "cell_type": "code",
   "execution_count": 34,
   "metadata": {},
   "outputs": [
    {
     "name": "stderr",
     "output_type": "stream",
     "text": [
      "/home/pmotameni/anaconda3/envs/w207final/lib/python3.9/site-packages/sklearn/linear_model/_coordinate_descent.py:647: ConvergenceWarning: Objective did not converge. You might want to increase the number of iterations, check the scale of the features or consider increasing regularisation. Duality gap: 2.828e+09, tolerance: 4.841e+08\n",
      "  model = cd_fast.enet_coordinate_descent(\n",
      "/home/pmotameni/anaconda3/envs/w207final/lib/python3.9/site-packages/sklearn/linear_model/_coordinate_descent.py:647: ConvergenceWarning: Objective did not converge. You might want to increase the number of iterations, check the scale of the features or consider increasing regularisation. Duality gap: 4.222e+09, tolerance: 5.149e+08\n",
      "  model = cd_fast.enet_coordinate_descent(\n",
      "/home/pmotameni/anaconda3/envs/w207final/lib/python3.9/site-packages/sklearn/linear_model/_coordinate_descent.py:647: ConvergenceWarning: Objective did not converge. You might want to increase the number of iterations, check the scale of the features or consider increasing regularisation. Duality gap: 3.214e+10, tolerance: 5.028e+08\n",
      "  model = cd_fast.enet_coordinate_descent(\n",
      "/home/pmotameni/anaconda3/envs/w207final/lib/python3.9/site-packages/sklearn/linear_model/_coordinate_descent.py:647: ConvergenceWarning: Objective did not converge. You might want to increase the number of iterations, check the scale of the features or consider increasing regularisation. Duality gap: 2.568e+11, tolerance: 3.375e+09\n",
      "  model = cd_fast.enet_coordinate_descent(\n",
      "/home/pmotameni/anaconda3/envs/w207final/lib/python3.9/site-packages/sklearn/linear_model/_coordinate_descent.py:647: ConvergenceWarning: Objective did not converge. You might want to increase the number of iterations, check the scale of the features or consider increasing regularisation. Duality gap: 2.446e+11, tolerance: 3.283e+09\n",
      "  model = cd_fast.enet_coordinate_descent(\n",
      "/home/pmotameni/anaconda3/envs/w207final/lib/python3.9/site-packages/sklearn/linear_model/_coordinate_descent.py:647: ConvergenceWarning: Objective did not converge. You might want to increase the number of iterations, check the scale of the features or consider increasing regularisation. Duality gap: 1.825e+11, tolerance: 3.283e+09\n",
      "  model = cd_fast.enet_coordinate_descent(\n",
      "/home/pmotameni/anaconda3/envs/w207final/lib/python3.9/site-packages/sklearn/linear_model/_coordinate_descent.py:647: ConvergenceWarning: Objective did not converge. You might want to increase the number of iterations, check the scale of the features or consider increasing regularisation. Duality gap: 2.174e+11, tolerance: 3.375e+09\n",
      "  model = cd_fast.enet_coordinate_descent(\n",
      "/home/pmotameni/anaconda3/envs/w207final/lib/python3.9/site-packages/sklearn/linear_model/_coordinate_descent.py:647: ConvergenceWarning: Objective did not converge. You might want to increase the number of iterations, check the scale of the features or consider increasing regularisation. Duality gap: 2.830e+11, tolerance: 3.343e+09\n",
      "  model = cd_fast.enet_coordinate_descent(\n",
      "/home/pmotameni/anaconda3/envs/w207final/lib/python3.9/site-packages/sklearn/linear_model/_coordinate_descent.py:647: ConvergenceWarning: Objective did not converge. You might want to increase the number of iterations, check the scale of the features or consider increasing regularisation. Duality gap: 2.736e+11, tolerance: 3.343e+09\n",
      "  model = cd_fast.enet_coordinate_descent(\n"
     ]
    },
    {
     "name": "stdout",
     "output_type": "stream",
     "text": [
      "Best parameters:\n",
      "{'alpha': 10, 'fit_intercept': True, 'l1_ratio': 1}\n",
      "29340.796981186755\n"
     ]
    }
   ],
   "source": [
    "X_train, X_test, y_train, y_test = data_loader.get_clean_encoded_data()\n",
    "\n",
    "def Elastic_model_HP():\n",
    "\n",
    "    parameter_space = {\n",
    "        \"alpha\": [1, 10, 100, 280, 500],\n",
    "        \"l1_ratio\": [0.5, 1],\n",
    "        \"fit_intercept\": [True, False],\n",
    "    }\n",
    "\n",
    "    clf = GridSearchCV(ElasticNet(random_state=3), parameter_space, \n",
    "                       n_jobs=4, cv=3)\n",
    "\n",
    "    clf.fit(X_train, y_train)\n",
    "    print(\"Best parameters:\")\n",
    "    print(clf.best_params_)\n",
    "\n",
    "    elasticNet_model = ElasticNet(random_state=3, **clf.best_params_)\n",
    "\n",
    "    elasticNet_model.fit(X_train, y_train);\n",
    "\n",
    "    y_pred = elasticNet_model.predict(X_test)\n",
    "    print(mean_squared_error(y_test, y_pred, squared=False))\n",
    "    RMSE=mean_squared_error(y_test, y_pred, squared=False)\n",
    "    RMSE_Scores_Hyper.append(RMSE)\n",
    "\n",
    "Elastic_model_HP()"
   ]
  },
  {
   "cell_type": "markdown",
   "metadata": {},
   "source": [
    "### Hyperparameter tuning of Decision Tree Regressor"
   ]
  },
  {
   "cell_type": "code",
   "execution_count": 35,
   "metadata": {},
   "outputs": [
    {
     "name": "stderr",
     "output_type": "stream",
     "text": [
      "/home/pmotameni/anaconda3/envs/w207final/lib/python3.9/site-packages/sklearn/tree/_classes.py:359: FutureWarning: Criterion 'mse' was deprecated in v1.0 and will be removed in version 1.2. Use `criterion='squared_error'` which is equivalent.\n",
      "  warnings.warn(\n",
      "/home/pmotameni/anaconda3/envs/w207final/lib/python3.9/site-packages/sklearn/tree/_classes.py:359: FutureWarning: Criterion 'mse' was deprecated in v1.0 and will be removed in version 1.2. Use `criterion='squared_error'` which is equivalent.\n",
      "  warnings.warn(\n",
      "/home/pmotameni/anaconda3/envs/w207final/lib/python3.9/site-packages/sklearn/tree/_classes.py:359: FutureWarning: Criterion 'mse' was deprecated in v1.0 and will be removed in version 1.2. Use `criterion='squared_error'` which is equivalent.\n",
      "  warnings.warn(\n",
      "/home/pmotameni/anaconda3/envs/w207final/lib/python3.9/site-packages/sklearn/tree/_classes.py:359: FutureWarning: Criterion 'mse' was deprecated in v1.0 and will be removed in version 1.2. Use `criterion='squared_error'` which is equivalent.\n",
      "  warnings.warn(\n",
      "/home/pmotameni/anaconda3/envs/w207final/lib/python3.9/site-packages/sklearn/tree/_classes.py:359: FutureWarning: Criterion 'mse' was deprecated in v1.0 and will be removed in version 1.2. Use `criterion='squared_error'` which is equivalent.\n",
      "  warnings.warn(\n",
      "/home/pmotameni/anaconda3/envs/w207final/lib/python3.9/site-packages/sklearn/tree/_classes.py:359: FutureWarning: Criterion 'mse' was deprecated in v1.0 and will be removed in version 1.2. Use `criterion='squared_error'` which is equivalent.\n",
      "  warnings.warn(\n",
      "/home/pmotameni/anaconda3/envs/w207final/lib/python3.9/site-packages/sklearn/tree/_classes.py:359: FutureWarning: Criterion 'mse' was deprecated in v1.0 and will be removed in version 1.2. Use `criterion='squared_error'` which is equivalent.\n",
      "  warnings.warn(\n",
      "/home/pmotameni/anaconda3/envs/w207final/lib/python3.9/site-packages/sklearn/tree/_classes.py:359: FutureWarning: Criterion 'mse' was deprecated in v1.0 and will be removed in version 1.2. Use `criterion='squared_error'` which is equivalent.\n",
      "  warnings.warn(\n",
      "/home/pmotameni/anaconda3/envs/w207final/lib/python3.9/site-packages/sklearn/tree/_classes.py:359: FutureWarning: Criterion 'mse' was deprecated in v1.0 and will be removed in version 1.2. Use `criterion='squared_error'` which is equivalent.\n",
      "  warnings.warn(\n",
      "/home/pmotameni/anaconda3/envs/w207final/lib/python3.9/site-packages/sklearn/tree/_classes.py:359: FutureWarning: Criterion 'mse' was deprecated in v1.0 and will be removed in version 1.2. Use `criterion='squared_error'` which is equivalent.\n",
      "  warnings.warn(\n",
      "/home/pmotameni/anaconda3/envs/w207final/lib/python3.9/site-packages/sklearn/tree/_classes.py:359: FutureWarning: Criterion 'mse' was deprecated in v1.0 and will be removed in version 1.2. Use `criterion='squared_error'` which is equivalent.\n",
      "  warnings.warn(\n",
      "/home/pmotameni/anaconda3/envs/w207final/lib/python3.9/site-packages/sklearn/tree/_classes.py:359: FutureWarning: Criterion 'mse' was deprecated in v1.0 and will be removed in version 1.2. Use `criterion='squared_error'` which is equivalent.\n",
      "  warnings.warn(\n",
      "/home/pmotameni/anaconda3/envs/w207final/lib/python3.9/site-packages/sklearn/tree/_classes.py:359: FutureWarning: Criterion 'mse' was deprecated in v1.0 and will be removed in version 1.2. Use `criterion='squared_error'` which is equivalent.\n",
      "  warnings.warn(\n",
      "/home/pmotameni/anaconda3/envs/w207final/lib/python3.9/site-packages/sklearn/tree/_classes.py:359: FutureWarning: Criterion 'mse' was deprecated in v1.0 and will be removed in version 1.2. Use `criterion='squared_error'` which is equivalent.\n",
      "  warnings.warn(\n",
      "/home/pmotameni/anaconda3/envs/w207final/lib/python3.9/site-packages/sklearn/tree/_classes.py:359: FutureWarning: Criterion 'mse' was deprecated in v1.0 and will be removed in version 1.2. Use `criterion='squared_error'` which is equivalent.\n",
      "  warnings.warn(\n",
      "/home/pmotameni/anaconda3/envs/w207final/lib/python3.9/site-packages/sklearn/tree/_classes.py:359: FutureWarning: Criterion 'mse' was deprecated in v1.0 and will be removed in version 1.2. Use `criterion='squared_error'` which is equivalent.\n",
      "  warnings.warn(\n",
      "/home/pmotameni/anaconda3/envs/w207final/lib/python3.9/site-packages/sklearn/tree/_classes.py:359: FutureWarning: Criterion 'mse' was deprecated in v1.0 and will be removed in version 1.2. Use `criterion='squared_error'` which is equivalent.\n",
      "  warnings.warn(\n",
      "/home/pmotameni/anaconda3/envs/w207final/lib/python3.9/site-packages/sklearn/tree/_classes.py:359: FutureWarning: Criterion 'mse' was deprecated in v1.0 and will be removed in version 1.2. Use `criterion='squared_error'` which is equivalent.\n",
      "  warnings.warn(\n",
      "/home/pmotameni/anaconda3/envs/w207final/lib/python3.9/site-packages/sklearn/tree/_classes.py:359: FutureWarning: Criterion 'mse' was deprecated in v1.0 and will be removed in version 1.2. Use `criterion='squared_error'` which is equivalent.\n",
      "  warnings.warn(\n",
      "/home/pmotameni/anaconda3/envs/w207final/lib/python3.9/site-packages/sklearn/tree/_classes.py:359: FutureWarning: Criterion 'mse' was deprecated in v1.0 and will be removed in version 1.2. Use `criterion='squared_error'` which is equivalent.\n",
      "  warnings.warn(\n",
      "/home/pmotameni/anaconda3/envs/w207final/lib/python3.9/site-packages/sklearn/tree/_classes.py:359: FutureWarning: Criterion 'mse' was deprecated in v1.0 and will be removed in version 1.2. Use `criterion='squared_error'` which is equivalent.\n",
      "  warnings.warn(\n",
      "/home/pmotameni/anaconda3/envs/w207final/lib/python3.9/site-packages/sklearn/tree/_classes.py:359: FutureWarning: Criterion 'mse' was deprecated in v1.0 and will be removed in version 1.2. Use `criterion='squared_error'` which is equivalent.\n",
      "  warnings.warn(\n",
      "/home/pmotameni/anaconda3/envs/w207final/lib/python3.9/site-packages/sklearn/tree/_classes.py:359: FutureWarning: Criterion 'mse' was deprecated in v1.0 and will be removed in version 1.2. Use `criterion='squared_error'` which is equivalent.\n",
      "  warnings.warn(\n",
      "/home/pmotameni/anaconda3/envs/w207final/lib/python3.9/site-packages/sklearn/tree/_classes.py:359: FutureWarning: Criterion 'mse' was deprecated in v1.0 and will be removed in version 1.2. Use `criterion='squared_error'` which is equivalent.\n",
      "  warnings.warn(\n",
      "/home/pmotameni/anaconda3/envs/w207final/lib/python3.9/site-packages/sklearn/tree/_classes.py:359: FutureWarning: Criterion 'mse' was deprecated in v1.0 and will be removed in version 1.2. Use `criterion='squared_error'` which is equivalent.\n",
      "  warnings.warn(\n",
      "/home/pmotameni/anaconda3/envs/w207final/lib/python3.9/site-packages/sklearn/tree/_classes.py:359: FutureWarning: Criterion 'mse' was deprecated in v1.0 and will be removed in version 1.2. Use `criterion='squared_error'` which is equivalent.\n",
      "  warnings.warn(\n",
      "/home/pmotameni/anaconda3/envs/w207final/lib/python3.9/site-packages/sklearn/tree/_classes.py:359: FutureWarning: Criterion 'mse' was deprecated in v1.0 and will be removed in version 1.2. Use `criterion='squared_error'` which is equivalent.\n",
      "  warnings.warn(\n",
      "/home/pmotameni/anaconda3/envs/w207final/lib/python3.9/site-packages/sklearn/tree/_classes.py:359: FutureWarning: Criterion 'mse' was deprecated in v1.0 and will be removed in version 1.2. Use `criterion='squared_error'` which is equivalent.\n",
      "  warnings.warn(\n",
      "/home/pmotameni/anaconda3/envs/w207final/lib/python3.9/site-packages/sklearn/tree/_classes.py:359: FutureWarning: Criterion 'mse' was deprecated in v1.0 and will be removed in version 1.2. Use `criterion='squared_error'` which is equivalent.\n",
      "  warnings.warn(\n",
      "/home/pmotameni/anaconda3/envs/w207final/lib/python3.9/site-packages/sklearn/tree/_classes.py:359: FutureWarning: Criterion 'mse' was deprecated in v1.0 and will be removed in version 1.2. Use `criterion='squared_error'` which is equivalent.\n",
      "  warnings.warn(\n",
      "/home/pmotameni/anaconda3/envs/w207final/lib/python3.9/site-packages/sklearn/tree/_classes.py:359: FutureWarning: Criterion 'mse' was deprecated in v1.0 and will be removed in version 1.2. Use `criterion='squared_error'` which is equivalent.\n",
      "  warnings.warn(\n",
      "/home/pmotameni/anaconda3/envs/w207final/lib/python3.9/site-packages/sklearn/tree/_classes.py:359: FutureWarning: Criterion 'mse' was deprecated in v1.0 and will be removed in version 1.2. Use `criterion='squared_error'` which is equivalent.\n",
      "  warnings.warn(\n",
      "/home/pmotameni/anaconda3/envs/w207final/lib/python3.9/site-packages/sklearn/tree/_classes.py:359: FutureWarning: Criterion 'mse' was deprecated in v1.0 and will be removed in version 1.2. Use `criterion='squared_error'` which is equivalent.\n",
      "  warnings.warn(\n",
      "/home/pmotameni/anaconda3/envs/w207final/lib/python3.9/site-packages/sklearn/tree/_classes.py:359: FutureWarning: Criterion 'mse' was deprecated in v1.0 and will be removed in version 1.2. Use `criterion='squared_error'` which is equivalent.\n",
      "  warnings.warn(\n",
      "/home/pmotameni/anaconda3/envs/w207final/lib/python3.9/site-packages/sklearn/tree/_classes.py:359: FutureWarning: Criterion 'mse' was deprecated in v1.0 and will be removed in version 1.2. Use `criterion='squared_error'` which is equivalent.\n",
      "  warnings.warn(\n",
      "/home/pmotameni/anaconda3/envs/w207final/lib/python3.9/site-packages/sklearn/tree/_classes.py:359: FutureWarning: Criterion 'mse' was deprecated in v1.0 and will be removed in version 1.2. Use `criterion='squared_error'` which is equivalent.\n",
      "  warnings.warn(\n",
      "/home/pmotameni/anaconda3/envs/w207final/lib/python3.9/site-packages/sklearn/tree/_classes.py:359: FutureWarning: Criterion 'mse' was deprecated in v1.0 and will be removed in version 1.2. Use `criterion='squared_error'` which is equivalent.\n",
      "  warnings.warn(\n",
      "/home/pmotameni/anaconda3/envs/w207final/lib/python3.9/site-packages/sklearn/tree/_classes.py:359: FutureWarning: Criterion 'mse' was deprecated in v1.0 and will be removed in version 1.2. Use `criterion='squared_error'` which is equivalent.\n",
      "  warnings.warn(\n",
      "/home/pmotameni/anaconda3/envs/w207final/lib/python3.9/site-packages/sklearn/tree/_classes.py:359: FutureWarning: Criterion 'mse' was deprecated in v1.0 and will be removed in version 1.2. Use `criterion='squared_error'` which is equivalent.\n",
      "  warnings.warn(\n",
      "/home/pmotameni/anaconda3/envs/w207final/lib/python3.9/site-packages/sklearn/tree/_classes.py:359: FutureWarning: Criterion 'mse' was deprecated in v1.0 and will be removed in version 1.2. Use `criterion='squared_error'` which is equivalent.\n",
      "  warnings.warn(\n",
      "/home/pmotameni/anaconda3/envs/w207final/lib/python3.9/site-packages/sklearn/tree/_classes.py:359: FutureWarning: Criterion 'mse' was deprecated in v1.0 and will be removed in version 1.2. Use `criterion='squared_error'` which is equivalent.\n",
      "  warnings.warn(\n",
      "/home/pmotameni/anaconda3/envs/w207final/lib/python3.9/site-packages/sklearn/tree/_classes.py:359: FutureWarning: Criterion 'mse' was deprecated in v1.0 and will be removed in version 1.2. Use `criterion='squared_error'` which is equivalent.\n",
      "  warnings.warn(\n",
      "/home/pmotameni/anaconda3/envs/w207final/lib/python3.9/site-packages/sklearn/tree/_classes.py:359: FutureWarning: Criterion 'mse' was deprecated in v1.0 and will be removed in version 1.2. Use `criterion='squared_error'` which is equivalent.\n",
      "  warnings.warn(\n",
      "/home/pmotameni/anaconda3/envs/w207final/lib/python3.9/site-packages/sklearn/tree/_classes.py:359: FutureWarning: Criterion 'mse' was deprecated in v1.0 and will be removed in version 1.2. Use `criterion='squared_error'` which is equivalent.\n",
      "  warnings.warn(\n",
      "/home/pmotameni/anaconda3/envs/w207final/lib/python3.9/site-packages/sklearn/tree/_classes.py:359: FutureWarning: Criterion 'mse' was deprecated in v1.0 and will be removed in version 1.2. Use `criterion='squared_error'` which is equivalent.\n",
      "  warnings.warn(\n",
      "/home/pmotameni/anaconda3/envs/w207final/lib/python3.9/site-packages/sklearn/tree/_classes.py:359: FutureWarning: Criterion 'mse' was deprecated in v1.0 and will be removed in version 1.2. Use `criterion='squared_error'` which is equivalent.\n",
      "  warnings.warn(\n",
      "/home/pmotameni/anaconda3/envs/w207final/lib/python3.9/site-packages/sklearn/tree/_classes.py:359: FutureWarning: Criterion 'mse' was deprecated in v1.0 and will be removed in version 1.2. Use `criterion='squared_error'` which is equivalent.\n",
      "  warnings.warn(\n",
      "/home/pmotameni/anaconda3/envs/w207final/lib/python3.9/site-packages/sklearn/tree/_classes.py:359: FutureWarning: Criterion 'mse' was deprecated in v1.0 and will be removed in version 1.2. Use `criterion='squared_error'` which is equivalent.\n",
      "  warnings.warn(\n",
      "/home/pmotameni/anaconda3/envs/w207final/lib/python3.9/site-packages/sklearn/tree/_classes.py:359: FutureWarning: Criterion 'mse' was deprecated in v1.0 and will be removed in version 1.2. Use `criterion='squared_error'` which is equivalent.\n",
      "  warnings.warn(\n",
      "/home/pmotameni/anaconda3/envs/w207final/lib/python3.9/site-packages/sklearn/tree/_classes.py:359: FutureWarning: Criterion 'mse' was deprecated in v1.0 and will be removed in version 1.2. Use `criterion='squared_error'` which is equivalent.\n",
      "  warnings.warn(\n",
      "/home/pmotameni/anaconda3/envs/w207final/lib/python3.9/site-packages/sklearn/tree/_classes.py:359: FutureWarning: Criterion 'mse' was deprecated in v1.0 and will be removed in version 1.2. Use `criterion='squared_error'` which is equivalent.\n",
      "  warnings.warn(\n",
      "/home/pmotameni/anaconda3/envs/w207final/lib/python3.9/site-packages/sklearn/tree/_classes.py:359: FutureWarning: Criterion 'mse' was deprecated in v1.0 and will be removed in version 1.2. Use `criterion='squared_error'` which is equivalent.\n",
      "  warnings.warn(\n",
      "/home/pmotameni/anaconda3/envs/w207final/lib/python3.9/site-packages/sklearn/tree/_classes.py:359: FutureWarning: Criterion 'mse' was deprecated in v1.0 and will be removed in version 1.2. Use `criterion='squared_error'` which is equivalent.\n",
      "  warnings.warn(\n",
      "/home/pmotameni/anaconda3/envs/w207final/lib/python3.9/site-packages/sklearn/tree/_classes.py:359: FutureWarning: Criterion 'mse' was deprecated in v1.0 and will be removed in version 1.2. Use `criterion='squared_error'` which is equivalent.\n",
      "  warnings.warn(\n",
      "/home/pmotameni/anaconda3/envs/w207final/lib/python3.9/site-packages/sklearn/tree/_classes.py:359: FutureWarning: Criterion 'mse' was deprecated in v1.0 and will be removed in version 1.2. Use `criterion='squared_error'` which is equivalent.\n",
      "  warnings.warn(\n",
      "/home/pmotameni/anaconda3/envs/w207final/lib/python3.9/site-packages/sklearn/tree/_classes.py:359: FutureWarning: Criterion 'mse' was deprecated in v1.0 and will be removed in version 1.2. Use `criterion='squared_error'` which is equivalent.\n",
      "  warnings.warn(\n",
      "/home/pmotameni/anaconda3/envs/w207final/lib/python3.9/site-packages/sklearn/tree/_classes.py:359: FutureWarning: Criterion 'mse' was deprecated in v1.0 and will be removed in version 1.2. Use `criterion='squared_error'` which is equivalent.\n",
      "  warnings.warn(\n",
      "/home/pmotameni/anaconda3/envs/w207final/lib/python3.9/site-packages/sklearn/tree/_classes.py:359: FutureWarning: Criterion 'mse' was deprecated in v1.0 and will be removed in version 1.2. Use `criterion='squared_error'` which is equivalent.\n",
      "  warnings.warn(\n",
      "/home/pmotameni/anaconda3/envs/w207final/lib/python3.9/site-packages/sklearn/tree/_classes.py:359: FutureWarning: Criterion 'mse' was deprecated in v1.0 and will be removed in version 1.2. Use `criterion='squared_error'` which is equivalent.\n",
      "  warnings.warn(\n",
      "/home/pmotameni/anaconda3/envs/w207final/lib/python3.9/site-packages/sklearn/tree/_classes.py:359: FutureWarning: Criterion 'mse' was deprecated in v1.0 and will be removed in version 1.2. Use `criterion='squared_error'` which is equivalent.\n",
      "  warnings.warn(\n",
      "/home/pmotameni/anaconda3/envs/w207final/lib/python3.9/site-packages/sklearn/tree/_classes.py:359: FutureWarning: Criterion 'mse' was deprecated in v1.0 and will be removed in version 1.2. Use `criterion='squared_error'` which is equivalent.\n",
      "  warnings.warn(\n",
      "/home/pmotameni/anaconda3/envs/w207final/lib/python3.9/site-packages/sklearn/tree/_classes.py:359: FutureWarning: Criterion 'mse' was deprecated in v1.0 and will be removed in version 1.2. Use `criterion='squared_error'` which is equivalent.\n",
      "  warnings.warn(\n",
      "/home/pmotameni/anaconda3/envs/w207final/lib/python3.9/site-packages/sklearn/tree/_classes.py:359: FutureWarning: Criterion 'mse' was deprecated in v1.0 and will be removed in version 1.2. Use `criterion='squared_error'` which is equivalent.\n",
      "  warnings.warn(\n",
      "/home/pmotameni/anaconda3/envs/w207final/lib/python3.9/site-packages/sklearn/tree/_classes.py:359: FutureWarning: Criterion 'mse' was deprecated in v1.0 and will be removed in version 1.2. Use `criterion='squared_error'` which is equivalent.\n",
      "  warnings.warn(\n",
      "/home/pmotameni/anaconda3/envs/w207final/lib/python3.9/site-packages/sklearn/tree/_classes.py:359: FutureWarning: Criterion 'mse' was deprecated in v1.0 and will be removed in version 1.2. Use `criterion='squared_error'` which is equivalent.\n",
      "  warnings.warn(\n",
      "/home/pmotameni/anaconda3/envs/w207final/lib/python3.9/site-packages/sklearn/tree/_classes.py:359: FutureWarning: Criterion 'mse' was deprecated in v1.0 and will be removed in version 1.2. Use `criterion='squared_error'` which is equivalent.\n",
      "  warnings.warn(\n",
      "/home/pmotameni/anaconda3/envs/w207final/lib/python3.9/site-packages/sklearn/tree/_classes.py:359: FutureWarning: Criterion 'mse' was deprecated in v1.0 and will be removed in version 1.2. Use `criterion='squared_error'` which is equivalent.\n",
      "  warnings.warn(\n",
      "/home/pmotameni/anaconda3/envs/w207final/lib/python3.9/site-packages/sklearn/tree/_classes.py:359: FutureWarning: Criterion 'mse' was deprecated in v1.0 and will be removed in version 1.2. Use `criterion='squared_error'` which is equivalent.\n",
      "  warnings.warn(\n",
      "/home/pmotameni/anaconda3/envs/w207final/lib/python3.9/site-packages/sklearn/tree/_classes.py:359: FutureWarning: Criterion 'mse' was deprecated in v1.0 and will be removed in version 1.2. Use `criterion='squared_error'` which is equivalent.\n",
      "  warnings.warn(\n",
      "/home/pmotameni/anaconda3/envs/w207final/lib/python3.9/site-packages/sklearn/tree/_classes.py:359: FutureWarning: Criterion 'mse' was deprecated in v1.0 and will be removed in version 1.2. Use `criterion='squared_error'` which is equivalent.\n",
      "  warnings.warn(\n",
      "/home/pmotameni/anaconda3/envs/w207final/lib/python3.9/site-packages/sklearn/tree/_classes.py:359: FutureWarning: Criterion 'mse' was deprecated in v1.0 and will be removed in version 1.2. Use `criterion='squared_error'` which is equivalent.\n",
      "  warnings.warn(\n",
      "/home/pmotameni/anaconda3/envs/w207final/lib/python3.9/site-packages/sklearn/tree/_classes.py:359: FutureWarning: Criterion 'mse' was deprecated in v1.0 and will be removed in version 1.2. Use `criterion='squared_error'` which is equivalent.\n",
      "  warnings.warn(\n",
      "/home/pmotameni/anaconda3/envs/w207final/lib/python3.9/site-packages/sklearn/tree/_classes.py:359: FutureWarning: Criterion 'mse' was deprecated in v1.0 and will be removed in version 1.2. Use `criterion='squared_error'` which is equivalent.\n",
      "  warnings.warn(\n",
      "/home/pmotameni/anaconda3/envs/w207final/lib/python3.9/site-packages/sklearn/tree/_classes.py:359: FutureWarning: Criterion 'mse' was deprecated in v1.0 and will be removed in version 1.2. Use `criterion='squared_error'` which is equivalent.\n",
      "  warnings.warn(\n",
      "/home/pmotameni/anaconda3/envs/w207final/lib/python3.9/site-packages/sklearn/tree/_classes.py:359: FutureWarning: Criterion 'mse' was deprecated in v1.0 and will be removed in version 1.2. Use `criterion='squared_error'` which is equivalent.\n",
      "  warnings.warn(\n",
      "/home/pmotameni/anaconda3/envs/w207final/lib/python3.9/site-packages/sklearn/tree/_classes.py:359: FutureWarning: Criterion 'mse' was deprecated in v1.0 and will be removed in version 1.2. Use `criterion='squared_error'` which is equivalent.\n",
      "  warnings.warn(\n",
      "/home/pmotameni/anaconda3/envs/w207final/lib/python3.9/site-packages/sklearn/tree/_classes.py:359: FutureWarning: Criterion 'mse' was deprecated in v1.0 and will be removed in version 1.2. Use `criterion='squared_error'` which is equivalent.\n",
      "  warnings.warn(\n",
      "/home/pmotameni/anaconda3/envs/w207final/lib/python3.9/site-packages/sklearn/tree/_classes.py:359: FutureWarning: Criterion 'mse' was deprecated in v1.0 and will be removed in version 1.2. Use `criterion='squared_error'` which is equivalent.\n",
      "  warnings.warn(\n",
      "/home/pmotameni/anaconda3/envs/w207final/lib/python3.9/site-packages/sklearn/tree/_classes.py:359: FutureWarning: Criterion 'mse' was deprecated in v1.0 and will be removed in version 1.2. Use `criterion='squared_error'` which is equivalent.\n",
      "  warnings.warn(\n",
      "/home/pmotameni/anaconda3/envs/w207final/lib/python3.9/site-packages/sklearn/tree/_classes.py:359: FutureWarning: Criterion 'mse' was deprecated in v1.0 and will be removed in version 1.2. Use `criterion='squared_error'` which is equivalent.\n",
      "  warnings.warn(\n",
      "/home/pmotameni/anaconda3/envs/w207final/lib/python3.9/site-packages/sklearn/tree/_classes.py:359: FutureWarning: Criterion 'mse' was deprecated in v1.0 and will be removed in version 1.2. Use `criterion='squared_error'` which is equivalent.\n",
      "  warnings.warn(\n",
      "/home/pmotameni/anaconda3/envs/w207final/lib/python3.9/site-packages/sklearn/tree/_classes.py:359: FutureWarning: Criterion 'mse' was deprecated in v1.0 and will be removed in version 1.2. Use `criterion='squared_error'` which is equivalent.\n",
      "  warnings.warn(\n",
      "/home/pmotameni/anaconda3/envs/w207final/lib/python3.9/site-packages/sklearn/tree/_classes.py:359: FutureWarning: Criterion 'mse' was deprecated in v1.0 and will be removed in version 1.2. Use `criterion='squared_error'` which is equivalent.\n",
      "  warnings.warn(\n",
      "/home/pmotameni/anaconda3/envs/w207final/lib/python3.9/site-packages/sklearn/tree/_classes.py:359: FutureWarning: Criterion 'mse' was deprecated in v1.0 and will be removed in version 1.2. Use `criterion='squared_error'` which is equivalent.\n",
      "  warnings.warn(\n",
      "/home/pmotameni/anaconda3/envs/w207final/lib/python3.9/site-packages/sklearn/tree/_classes.py:359: FutureWarning: Criterion 'mse' was deprecated in v1.0 and will be removed in version 1.2. Use `criterion='squared_error'` which is equivalent.\n",
      "  warnings.warn(\n",
      "/home/pmotameni/anaconda3/envs/w207final/lib/python3.9/site-packages/sklearn/tree/_classes.py:359: FutureWarning: Criterion 'mse' was deprecated in v1.0 and will be removed in version 1.2. Use `criterion='squared_error'` which is equivalent.\n",
      "  warnings.warn(\n",
      "/home/pmotameni/anaconda3/envs/w207final/lib/python3.9/site-packages/sklearn/tree/_classes.py:359: FutureWarning: Criterion 'mse' was deprecated in v1.0 and will be removed in version 1.2. Use `criterion='squared_error'` which is equivalent.\n",
      "  warnings.warn(\n",
      "/home/pmotameni/anaconda3/envs/w207final/lib/python3.9/site-packages/sklearn/tree/_classes.py:359: FutureWarning: Criterion 'mse' was deprecated in v1.0 and will be removed in version 1.2. Use `criterion='squared_error'` which is equivalent.\n",
      "  warnings.warn(\n",
      "/home/pmotameni/anaconda3/envs/w207final/lib/python3.9/site-packages/sklearn/tree/_classes.py:359: FutureWarning: Criterion 'mse' was deprecated in v1.0 and will be removed in version 1.2. Use `criterion='squared_error'` which is equivalent.\n",
      "  warnings.warn(\n",
      "/home/pmotameni/anaconda3/envs/w207final/lib/python3.9/site-packages/sklearn/tree/_classes.py:359: FutureWarning: Criterion 'mse' was deprecated in v1.0 and will be removed in version 1.2. Use `criterion='squared_error'` which is equivalent.\n",
      "  warnings.warn(\n",
      "/home/pmotameni/anaconda3/envs/w207final/lib/python3.9/site-packages/sklearn/tree/_classes.py:359: FutureWarning: Criterion 'mse' was deprecated in v1.0 and will be removed in version 1.2. Use `criterion='squared_error'` which is equivalent.\n",
      "  warnings.warn(\n",
      "/home/pmotameni/anaconda3/envs/w207final/lib/python3.9/site-packages/sklearn/tree/_classes.py:359: FutureWarning: Criterion 'mse' was deprecated in v1.0 and will be removed in version 1.2. Use `criterion='squared_error'` which is equivalent.\n",
      "  warnings.warn(\n",
      "/home/pmotameni/anaconda3/envs/w207final/lib/python3.9/site-packages/sklearn/tree/_classes.py:359: FutureWarning: Criterion 'mse' was deprecated in v1.0 and will be removed in version 1.2. Use `criterion='squared_error'` which is equivalent.\n",
      "  warnings.warn(\n",
      "/home/pmotameni/anaconda3/envs/w207final/lib/python3.9/site-packages/sklearn/tree/_classes.py:359: FutureWarning: Criterion 'mse' was deprecated in v1.0 and will be removed in version 1.2. Use `criterion='squared_error'` which is equivalent.\n",
      "  warnings.warn(\n",
      "/home/pmotameni/anaconda3/envs/w207final/lib/python3.9/site-packages/sklearn/tree/_classes.py:359: FutureWarning: Criterion 'mse' was deprecated in v1.0 and will be removed in version 1.2. Use `criterion='squared_error'` which is equivalent.\n",
      "  warnings.warn(\n",
      "/home/pmotameni/anaconda3/envs/w207final/lib/python3.9/site-packages/sklearn/tree/_classes.py:359: FutureWarning: Criterion 'mse' was deprecated in v1.0 and will be removed in version 1.2. Use `criterion='squared_error'` which is equivalent.\n",
      "  warnings.warn(\n",
      "/home/pmotameni/anaconda3/envs/w207final/lib/python3.9/site-packages/sklearn/tree/_classes.py:359: FutureWarning: Criterion 'mse' was deprecated in v1.0 and will be removed in version 1.2. Use `criterion='squared_error'` which is equivalent.\n",
      "  warnings.warn(\n",
      "/home/pmotameni/anaconda3/envs/w207final/lib/python3.9/site-packages/sklearn/tree/_classes.py:359: FutureWarning: Criterion 'mse' was deprecated in v1.0 and will be removed in version 1.2. Use `criterion='squared_error'` which is equivalent.\n",
      "  warnings.warn(\n",
      "/home/pmotameni/anaconda3/envs/w207final/lib/python3.9/site-packages/sklearn/tree/_classes.py:359: FutureWarning: Criterion 'mse' was deprecated in v1.0 and will be removed in version 1.2. Use `criterion='squared_error'` which is equivalent.\n",
      "  warnings.warn(\n",
      "/home/pmotameni/anaconda3/envs/w207final/lib/python3.9/site-packages/sklearn/tree/_classes.py:359: FutureWarning: Criterion 'mse' was deprecated in v1.0 and will be removed in version 1.2. Use `criterion='squared_error'` which is equivalent.\n",
      "  warnings.warn(\n",
      "/home/pmotameni/anaconda3/envs/w207final/lib/python3.9/site-packages/sklearn/tree/_classes.py:359: FutureWarning: Criterion 'mse' was deprecated in v1.0 and will be removed in version 1.2. Use `criterion='squared_error'` which is equivalent.\n",
      "  warnings.warn(\n",
      "/home/pmotameni/anaconda3/envs/w207final/lib/python3.9/site-packages/sklearn/tree/_classes.py:359: FutureWarning: Criterion 'mse' was deprecated in v1.0 and will be removed in version 1.2. Use `criterion='squared_error'` which is equivalent.\n",
      "  warnings.warn(\n",
      "/home/pmotameni/anaconda3/envs/w207final/lib/python3.9/site-packages/sklearn/tree/_classes.py:359: FutureWarning: Criterion 'mse' was deprecated in v1.0 and will be removed in version 1.2. Use `criterion='squared_error'` which is equivalent.\n",
      "  warnings.warn(\n",
      "/home/pmotameni/anaconda3/envs/w207final/lib/python3.9/site-packages/sklearn/tree/_classes.py:359: FutureWarning: Criterion 'mse' was deprecated in v1.0 and will be removed in version 1.2. Use `criterion='squared_error'` which is equivalent.\n",
      "  warnings.warn(\n",
      "/home/pmotameni/anaconda3/envs/w207final/lib/python3.9/site-packages/sklearn/tree/_classes.py:359: FutureWarning: Criterion 'mse' was deprecated in v1.0 and will be removed in version 1.2. Use `criterion='squared_error'` which is equivalent.\n",
      "  warnings.warn(\n",
      "/home/pmotameni/anaconda3/envs/w207final/lib/python3.9/site-packages/sklearn/tree/_classes.py:359: FutureWarning: Criterion 'mse' was deprecated in v1.0 and will be removed in version 1.2. Use `criterion='squared_error'` which is equivalent.\n",
      "  warnings.warn(\n",
      "/home/pmotameni/anaconda3/envs/w207final/lib/python3.9/site-packages/sklearn/tree/_classes.py:359: FutureWarning: Criterion 'mse' was deprecated in v1.0 and will be removed in version 1.2. Use `criterion='squared_error'` which is equivalent.\n",
      "  warnings.warn(\n",
      "/home/pmotameni/anaconda3/envs/w207final/lib/python3.9/site-packages/sklearn/tree/_classes.py:359: FutureWarning: Criterion 'mse' was deprecated in v1.0 and will be removed in version 1.2. Use `criterion='squared_error'` which is equivalent.\n",
      "  warnings.warn(\n",
      "/home/pmotameni/anaconda3/envs/w207final/lib/python3.9/site-packages/sklearn/tree/_classes.py:359: FutureWarning: Criterion 'mse' was deprecated in v1.0 and will be removed in version 1.2. Use `criterion='squared_error'` which is equivalent.\n",
      "  warnings.warn(\n",
      "/home/pmotameni/anaconda3/envs/w207final/lib/python3.9/site-packages/sklearn/tree/_classes.py:359: FutureWarning: Criterion 'mse' was deprecated in v1.0 and will be removed in version 1.2. Use `criterion='squared_error'` which is equivalent.\n",
      "  warnings.warn(\n",
      "/home/pmotameni/anaconda3/envs/w207final/lib/python3.9/site-packages/sklearn/tree/_classes.py:359: FutureWarning: Criterion 'mse' was deprecated in v1.0 and will be removed in version 1.2. Use `criterion='squared_error'` which is equivalent.\n",
      "  warnings.warn(\n",
      "/home/pmotameni/anaconda3/envs/w207final/lib/python3.9/site-packages/sklearn/tree/_classes.py:359: FutureWarning: Criterion 'mse' was deprecated in v1.0 and will be removed in version 1.2. Use `criterion='squared_error'` which is equivalent.\n",
      "  warnings.warn(\n",
      "/home/pmotameni/anaconda3/envs/w207final/lib/python3.9/site-packages/sklearn/tree/_classes.py:359: FutureWarning: Criterion 'mse' was deprecated in v1.0 and will be removed in version 1.2. Use `criterion='squared_error'` which is equivalent.\n",
      "  warnings.warn(\n",
      "/home/pmotameni/anaconda3/envs/w207final/lib/python3.9/site-packages/sklearn/tree/_classes.py:359: FutureWarning: Criterion 'mse' was deprecated in v1.0 and will be removed in version 1.2. Use `criterion='squared_error'` which is equivalent.\n",
      "  warnings.warn(\n",
      "/home/pmotameni/anaconda3/envs/w207final/lib/python3.9/site-packages/sklearn/tree/_classes.py:359: FutureWarning: Criterion 'mse' was deprecated in v1.0 and will be removed in version 1.2. Use `criterion='squared_error'` which is equivalent.\n",
      "  warnings.warn(\n",
      "/home/pmotameni/anaconda3/envs/w207final/lib/python3.9/site-packages/sklearn/tree/_classes.py:359: FutureWarning: Criterion 'mse' was deprecated in v1.0 and will be removed in version 1.2. Use `criterion='squared_error'` which is equivalent.\n",
      "  warnings.warn(\n",
      "/home/pmotameni/anaconda3/envs/w207final/lib/python3.9/site-packages/sklearn/tree/_classes.py:359: FutureWarning: Criterion 'mse' was deprecated in v1.0 and will be removed in version 1.2. Use `criterion='squared_error'` which is equivalent.\n",
      "  warnings.warn(\n",
      "/home/pmotameni/anaconda3/envs/w207final/lib/python3.9/site-packages/sklearn/tree/_classes.py:359: FutureWarning: Criterion 'mse' was deprecated in v1.0 and will be removed in version 1.2. Use `criterion='squared_error'` which is equivalent.\n",
      "  warnings.warn(\n",
      "/home/pmotameni/anaconda3/envs/w207final/lib/python3.9/site-packages/sklearn/tree/_classes.py:359: FutureWarning: Criterion 'mse' was deprecated in v1.0 and will be removed in version 1.2. Use `criterion='squared_error'` which is equivalent.\n",
      "  warnings.warn(\n",
      "/home/pmotameni/anaconda3/envs/w207final/lib/python3.9/site-packages/sklearn/tree/_classes.py:359: FutureWarning: Criterion 'mse' was deprecated in v1.0 and will be removed in version 1.2. Use `criterion='squared_error'` which is equivalent.\n",
      "  warnings.warn(\n",
      "/home/pmotameni/anaconda3/envs/w207final/lib/python3.9/site-packages/sklearn/tree/_classes.py:359: FutureWarning: Criterion 'mse' was deprecated in v1.0 and will be removed in version 1.2. Use `criterion='squared_error'` which is equivalent.\n",
      "  warnings.warn(\n",
      "/home/pmotameni/anaconda3/envs/w207final/lib/python3.9/site-packages/sklearn/tree/_classes.py:359: FutureWarning: Criterion 'mse' was deprecated in v1.0 and will be removed in version 1.2. Use `criterion='squared_error'` which is equivalent.\n",
      "  warnings.warn(\n",
      "/home/pmotameni/anaconda3/envs/w207final/lib/python3.9/site-packages/sklearn/tree/_classes.py:359: FutureWarning: Criterion 'mse' was deprecated in v1.0 and will be removed in version 1.2. Use `criterion='squared_error'` which is equivalent.\n",
      "  warnings.warn(\n",
      "/home/pmotameni/anaconda3/envs/w207final/lib/python3.9/site-packages/sklearn/tree/_classes.py:359: FutureWarning: Criterion 'mse' was deprecated in v1.0 and will be removed in version 1.2. Use `criterion='squared_error'` which is equivalent.\n",
      "  warnings.warn(\n",
      "/home/pmotameni/anaconda3/envs/w207final/lib/python3.9/site-packages/sklearn/tree/_classes.py:359: FutureWarning: Criterion 'mse' was deprecated in v1.0 and will be removed in version 1.2. Use `criterion='squared_error'` which is equivalent.\n",
      "  warnings.warn(\n",
      "/home/pmotameni/anaconda3/envs/w207final/lib/python3.9/site-packages/sklearn/tree/_classes.py:359: FutureWarning: Criterion 'mse' was deprecated in v1.0 and will be removed in version 1.2. Use `criterion='squared_error'` which is equivalent.\n",
      "  warnings.warn(\n",
      "/home/pmotameni/anaconda3/envs/w207final/lib/python3.9/site-packages/sklearn/tree/_classes.py:359: FutureWarning: Criterion 'mse' was deprecated in v1.0 and will be removed in version 1.2. Use `criterion='squared_error'` which is equivalent.\n",
      "  warnings.warn(\n",
      "/home/pmotameni/anaconda3/envs/w207final/lib/python3.9/site-packages/sklearn/tree/_classes.py:359: FutureWarning: Criterion 'mse' was deprecated in v1.0 and will be removed in version 1.2. Use `criterion='squared_error'` which is equivalent.\n",
      "  warnings.warn(\n",
      "/home/pmotameni/anaconda3/envs/w207final/lib/python3.9/site-packages/sklearn/tree/_classes.py:359: FutureWarning: Criterion 'mse' was deprecated in v1.0 and will be removed in version 1.2. Use `criterion='squared_error'` which is equivalent.\n",
      "  warnings.warn(\n",
      "/home/pmotameni/anaconda3/envs/w207final/lib/python3.9/site-packages/sklearn/tree/_classes.py:359: FutureWarning: Criterion 'mse' was deprecated in v1.0 and will be removed in version 1.2. Use `criterion='squared_error'` which is equivalent.\n",
      "  warnings.warn(\n",
      "/home/pmotameni/anaconda3/envs/w207final/lib/python3.9/site-packages/sklearn/tree/_classes.py:359: FutureWarning: Criterion 'mse' was deprecated in v1.0 and will be removed in version 1.2. Use `criterion='squared_error'` which is equivalent.\n",
      "  warnings.warn(\n",
      "/home/pmotameni/anaconda3/envs/w207final/lib/python3.9/site-packages/sklearn/tree/_classes.py:359: FutureWarning: Criterion 'mse' was deprecated in v1.0 and will be removed in version 1.2. Use `criterion='squared_error'` which is equivalent.\n",
      "  warnings.warn(\n",
      "/home/pmotameni/anaconda3/envs/w207final/lib/python3.9/site-packages/sklearn/tree/_classes.py:359: FutureWarning: Criterion 'mse' was deprecated in v1.0 and will be removed in version 1.2. Use `criterion='squared_error'` which is equivalent.\n",
      "  warnings.warn(\n",
      "/home/pmotameni/anaconda3/envs/w207final/lib/python3.9/site-packages/sklearn/tree/_classes.py:359: FutureWarning: Criterion 'mse' was deprecated in v1.0 and will be removed in version 1.2. Use `criterion='squared_error'` which is equivalent.\n",
      "  warnings.warn(\n",
      "/home/pmotameni/anaconda3/envs/w207final/lib/python3.9/site-packages/sklearn/tree/_classes.py:359: FutureWarning: Criterion 'mse' was deprecated in v1.0 and will be removed in version 1.2. Use `criterion='squared_error'` which is equivalent.\n",
      "  warnings.warn(\n",
      "/home/pmotameni/anaconda3/envs/w207final/lib/python3.9/site-packages/sklearn/tree/_classes.py:359: FutureWarning: Criterion 'mse' was deprecated in v1.0 and will be removed in version 1.2. Use `criterion='squared_error'` which is equivalent.\n",
      "  warnings.warn(\n",
      "/home/pmotameni/anaconda3/envs/w207final/lib/python3.9/site-packages/sklearn/tree/_classes.py:359: FutureWarning: Criterion 'mse' was deprecated in v1.0 and will be removed in version 1.2. Use `criterion='squared_error'` which is equivalent.\n",
      "  warnings.warn(\n",
      "/home/pmotameni/anaconda3/envs/w207final/lib/python3.9/site-packages/sklearn/tree/_classes.py:359: FutureWarning: Criterion 'mse' was deprecated in v1.0 and will be removed in version 1.2. Use `criterion='squared_error'` which is equivalent.\n",
      "  warnings.warn(\n",
      "/home/pmotameni/anaconda3/envs/w207final/lib/python3.9/site-packages/sklearn/tree/_classes.py:359: FutureWarning: Criterion 'mse' was deprecated in v1.0 and will be removed in version 1.2. Use `criterion='squared_error'` which is equivalent.\n",
      "  warnings.warn(\n",
      "/home/pmotameni/anaconda3/envs/w207final/lib/python3.9/site-packages/sklearn/tree/_classes.py:359: FutureWarning: Criterion 'mse' was deprecated in v1.0 and will be removed in version 1.2. Use `criterion='squared_error'` which is equivalent.\n",
      "  warnings.warn(\n",
      "/home/pmotameni/anaconda3/envs/w207final/lib/python3.9/site-packages/sklearn/tree/_classes.py:359: FutureWarning: Criterion 'mse' was deprecated in v1.0 and will be removed in version 1.2. Use `criterion='squared_error'` which is equivalent.\n",
      "  warnings.warn(\n",
      "/home/pmotameni/anaconda3/envs/w207final/lib/python3.9/site-packages/sklearn/tree/_classes.py:359: FutureWarning: Criterion 'mse' was deprecated in v1.0 and will be removed in version 1.2. Use `criterion='squared_error'` which is equivalent.\n",
      "  warnings.warn(\n",
      "/home/pmotameni/anaconda3/envs/w207final/lib/python3.9/site-packages/sklearn/tree/_classes.py:359: FutureWarning: Criterion 'mse' was deprecated in v1.0 and will be removed in version 1.2. Use `criterion='squared_error'` which is equivalent.\n",
      "  warnings.warn(\n",
      "/home/pmotameni/anaconda3/envs/w207final/lib/python3.9/site-packages/sklearn/tree/_classes.py:359: FutureWarning: Criterion 'mse' was deprecated in v1.0 and will be removed in version 1.2. Use `criterion='squared_error'` which is equivalent.\n",
      "  warnings.warn(\n",
      "/home/pmotameni/anaconda3/envs/w207final/lib/python3.9/site-packages/sklearn/tree/_classes.py:366: FutureWarning: Criterion 'mae' was deprecated in v1.0 and will be removed in version 1.2. Use `criterion='absolute_error'` which is equivalent.\n",
      "  warnings.warn(\n",
      "/home/pmotameni/anaconda3/envs/w207final/lib/python3.9/site-packages/sklearn/tree/_classes.py:366: FutureWarning: Criterion 'mae' was deprecated in v1.0 and will be removed in version 1.2. Use `criterion='absolute_error'` which is equivalent.\n",
      "  warnings.warn(\n",
      "/home/pmotameni/anaconda3/envs/w207final/lib/python3.9/site-packages/sklearn/tree/_classes.py:366: FutureWarning: Criterion 'mae' was deprecated in v1.0 and will be removed in version 1.2. Use `criterion='absolute_error'` which is equivalent.\n",
      "  warnings.warn(\n",
      "/home/pmotameni/anaconda3/envs/w207final/lib/python3.9/site-packages/sklearn/tree/_classes.py:366: FutureWarning: Criterion 'mae' was deprecated in v1.0 and will be removed in version 1.2. Use `criterion='absolute_error'` which is equivalent.\n",
      "  warnings.warn(\n",
      "/home/pmotameni/anaconda3/envs/w207final/lib/python3.9/site-packages/sklearn/tree/_classes.py:366: FutureWarning: Criterion 'mae' was deprecated in v1.0 and will be removed in version 1.2. Use `criterion='absolute_error'` which is equivalent.\n",
      "  warnings.warn(\n",
      "/home/pmotameni/anaconda3/envs/w207final/lib/python3.9/site-packages/sklearn/tree/_classes.py:366: FutureWarning: Criterion 'mae' was deprecated in v1.0 and will be removed in version 1.2. Use `criterion='absolute_error'` which is equivalent.\n",
      "  warnings.warn(\n",
      "/home/pmotameni/anaconda3/envs/w207final/lib/python3.9/site-packages/sklearn/tree/_classes.py:366: FutureWarning: Criterion 'mae' was deprecated in v1.0 and will be removed in version 1.2. Use `criterion='absolute_error'` which is equivalent.\n",
      "  warnings.warn(\n",
      "/home/pmotameni/anaconda3/envs/w207final/lib/python3.9/site-packages/sklearn/tree/_classes.py:366: FutureWarning: Criterion 'mae' was deprecated in v1.0 and will be removed in version 1.2. Use `criterion='absolute_error'` which is equivalent.\n",
      "  warnings.warn(\n",
      "/home/pmotameni/anaconda3/envs/w207final/lib/python3.9/site-packages/sklearn/tree/_classes.py:366: FutureWarning: Criterion 'mae' was deprecated in v1.0 and will be removed in version 1.2. Use `criterion='absolute_error'` which is equivalent.\n",
      "  warnings.warn(\n",
      "/home/pmotameni/anaconda3/envs/w207final/lib/python3.9/site-packages/sklearn/tree/_classes.py:366: FutureWarning: Criterion 'mae' was deprecated in v1.0 and will be removed in version 1.2. Use `criterion='absolute_error'` which is equivalent.\n",
      "  warnings.warn(\n",
      "/home/pmotameni/anaconda3/envs/w207final/lib/python3.9/site-packages/sklearn/tree/_classes.py:366: FutureWarning: Criterion 'mae' was deprecated in v1.0 and will be removed in version 1.2. Use `criterion='absolute_error'` which is equivalent.\n",
      "  warnings.warn(\n",
      "/home/pmotameni/anaconda3/envs/w207final/lib/python3.9/site-packages/sklearn/tree/_classes.py:366: FutureWarning: Criterion 'mae' was deprecated in v1.0 and will be removed in version 1.2. Use `criterion='absolute_error'` which is equivalent.\n",
      "  warnings.warn(\n",
      "/home/pmotameni/anaconda3/envs/w207final/lib/python3.9/site-packages/sklearn/tree/_classes.py:366: FutureWarning: Criterion 'mae' was deprecated in v1.0 and will be removed in version 1.2. Use `criterion='absolute_error'` which is equivalent.\n",
      "  warnings.warn(\n",
      "/home/pmotameni/anaconda3/envs/w207final/lib/python3.9/site-packages/sklearn/tree/_classes.py:366: FutureWarning: Criterion 'mae' was deprecated in v1.0 and will be removed in version 1.2. Use `criterion='absolute_error'` which is equivalent.\n",
      "  warnings.warn(\n",
      "/home/pmotameni/anaconda3/envs/w207final/lib/python3.9/site-packages/sklearn/tree/_classes.py:366: FutureWarning: Criterion 'mae' was deprecated in v1.0 and will be removed in version 1.2. Use `criterion='absolute_error'` which is equivalent.\n",
      "  warnings.warn(\n",
      "/home/pmotameni/anaconda3/envs/w207final/lib/python3.9/site-packages/sklearn/tree/_classes.py:366: FutureWarning: Criterion 'mae' was deprecated in v1.0 and will be removed in version 1.2. Use `criterion='absolute_error'` which is equivalent.\n",
      "  warnings.warn(\n",
      "/home/pmotameni/anaconda3/envs/w207final/lib/python3.9/site-packages/sklearn/tree/_classes.py:366: FutureWarning: Criterion 'mae' was deprecated in v1.0 and will be removed in version 1.2. Use `criterion='absolute_error'` which is equivalent.\n",
      "  warnings.warn(\n",
      "/home/pmotameni/anaconda3/envs/w207final/lib/python3.9/site-packages/sklearn/tree/_classes.py:366: FutureWarning: Criterion 'mae' was deprecated in v1.0 and will be removed in version 1.2. Use `criterion='absolute_error'` which is equivalent.\n",
      "  warnings.warn(\n",
      "/home/pmotameni/anaconda3/envs/w207final/lib/python3.9/site-packages/sklearn/tree/_classes.py:366: FutureWarning: Criterion 'mae' was deprecated in v1.0 and will be removed in version 1.2. Use `criterion='absolute_error'` which is equivalent.\n",
      "  warnings.warn(\n",
      "/home/pmotameni/anaconda3/envs/w207final/lib/python3.9/site-packages/sklearn/tree/_classes.py:366: FutureWarning: Criterion 'mae' was deprecated in v1.0 and will be removed in version 1.2. Use `criterion='absolute_error'` which is equivalent.\n",
      "  warnings.warn(\n",
      "/home/pmotameni/anaconda3/envs/w207final/lib/python3.9/site-packages/sklearn/tree/_classes.py:366: FutureWarning: Criterion 'mae' was deprecated in v1.0 and will be removed in version 1.2. Use `criterion='absolute_error'` which is equivalent.\n",
      "  warnings.warn(\n",
      "/home/pmotameni/anaconda3/envs/w207final/lib/python3.9/site-packages/sklearn/tree/_classes.py:366: FutureWarning: Criterion 'mae' was deprecated in v1.0 and will be removed in version 1.2. Use `criterion='absolute_error'` which is equivalent.\n",
      "  warnings.warn(\n",
      "/home/pmotameni/anaconda3/envs/w207final/lib/python3.9/site-packages/sklearn/tree/_classes.py:366: FutureWarning: Criterion 'mae' was deprecated in v1.0 and will be removed in version 1.2. Use `criterion='absolute_error'` which is equivalent.\n",
      "  warnings.warn(\n",
      "/home/pmotameni/anaconda3/envs/w207final/lib/python3.9/site-packages/sklearn/tree/_classes.py:366: FutureWarning: Criterion 'mae' was deprecated in v1.0 and will be removed in version 1.2. Use `criterion='absolute_error'` which is equivalent.\n",
      "  warnings.warn(\n",
      "/home/pmotameni/anaconda3/envs/w207final/lib/python3.9/site-packages/sklearn/tree/_classes.py:366: FutureWarning: Criterion 'mae' was deprecated in v1.0 and will be removed in version 1.2. Use `criterion='absolute_error'` which is equivalent.\n",
      "  warnings.warn(\n",
      "/home/pmotameni/anaconda3/envs/w207final/lib/python3.9/site-packages/sklearn/tree/_classes.py:366: FutureWarning: Criterion 'mae' was deprecated in v1.0 and will be removed in version 1.2. Use `criterion='absolute_error'` which is equivalent.\n",
      "  warnings.warn(\n",
      "/home/pmotameni/anaconda3/envs/w207final/lib/python3.9/site-packages/sklearn/tree/_classes.py:366: FutureWarning: Criterion 'mae' was deprecated in v1.0 and will be removed in version 1.2. Use `criterion='absolute_error'` which is equivalent.\n",
      "  warnings.warn(\n",
      "/home/pmotameni/anaconda3/envs/w207final/lib/python3.9/site-packages/sklearn/tree/_classes.py:366: FutureWarning: Criterion 'mae' was deprecated in v1.0 and will be removed in version 1.2. Use `criterion='absolute_error'` which is equivalent.\n",
      "  warnings.warn(\n",
      "/home/pmotameni/anaconda3/envs/w207final/lib/python3.9/site-packages/sklearn/tree/_classes.py:366: FutureWarning: Criterion 'mae' was deprecated in v1.0 and will be removed in version 1.2. Use `criterion='absolute_error'` which is equivalent.\n",
      "  warnings.warn(\n",
      "/home/pmotameni/anaconda3/envs/w207final/lib/python3.9/site-packages/sklearn/tree/_classes.py:366: FutureWarning: Criterion 'mae' was deprecated in v1.0 and will be removed in version 1.2. Use `criterion='absolute_error'` which is equivalent.\n",
      "  warnings.warn(\n",
      "/home/pmotameni/anaconda3/envs/w207final/lib/python3.9/site-packages/sklearn/tree/_classes.py:366: FutureWarning: Criterion 'mae' was deprecated in v1.0 and will be removed in version 1.2. Use `criterion='absolute_error'` which is equivalent.\n",
      "  warnings.warn(\n",
      "/home/pmotameni/anaconda3/envs/w207final/lib/python3.9/site-packages/sklearn/tree/_classes.py:366: FutureWarning: Criterion 'mae' was deprecated in v1.0 and will be removed in version 1.2. Use `criterion='absolute_error'` which is equivalent.\n",
      "  warnings.warn(\n",
      "/home/pmotameni/anaconda3/envs/w207final/lib/python3.9/site-packages/sklearn/tree/_classes.py:366: FutureWarning: Criterion 'mae' was deprecated in v1.0 and will be removed in version 1.2. Use `criterion='absolute_error'` which is equivalent.\n",
      "  warnings.warn(\n",
      "/home/pmotameni/anaconda3/envs/w207final/lib/python3.9/site-packages/sklearn/tree/_classes.py:366: FutureWarning: Criterion 'mae' was deprecated in v1.0 and will be removed in version 1.2. Use `criterion='absolute_error'` which is equivalent.\n",
      "  warnings.warn(\n",
      "/home/pmotameni/anaconda3/envs/w207final/lib/python3.9/site-packages/sklearn/tree/_classes.py:366: FutureWarning: Criterion 'mae' was deprecated in v1.0 and will be removed in version 1.2. Use `criterion='absolute_error'` which is equivalent.\n",
      "  warnings.warn(\n",
      "/home/pmotameni/anaconda3/envs/w207final/lib/python3.9/site-packages/sklearn/tree/_classes.py:366: FutureWarning: Criterion 'mae' was deprecated in v1.0 and will be removed in version 1.2. Use `criterion='absolute_error'` which is equivalent.\n",
      "  warnings.warn(\n",
      "/home/pmotameni/anaconda3/envs/w207final/lib/python3.9/site-packages/sklearn/tree/_classes.py:366: FutureWarning: Criterion 'mae' was deprecated in v1.0 and will be removed in version 1.2. Use `criterion='absolute_error'` which is equivalent.\n",
      "  warnings.warn(\n",
      "/home/pmotameni/anaconda3/envs/w207final/lib/python3.9/site-packages/sklearn/tree/_classes.py:366: FutureWarning: Criterion 'mae' was deprecated in v1.0 and will be removed in version 1.2. Use `criterion='absolute_error'` which is equivalent.\n",
      "  warnings.warn(\n",
      "/home/pmotameni/anaconda3/envs/w207final/lib/python3.9/site-packages/sklearn/tree/_classes.py:366: FutureWarning: Criterion 'mae' was deprecated in v1.0 and will be removed in version 1.2. Use `criterion='absolute_error'` which is equivalent.\n",
      "  warnings.warn(\n",
      "/home/pmotameni/anaconda3/envs/w207final/lib/python3.9/site-packages/sklearn/tree/_classes.py:366: FutureWarning: Criterion 'mae' was deprecated in v1.0 and will be removed in version 1.2. Use `criterion='absolute_error'` which is equivalent.\n",
      "  warnings.warn(\n",
      "/home/pmotameni/anaconda3/envs/w207final/lib/python3.9/site-packages/sklearn/tree/_classes.py:366: FutureWarning: Criterion 'mae' was deprecated in v1.0 and will be removed in version 1.2. Use `criterion='absolute_error'` which is equivalent.\n",
      "  warnings.warn(\n",
      "/home/pmotameni/anaconda3/envs/w207final/lib/python3.9/site-packages/sklearn/tree/_classes.py:366: FutureWarning: Criterion 'mae' was deprecated in v1.0 and will be removed in version 1.2. Use `criterion='absolute_error'` which is equivalent.\n",
      "  warnings.warn(\n",
      "/home/pmotameni/anaconda3/envs/w207final/lib/python3.9/site-packages/sklearn/tree/_classes.py:366: FutureWarning: Criterion 'mae' was deprecated in v1.0 and will be removed in version 1.2. Use `criterion='absolute_error'` which is equivalent.\n",
      "  warnings.warn(\n",
      "/home/pmotameni/anaconda3/envs/w207final/lib/python3.9/site-packages/sklearn/tree/_classes.py:366: FutureWarning: Criterion 'mae' was deprecated in v1.0 and will be removed in version 1.2. Use `criterion='absolute_error'` which is equivalent.\n",
      "  warnings.warn(\n",
      "/home/pmotameni/anaconda3/envs/w207final/lib/python3.9/site-packages/sklearn/tree/_classes.py:366: FutureWarning: Criterion 'mae' was deprecated in v1.0 and will be removed in version 1.2. Use `criterion='absolute_error'` which is equivalent.\n",
      "  warnings.warn(\n",
      "/home/pmotameni/anaconda3/envs/w207final/lib/python3.9/site-packages/sklearn/tree/_classes.py:366: FutureWarning: Criterion 'mae' was deprecated in v1.0 and will be removed in version 1.2. Use `criterion='absolute_error'` which is equivalent.\n",
      "  warnings.warn(\n",
      "/home/pmotameni/anaconda3/envs/w207final/lib/python3.9/site-packages/sklearn/tree/_classes.py:366: FutureWarning: Criterion 'mae' was deprecated in v1.0 and will be removed in version 1.2. Use `criterion='absolute_error'` which is equivalent.\n",
      "  warnings.warn(\n",
      "/home/pmotameni/anaconda3/envs/w207final/lib/python3.9/site-packages/sklearn/tree/_classes.py:366: FutureWarning: Criterion 'mae' was deprecated in v1.0 and will be removed in version 1.2. Use `criterion='absolute_error'` which is equivalent.\n",
      "  warnings.warn(\n",
      "/home/pmotameni/anaconda3/envs/w207final/lib/python3.9/site-packages/sklearn/tree/_classes.py:366: FutureWarning: Criterion 'mae' was deprecated in v1.0 and will be removed in version 1.2. Use `criterion='absolute_error'` which is equivalent.\n",
      "  warnings.warn(\n",
      "/home/pmotameni/anaconda3/envs/w207final/lib/python3.9/site-packages/sklearn/tree/_classes.py:366: FutureWarning: Criterion 'mae' was deprecated in v1.0 and will be removed in version 1.2. Use `criterion='absolute_error'` which is equivalent.\n",
      "  warnings.warn(\n",
      "/home/pmotameni/anaconda3/envs/w207final/lib/python3.9/site-packages/sklearn/tree/_classes.py:366: FutureWarning: Criterion 'mae' was deprecated in v1.0 and will be removed in version 1.2. Use `criterion='absolute_error'` which is equivalent.\n",
      "  warnings.warn(\n",
      "/home/pmotameni/anaconda3/envs/w207final/lib/python3.9/site-packages/sklearn/tree/_classes.py:366: FutureWarning: Criterion 'mae' was deprecated in v1.0 and will be removed in version 1.2. Use `criterion='absolute_error'` which is equivalent.\n",
      "  warnings.warn(\n",
      "/home/pmotameni/anaconda3/envs/w207final/lib/python3.9/site-packages/sklearn/tree/_classes.py:366: FutureWarning: Criterion 'mae' was deprecated in v1.0 and will be removed in version 1.2. Use `criterion='absolute_error'` which is equivalent.\n",
      "  warnings.warn(\n",
      "/home/pmotameni/anaconda3/envs/w207final/lib/python3.9/site-packages/sklearn/tree/_classes.py:366: FutureWarning: Criterion 'mae' was deprecated in v1.0 and will be removed in version 1.2. Use `criterion='absolute_error'` which is equivalent.\n",
      "  warnings.warn(\n",
      "/home/pmotameni/anaconda3/envs/w207final/lib/python3.9/site-packages/sklearn/tree/_classes.py:366: FutureWarning: Criterion 'mae' was deprecated in v1.0 and will be removed in version 1.2. Use `criterion='absolute_error'` which is equivalent.\n",
      "  warnings.warn(\n",
      "/home/pmotameni/anaconda3/envs/w207final/lib/python3.9/site-packages/sklearn/tree/_classes.py:366: FutureWarning: Criterion 'mae' was deprecated in v1.0 and will be removed in version 1.2. Use `criterion='absolute_error'` which is equivalent.\n",
      "  warnings.warn(\n",
      "/home/pmotameni/anaconda3/envs/w207final/lib/python3.9/site-packages/sklearn/tree/_classes.py:366: FutureWarning: Criterion 'mae' was deprecated in v1.0 and will be removed in version 1.2. Use `criterion='absolute_error'` which is equivalent.\n",
      "  warnings.warn(\n",
      "/home/pmotameni/anaconda3/envs/w207final/lib/python3.9/site-packages/sklearn/tree/_classes.py:366: FutureWarning: Criterion 'mae' was deprecated in v1.0 and will be removed in version 1.2. Use `criterion='absolute_error'` which is equivalent.\n",
      "  warnings.warn(\n",
      "/home/pmotameni/anaconda3/envs/w207final/lib/python3.9/site-packages/sklearn/tree/_classes.py:366: FutureWarning: Criterion 'mae' was deprecated in v1.0 and will be removed in version 1.2. Use `criterion='absolute_error'` which is equivalent.\n",
      "  warnings.warn(\n",
      "/home/pmotameni/anaconda3/envs/w207final/lib/python3.9/site-packages/sklearn/tree/_classes.py:366: FutureWarning: Criterion 'mae' was deprecated in v1.0 and will be removed in version 1.2. Use `criterion='absolute_error'` which is equivalent.\n",
      "  warnings.warn(\n",
      "/home/pmotameni/anaconda3/envs/w207final/lib/python3.9/site-packages/sklearn/tree/_classes.py:366: FutureWarning: Criterion 'mae' was deprecated in v1.0 and will be removed in version 1.2. Use `criterion='absolute_error'` which is equivalent.\n",
      "  warnings.warn(\n",
      "/home/pmotameni/anaconda3/envs/w207final/lib/python3.9/site-packages/sklearn/tree/_classes.py:366: FutureWarning: Criterion 'mae' was deprecated in v1.0 and will be removed in version 1.2. Use `criterion='absolute_error'` which is equivalent.\n",
      "  warnings.warn(\n",
      "/home/pmotameni/anaconda3/envs/w207final/lib/python3.9/site-packages/sklearn/tree/_classes.py:366: FutureWarning: Criterion 'mae' was deprecated in v1.0 and will be removed in version 1.2. Use `criterion='absolute_error'` which is equivalent.\n",
      "  warnings.warn(\n",
      "/home/pmotameni/anaconda3/envs/w207final/lib/python3.9/site-packages/sklearn/tree/_classes.py:366: FutureWarning: Criterion 'mae' was deprecated in v1.0 and will be removed in version 1.2. Use `criterion='absolute_error'` which is equivalent.\n",
      "  warnings.warn(\n",
      "/home/pmotameni/anaconda3/envs/w207final/lib/python3.9/site-packages/sklearn/tree/_classes.py:366: FutureWarning: Criterion 'mae' was deprecated in v1.0 and will be removed in version 1.2. Use `criterion='absolute_error'` which is equivalent.\n",
      "  warnings.warn(\n",
      "/home/pmotameni/anaconda3/envs/w207final/lib/python3.9/site-packages/sklearn/tree/_classes.py:366: FutureWarning: Criterion 'mae' was deprecated in v1.0 and will be removed in version 1.2. Use `criterion='absolute_error'` which is equivalent.\n",
      "  warnings.warn(\n",
      "/home/pmotameni/anaconda3/envs/w207final/lib/python3.9/site-packages/sklearn/tree/_classes.py:366: FutureWarning: Criterion 'mae' was deprecated in v1.0 and will be removed in version 1.2. Use `criterion='absolute_error'` which is equivalent.\n",
      "  warnings.warn(\n",
      "/home/pmotameni/anaconda3/envs/w207final/lib/python3.9/site-packages/sklearn/tree/_classes.py:366: FutureWarning: Criterion 'mae' was deprecated in v1.0 and will be removed in version 1.2. Use `criterion='absolute_error'` which is equivalent.\n",
      "  warnings.warn(\n",
      "/home/pmotameni/anaconda3/envs/w207final/lib/python3.9/site-packages/sklearn/tree/_classes.py:366: FutureWarning: Criterion 'mae' was deprecated in v1.0 and will be removed in version 1.2. Use `criterion='absolute_error'` which is equivalent.\n",
      "  warnings.warn(\n",
      "/home/pmotameni/anaconda3/envs/w207final/lib/python3.9/site-packages/sklearn/tree/_classes.py:366: FutureWarning: Criterion 'mae' was deprecated in v1.0 and will be removed in version 1.2. Use `criterion='absolute_error'` which is equivalent.\n",
      "  warnings.warn(\n",
      "/home/pmotameni/anaconda3/envs/w207final/lib/python3.9/site-packages/sklearn/tree/_classes.py:366: FutureWarning: Criterion 'mae' was deprecated in v1.0 and will be removed in version 1.2. Use `criterion='absolute_error'` which is equivalent.\n",
      "  warnings.warn(\n",
      "/home/pmotameni/anaconda3/envs/w207final/lib/python3.9/site-packages/sklearn/tree/_classes.py:366: FutureWarning: Criterion 'mae' was deprecated in v1.0 and will be removed in version 1.2. Use `criterion='absolute_error'` which is equivalent.\n",
      "  warnings.warn(\n",
      "/home/pmotameni/anaconda3/envs/w207final/lib/python3.9/site-packages/sklearn/tree/_classes.py:366: FutureWarning: Criterion 'mae' was deprecated in v1.0 and will be removed in version 1.2. Use `criterion='absolute_error'` which is equivalent.\n",
      "  warnings.warn(\n",
      "/home/pmotameni/anaconda3/envs/w207final/lib/python3.9/site-packages/sklearn/tree/_classes.py:366: FutureWarning: Criterion 'mae' was deprecated in v1.0 and will be removed in version 1.2. Use `criterion='absolute_error'` which is equivalent.\n",
      "  warnings.warn(\n",
      "/home/pmotameni/anaconda3/envs/w207final/lib/python3.9/site-packages/sklearn/tree/_classes.py:366: FutureWarning: Criterion 'mae' was deprecated in v1.0 and will be removed in version 1.2. Use `criterion='absolute_error'` which is equivalent.\n",
      "  warnings.warn(\n",
      "/home/pmotameni/anaconda3/envs/w207final/lib/python3.9/site-packages/sklearn/tree/_classes.py:366: FutureWarning: Criterion 'mae' was deprecated in v1.0 and will be removed in version 1.2. Use `criterion='absolute_error'` which is equivalent.\n",
      "  warnings.warn(\n",
      "/home/pmotameni/anaconda3/envs/w207final/lib/python3.9/site-packages/sklearn/tree/_classes.py:366: FutureWarning: Criterion 'mae' was deprecated in v1.0 and will be removed in version 1.2. Use `criterion='absolute_error'` which is equivalent.\n",
      "  warnings.warn(\n",
      "/home/pmotameni/anaconda3/envs/w207final/lib/python3.9/site-packages/sklearn/tree/_classes.py:366: FutureWarning: Criterion 'mae' was deprecated in v1.0 and will be removed in version 1.2. Use `criterion='absolute_error'` which is equivalent.\n",
      "  warnings.warn(\n",
      "/home/pmotameni/anaconda3/envs/w207final/lib/python3.9/site-packages/sklearn/tree/_classes.py:366: FutureWarning: Criterion 'mae' was deprecated in v1.0 and will be removed in version 1.2. Use `criterion='absolute_error'` which is equivalent.\n",
      "  warnings.warn(\n",
      "/home/pmotameni/anaconda3/envs/w207final/lib/python3.9/site-packages/sklearn/tree/_classes.py:366: FutureWarning: Criterion 'mae' was deprecated in v1.0 and will be removed in version 1.2. Use `criterion='absolute_error'` which is equivalent.\n",
      "  warnings.warn(\n",
      "/home/pmotameni/anaconda3/envs/w207final/lib/python3.9/site-packages/sklearn/tree/_classes.py:366: FutureWarning: Criterion 'mae' was deprecated in v1.0 and will be removed in version 1.2. Use `criterion='absolute_error'` which is equivalent.\n",
      "  warnings.warn(\n",
      "/home/pmotameni/anaconda3/envs/w207final/lib/python3.9/site-packages/sklearn/tree/_classes.py:366: FutureWarning: Criterion 'mae' was deprecated in v1.0 and will be removed in version 1.2. Use `criterion='absolute_error'` which is equivalent.\n",
      "  warnings.warn(\n",
      "/home/pmotameni/anaconda3/envs/w207final/lib/python3.9/site-packages/sklearn/tree/_classes.py:366: FutureWarning: Criterion 'mae' was deprecated in v1.0 and will be removed in version 1.2. Use `criterion='absolute_error'` which is equivalent.\n",
      "  warnings.warn(\n",
      "/home/pmotameni/anaconda3/envs/w207final/lib/python3.9/site-packages/sklearn/tree/_classes.py:366: FutureWarning: Criterion 'mae' was deprecated in v1.0 and will be removed in version 1.2. Use `criterion='absolute_error'` which is equivalent.\n",
      "  warnings.warn(\n",
      "/home/pmotameni/anaconda3/envs/w207final/lib/python3.9/site-packages/sklearn/tree/_classes.py:366: FutureWarning: Criterion 'mae' was deprecated in v1.0 and will be removed in version 1.2. Use `criterion='absolute_error'` which is equivalent.\n",
      "  warnings.warn(\n",
      "/home/pmotameni/anaconda3/envs/w207final/lib/python3.9/site-packages/sklearn/tree/_classes.py:366: FutureWarning: Criterion 'mae' was deprecated in v1.0 and will be removed in version 1.2. Use `criterion='absolute_error'` which is equivalent.\n",
      "  warnings.warn(\n",
      "/home/pmotameni/anaconda3/envs/w207final/lib/python3.9/site-packages/sklearn/tree/_classes.py:366: FutureWarning: Criterion 'mae' was deprecated in v1.0 and will be removed in version 1.2. Use `criterion='absolute_error'` which is equivalent.\n",
      "  warnings.warn(\n",
      "/home/pmotameni/anaconda3/envs/w207final/lib/python3.9/site-packages/sklearn/tree/_classes.py:366: FutureWarning: Criterion 'mae' was deprecated in v1.0 and will be removed in version 1.2. Use `criterion='absolute_error'` which is equivalent.\n",
      "  warnings.warn(\n",
      "/home/pmotameni/anaconda3/envs/w207final/lib/python3.9/site-packages/sklearn/tree/_classes.py:366: FutureWarning: Criterion 'mae' was deprecated in v1.0 and will be removed in version 1.2. Use `criterion='absolute_error'` which is equivalent.\n",
      "  warnings.warn(\n",
      "/home/pmotameni/anaconda3/envs/w207final/lib/python3.9/site-packages/sklearn/tree/_classes.py:366: FutureWarning: Criterion 'mae' was deprecated in v1.0 and will be removed in version 1.2. Use `criterion='absolute_error'` which is equivalent.\n",
      "  warnings.warn(\n",
      "/home/pmotameni/anaconda3/envs/w207final/lib/python3.9/site-packages/sklearn/tree/_classes.py:366: FutureWarning: Criterion 'mae' was deprecated in v1.0 and will be removed in version 1.2. Use `criterion='absolute_error'` which is equivalent.\n",
      "  warnings.warn(\n",
      "/home/pmotameni/anaconda3/envs/w207final/lib/python3.9/site-packages/sklearn/tree/_classes.py:366: FutureWarning: Criterion 'mae' was deprecated in v1.0 and will be removed in version 1.2. Use `criterion='absolute_error'` which is equivalent.\n",
      "  warnings.warn(\n",
      "/home/pmotameni/anaconda3/envs/w207final/lib/python3.9/site-packages/sklearn/tree/_classes.py:366: FutureWarning: Criterion 'mae' was deprecated in v1.0 and will be removed in version 1.2. Use `criterion='absolute_error'` which is equivalent.\n",
      "  warnings.warn(\n",
      "/home/pmotameni/anaconda3/envs/w207final/lib/python3.9/site-packages/sklearn/tree/_classes.py:366: FutureWarning: Criterion 'mae' was deprecated in v1.0 and will be removed in version 1.2. Use `criterion='absolute_error'` which is equivalent.\n",
      "  warnings.warn(\n",
      "/home/pmotameni/anaconda3/envs/w207final/lib/python3.9/site-packages/sklearn/tree/_classes.py:366: FutureWarning: Criterion 'mae' was deprecated in v1.0 and will be removed in version 1.2. Use `criterion='absolute_error'` which is equivalent.\n",
      "  warnings.warn(\n",
      "/home/pmotameni/anaconda3/envs/w207final/lib/python3.9/site-packages/sklearn/tree/_classes.py:366: FutureWarning: Criterion 'mae' was deprecated in v1.0 and will be removed in version 1.2. Use `criterion='absolute_error'` which is equivalent.\n",
      "  warnings.warn(\n",
      "/home/pmotameni/anaconda3/envs/w207final/lib/python3.9/site-packages/sklearn/tree/_classes.py:366: FutureWarning: Criterion 'mae' was deprecated in v1.0 and will be removed in version 1.2. Use `criterion='absolute_error'` which is equivalent.\n",
      "  warnings.warn(\n",
      "/home/pmotameni/anaconda3/envs/w207final/lib/python3.9/site-packages/sklearn/tree/_classes.py:366: FutureWarning: Criterion 'mae' was deprecated in v1.0 and will be removed in version 1.2. Use `criterion='absolute_error'` which is equivalent.\n",
      "  warnings.warn(\n",
      "/home/pmotameni/anaconda3/envs/w207final/lib/python3.9/site-packages/sklearn/tree/_classes.py:366: FutureWarning: Criterion 'mae' was deprecated in v1.0 and will be removed in version 1.2. Use `criterion='absolute_error'` which is equivalent.\n",
      "  warnings.warn(\n",
      "/home/pmotameni/anaconda3/envs/w207final/lib/python3.9/site-packages/sklearn/tree/_classes.py:366: FutureWarning: Criterion 'mae' was deprecated in v1.0 and will be removed in version 1.2. Use `criterion='absolute_error'` which is equivalent.\n",
      "  warnings.warn(\n",
      "/home/pmotameni/anaconda3/envs/w207final/lib/python3.9/site-packages/sklearn/tree/_classes.py:366: FutureWarning: Criterion 'mae' was deprecated in v1.0 and will be removed in version 1.2. Use `criterion='absolute_error'` which is equivalent.\n",
      "  warnings.warn(\n",
      "/home/pmotameni/anaconda3/envs/w207final/lib/python3.9/site-packages/sklearn/tree/_classes.py:366: FutureWarning: Criterion 'mae' was deprecated in v1.0 and will be removed in version 1.2. Use `criterion='absolute_error'` which is equivalent.\n",
      "  warnings.warn(\n",
      "/home/pmotameni/anaconda3/envs/w207final/lib/python3.9/site-packages/sklearn/tree/_classes.py:366: FutureWarning: Criterion 'mae' was deprecated in v1.0 and will be removed in version 1.2. Use `criterion='absolute_error'` which is equivalent.\n",
      "  warnings.warn(\n",
      "/home/pmotameni/anaconda3/envs/w207final/lib/python3.9/site-packages/sklearn/tree/_classes.py:366: FutureWarning: Criterion 'mae' was deprecated in v1.0 and will be removed in version 1.2. Use `criterion='absolute_error'` which is equivalent.\n",
      "  warnings.warn(\n",
      "/home/pmotameni/anaconda3/envs/w207final/lib/python3.9/site-packages/sklearn/tree/_classes.py:366: FutureWarning: Criterion 'mae' was deprecated in v1.0 and will be removed in version 1.2. Use `criterion='absolute_error'` which is equivalent.\n",
      "  warnings.warn(\n",
      "/home/pmotameni/anaconda3/envs/w207final/lib/python3.9/site-packages/sklearn/tree/_classes.py:366: FutureWarning: Criterion 'mae' was deprecated in v1.0 and will be removed in version 1.2. Use `criterion='absolute_error'` which is equivalent.\n",
      "  warnings.warn(\n",
      "/home/pmotameni/anaconda3/envs/w207final/lib/python3.9/site-packages/sklearn/tree/_classes.py:366: FutureWarning: Criterion 'mae' was deprecated in v1.0 and will be removed in version 1.2. Use `criterion='absolute_error'` which is equivalent.\n",
      "  warnings.warn(\n",
      "/home/pmotameni/anaconda3/envs/w207final/lib/python3.9/site-packages/sklearn/tree/_classes.py:366: FutureWarning: Criterion 'mae' was deprecated in v1.0 and will be removed in version 1.2. Use `criterion='absolute_error'` which is equivalent.\n",
      "  warnings.warn(\n",
      "/home/pmotameni/anaconda3/envs/w207final/lib/python3.9/site-packages/sklearn/tree/_classes.py:366: FutureWarning: Criterion 'mae' was deprecated in v1.0 and will be removed in version 1.2. Use `criterion='absolute_error'` which is equivalent.\n",
      "  warnings.warn(\n",
      "/home/pmotameni/anaconda3/envs/w207final/lib/python3.9/site-packages/sklearn/tree/_classes.py:366: FutureWarning: Criterion 'mae' was deprecated in v1.0 and will be removed in version 1.2. Use `criterion='absolute_error'` which is equivalent.\n",
      "  warnings.warn(\n",
      "/home/pmotameni/anaconda3/envs/w207final/lib/python3.9/site-packages/sklearn/tree/_classes.py:366: FutureWarning: Criterion 'mae' was deprecated in v1.0 and will be removed in version 1.2. Use `criterion='absolute_error'` which is equivalent.\n",
      "  warnings.warn(\n",
      "/home/pmotameni/anaconda3/envs/w207final/lib/python3.9/site-packages/sklearn/tree/_classes.py:366: FutureWarning: Criterion 'mae' was deprecated in v1.0 and will be removed in version 1.2. Use `criterion='absolute_error'` which is equivalent.\n",
      "  warnings.warn(\n",
      "/home/pmotameni/anaconda3/envs/w207final/lib/python3.9/site-packages/sklearn/tree/_classes.py:366: FutureWarning: Criterion 'mae' was deprecated in v1.0 and will be removed in version 1.2. Use `criterion='absolute_error'` which is equivalent.\n",
      "  warnings.warn(\n",
      "/home/pmotameni/anaconda3/envs/w207final/lib/python3.9/site-packages/sklearn/tree/_classes.py:366: FutureWarning: Criterion 'mae' was deprecated in v1.0 and will be removed in version 1.2. Use `criterion='absolute_error'` which is equivalent.\n",
      "  warnings.warn(\n",
      "/home/pmotameni/anaconda3/envs/w207final/lib/python3.9/site-packages/sklearn/tree/_classes.py:366: FutureWarning: Criterion 'mae' was deprecated in v1.0 and will be removed in version 1.2. Use `criterion='absolute_error'` which is equivalent.\n",
      "  warnings.warn(\n",
      "/home/pmotameni/anaconda3/envs/w207final/lib/python3.9/site-packages/sklearn/tree/_classes.py:366: FutureWarning: Criterion 'mae' was deprecated in v1.0 and will be removed in version 1.2. Use `criterion='absolute_error'` which is equivalent.\n",
      "  warnings.warn(\n",
      "/home/pmotameni/anaconda3/envs/w207final/lib/python3.9/site-packages/sklearn/tree/_classes.py:366: FutureWarning: Criterion 'mae' was deprecated in v1.0 and will be removed in version 1.2. Use `criterion='absolute_error'` which is equivalent.\n",
      "  warnings.warn(\n",
      "/home/pmotameni/anaconda3/envs/w207final/lib/python3.9/site-packages/sklearn/tree/_classes.py:366: FutureWarning: Criterion 'mae' was deprecated in v1.0 and will be removed in version 1.2. Use `criterion='absolute_error'` which is equivalent.\n",
      "  warnings.warn(\n",
      "/home/pmotameni/anaconda3/envs/w207final/lib/python3.9/site-packages/sklearn/tree/_classes.py:366: FutureWarning: Criterion 'mae' was deprecated in v1.0 and will be removed in version 1.2. Use `criterion='absolute_error'` which is equivalent.\n",
      "  warnings.warn(\n",
      "/home/pmotameni/anaconda3/envs/w207final/lib/python3.9/site-packages/sklearn/tree/_classes.py:366: FutureWarning: Criterion 'mae' was deprecated in v1.0 and will be removed in version 1.2. Use `criterion='absolute_error'` which is equivalent.\n",
      "  warnings.warn(\n",
      "/home/pmotameni/anaconda3/envs/w207final/lib/python3.9/site-packages/sklearn/tree/_classes.py:366: FutureWarning: Criterion 'mae' was deprecated in v1.0 and will be removed in version 1.2. Use `criterion='absolute_error'` which is equivalent.\n",
      "  warnings.warn(\n",
      "/home/pmotameni/anaconda3/envs/w207final/lib/python3.9/site-packages/sklearn/tree/_classes.py:366: FutureWarning: Criterion 'mae' was deprecated in v1.0 and will be removed in version 1.2. Use `criterion='absolute_error'` which is equivalent.\n",
      "  warnings.warn(\n",
      "/home/pmotameni/anaconda3/envs/w207final/lib/python3.9/site-packages/sklearn/tree/_classes.py:366: FutureWarning: Criterion 'mae' was deprecated in v1.0 and will be removed in version 1.2. Use `criterion='absolute_error'` which is equivalent.\n",
      "  warnings.warn(\n",
      "/home/pmotameni/anaconda3/envs/w207final/lib/python3.9/site-packages/sklearn/tree/_classes.py:366: FutureWarning: Criterion 'mae' was deprecated in v1.0 and will be removed in version 1.2. Use `criterion='absolute_error'` which is equivalent.\n",
      "  warnings.warn(\n",
      "/home/pmotameni/anaconda3/envs/w207final/lib/python3.9/site-packages/sklearn/tree/_classes.py:366: FutureWarning: Criterion 'mae' was deprecated in v1.0 and will be removed in version 1.2. Use `criterion='absolute_error'` which is equivalent.\n",
      "  warnings.warn(\n",
      "/home/pmotameni/anaconda3/envs/w207final/lib/python3.9/site-packages/sklearn/tree/_classes.py:366: FutureWarning: Criterion 'mae' was deprecated in v1.0 and will be removed in version 1.2. Use `criterion='absolute_error'` which is equivalent.\n",
      "  warnings.warn(\n",
      "/home/pmotameni/anaconda3/envs/w207final/lib/python3.9/site-packages/sklearn/tree/_classes.py:366: FutureWarning: Criterion 'mae' was deprecated in v1.0 and will be removed in version 1.2. Use `criterion='absolute_error'` which is equivalent.\n",
      "  warnings.warn(\n",
      "/home/pmotameni/anaconda3/envs/w207final/lib/python3.9/site-packages/sklearn/tree/_classes.py:366: FutureWarning: Criterion 'mae' was deprecated in v1.0 and will be removed in version 1.2. Use `criterion='absolute_error'` which is equivalent.\n",
      "  warnings.warn(\n",
      "/home/pmotameni/anaconda3/envs/w207final/lib/python3.9/site-packages/sklearn/tree/_classes.py:366: FutureWarning: Criterion 'mae' was deprecated in v1.0 and will be removed in version 1.2. Use `criterion='absolute_error'` which is equivalent.\n",
      "  warnings.warn(\n",
      "/home/pmotameni/anaconda3/envs/w207final/lib/python3.9/site-packages/sklearn/tree/_classes.py:366: FutureWarning: Criterion 'mae' was deprecated in v1.0 and will be removed in version 1.2. Use `criterion='absolute_error'` which is equivalent.\n",
      "  warnings.warn(\n",
      "/home/pmotameni/anaconda3/envs/w207final/lib/python3.9/site-packages/sklearn/tree/_classes.py:366: FutureWarning: Criterion 'mae' was deprecated in v1.0 and will be removed in version 1.2. Use `criterion='absolute_error'` which is equivalent.\n",
      "  warnings.warn(\n",
      "/home/pmotameni/anaconda3/envs/w207final/lib/python3.9/site-packages/sklearn/tree/_classes.py:366: FutureWarning: Criterion 'mae' was deprecated in v1.0 and will be removed in version 1.2. Use `criterion='absolute_error'` which is equivalent.\n",
      "  warnings.warn(\n",
      "/home/pmotameni/anaconda3/envs/w207final/lib/python3.9/site-packages/sklearn/tree/_classes.py:366: FutureWarning: Criterion 'mae' was deprecated in v1.0 and will be removed in version 1.2. Use `criterion='absolute_error'` which is equivalent.\n",
      "  warnings.warn(\n",
      "/home/pmotameni/anaconda3/envs/w207final/lib/python3.9/site-packages/sklearn/tree/_classes.py:366: FutureWarning: Criterion 'mae' was deprecated in v1.0 and will be removed in version 1.2. Use `criterion='absolute_error'` which is equivalent.\n",
      "  warnings.warn(\n",
      "/home/pmotameni/anaconda3/envs/w207final/lib/python3.9/site-packages/sklearn/tree/_classes.py:366: FutureWarning: Criterion 'mae' was deprecated in v1.0 and will be removed in version 1.2. Use `criterion='absolute_error'` which is equivalent.\n",
      "  warnings.warn(\n",
      "/home/pmotameni/anaconda3/envs/w207final/lib/python3.9/site-packages/sklearn/tree/_classes.py:366: FutureWarning: Criterion 'mae' was deprecated in v1.0 and will be removed in version 1.2. Use `criterion='absolute_error'` which is equivalent.\n",
      "  warnings.warn(\n",
      "/home/pmotameni/anaconda3/envs/w207final/lib/python3.9/site-packages/sklearn/tree/_classes.py:366: FutureWarning: Criterion 'mae' was deprecated in v1.0 and will be removed in version 1.2. Use `criterion='absolute_error'` which is equivalent.\n",
      "  warnings.warn(\n",
      "/home/pmotameni/anaconda3/envs/w207final/lib/python3.9/site-packages/sklearn/tree/_classes.py:366: FutureWarning: Criterion 'mae' was deprecated in v1.0 and will be removed in version 1.2. Use `criterion='absolute_error'` which is equivalent.\n",
      "  warnings.warn(\n",
      "/home/pmotameni/anaconda3/envs/w207final/lib/python3.9/site-packages/sklearn/tree/_classes.py:366: FutureWarning: Criterion 'mae' was deprecated in v1.0 and will be removed in version 1.2. Use `criterion='absolute_error'` which is equivalent.\n",
      "  warnings.warn(\n",
      "/home/pmotameni/anaconda3/envs/w207final/lib/python3.9/site-packages/sklearn/tree/_classes.py:366: FutureWarning: Criterion 'mae' was deprecated in v1.0 and will be removed in version 1.2. Use `criterion='absolute_error'` which is equivalent.\n",
      "  warnings.warn(\n",
      "/home/pmotameni/anaconda3/envs/w207final/lib/python3.9/site-packages/sklearn/tree/_classes.py:366: FutureWarning: Criterion 'mae' was deprecated in v1.0 and will be removed in version 1.2. Use `criterion='absolute_error'` which is equivalent.\n",
      "  warnings.warn(\n",
      "/home/pmotameni/anaconda3/envs/w207final/lib/python3.9/site-packages/sklearn/tree/_classes.py:366: FutureWarning: Criterion 'mae' was deprecated in v1.0 and will be removed in version 1.2. Use `criterion='absolute_error'` which is equivalent.\n",
      "  warnings.warn(\n",
      "/home/pmotameni/anaconda3/envs/w207final/lib/python3.9/site-packages/sklearn/tree/_classes.py:366: FutureWarning: Criterion 'mae' was deprecated in v1.0 and will be removed in version 1.2. Use `criterion='absolute_error'` which is equivalent.\n",
      "  warnings.warn(\n",
      "/home/pmotameni/anaconda3/envs/w207final/lib/python3.9/site-packages/sklearn/tree/_classes.py:366: FutureWarning: Criterion 'mae' was deprecated in v1.0 and will be removed in version 1.2. Use `criterion='absolute_error'` which is equivalent.\n",
      "  warnings.warn(\n"
     ]
    },
    {
     "name": "stdout",
     "output_type": "stream",
     "text": [
      "Best parameters:\n",
      "{'criterion': 'mse', 'max_features': 60, 'min_samples_leaf': 7, 'min_samples_split': 18}\n",
      "35942.875201619725\n"
     ]
    }
   ],
   "source": [
    "from sklearn.tree import DecisionTreeRegressor\n",
    "\n",
    "X_train, X_test, y_train, y_test = data_loader.get_clean_encoded_data()\n",
    "\n",
    "def DT_model_HP():\n",
    "\n",
    "    parameter_space =  {\n",
    "            \"criterion\": [\"mse\", \"friedman_mse\", \"mae\"],\n",
    "            \"min_samples_split\": [5, 18, 29, 50],\n",
    "            \"min_samples_leaf\": [3, 7, 15, 25],\n",
    "            \"max_features\": [20, 50, 150, 200, X_train.shape[1]],\n",
    "        }\n",
    "\n",
    "    clf = GridSearchCV(DecisionTreeRegressor(random_state=3), parameter_space, \n",
    "                       cv=3, n_jobs=4)\n",
    "\n",
    "    clf.fit(X_train, y_train)\n",
    "    print(\"Best parameters:\")\n",
    "    print(clf.best_params_)\n",
    "\n",
    "    dt_model = DecisionTreeRegressor(**clf.best_params_)\n",
    "\n",
    "    dt_model.fit(X_train, y_train);\n",
    "\n",
    "    y_pred = dt_model.predict(X_test)\n",
    "    print(mean_squared_error(y_test, y_pred, squared=False))\n",
    "    RMSE=mean_squared_error(y_test, y_pred, squared=False)\n",
    "    RMSE_Scores_Hyper.append(RMSE)\n",
    "\n",
    "DT_model_HP()"
   ]
  },
  {
   "cell_type": "markdown",
   "metadata": {},
   "source": [
    "### Hyperparameter tuning of Random Forest Regressor"
   ]
  },
  {
   "cell_type": "code",
   "execution_count": 36,
   "metadata": {},
   "outputs": [
    {
     "name": "stderr",
     "output_type": "stream",
     "text": [
      "/home/pmotameni/anaconda3/envs/w207final/lib/python3.9/site-packages/sklearn/model_selection/_validation.py:681: DataConversionWarning: A column-vector y was passed when a 1d array was expected. Please change the shape of y to (n_samples,), for example using ravel().\n",
      "  estimator.fit(X_train, y_train, **fit_params)\n",
      "/home/pmotameni/anaconda3/envs/w207final/lib/python3.9/site-packages/sklearn/model_selection/_validation.py:681: DataConversionWarning: A column-vector y was passed when a 1d array was expected. Please change the shape of y to (n_samples,), for example using ravel().\n",
      "  estimator.fit(X_train, y_train, **fit_params)\n",
      "/home/pmotameni/anaconda3/envs/w207final/lib/python3.9/site-packages/sklearn/model_selection/_validation.py:681: DataConversionWarning: A column-vector y was passed when a 1d array was expected. Please change the shape of y to (n_samples,), for example using ravel().\n",
      "  estimator.fit(X_train, y_train, **fit_params)\n",
      "/home/pmotameni/anaconda3/envs/w207final/lib/python3.9/site-packages/sklearn/model_selection/_validation.py:681: DataConversionWarning: A column-vector y was passed when a 1d array was expected. Please change the shape of y to (n_samples,), for example using ravel().\n",
      "  estimator.fit(X_train, y_train, **fit_params)\n",
      "/home/pmotameni/anaconda3/envs/w207final/lib/python3.9/site-packages/sklearn/ensemble/_forest.py:395: FutureWarning: Criterion 'mae' was deprecated in v1.0 and will be removed in version 1.2. Use `criterion='absolute_error'` which is equivalent.\n",
      "  warn(\n",
      "/home/pmotameni/anaconda3/envs/w207final/lib/python3.9/site-packages/sklearn/ensemble/_forest.py:388: FutureWarning: Criterion 'mse' was deprecated in v1.0 and will be removed in version 1.2. Use `criterion='squared_error'` which is equivalent.\n",
      "  warn(\n",
      "/home/pmotameni/anaconda3/envs/w207final/lib/python3.9/site-packages/sklearn/ensemble/_forest.py:388: FutureWarning: Criterion 'mse' was deprecated in v1.0 and will be removed in version 1.2. Use `criterion='squared_error'` which is equivalent.\n",
      "  warn(\n",
      "/home/pmotameni/anaconda3/envs/w207final/lib/python3.9/site-packages/sklearn/ensemble/_forest.py:388: FutureWarning: Criterion 'mse' was deprecated in v1.0 and will be removed in version 1.2. Use `criterion='squared_error'` which is equivalent.\n",
      "  warn(\n",
      "/home/pmotameni/anaconda3/envs/w207final/lib/python3.9/site-packages/sklearn/model_selection/_validation.py:681: DataConversionWarning: A column-vector y was passed when a 1d array was expected. Please change the shape of y to (n_samples,), for example using ravel().\n",
      "  estimator.fit(X_train, y_train, **fit_params)\n",
      "/home/pmotameni/anaconda3/envs/w207final/lib/python3.9/site-packages/sklearn/ensemble/_forest.py:395: FutureWarning: Criterion 'mae' was deprecated in v1.0 and will be removed in version 1.2. Use `criterion='absolute_error'` which is equivalent.\n",
      "  warn(\n",
      "/home/pmotameni/anaconda3/envs/w207final/lib/python3.9/site-packages/sklearn/model_selection/_validation.py:681: DataConversionWarning: A column-vector y was passed when a 1d array was expected. Please change the shape of y to (n_samples,), for example using ravel().\n",
      "  estimator.fit(X_train, y_train, **fit_params)\n",
      "/home/pmotameni/anaconda3/envs/w207final/lib/python3.9/site-packages/sklearn/ensemble/_forest.py:395: FutureWarning: Criterion 'mae' was deprecated in v1.0 and will be removed in version 1.2. Use `criterion='absolute_error'` which is equivalent.\n",
      "  warn(\n",
      "/home/pmotameni/anaconda3/envs/w207final/lib/python3.9/site-packages/sklearn/model_selection/_validation.py:681: DataConversionWarning: A column-vector y was passed when a 1d array was expected. Please change the shape of y to (n_samples,), for example using ravel().\n",
      "  estimator.fit(X_train, y_train, **fit_params)\n",
      "/home/pmotameni/anaconda3/envs/w207final/lib/python3.9/site-packages/sklearn/ensemble/_forest.py:395: FutureWarning: Criterion 'mae' was deprecated in v1.0 and will be removed in version 1.2. Use `criterion='absolute_error'` which is equivalent.\n",
      "  warn(\n",
      "/home/pmotameni/anaconda3/envs/w207final/lib/python3.9/site-packages/sklearn/model_selection/_validation.py:681: DataConversionWarning: A column-vector y was passed when a 1d array was expected. Please change the shape of y to (n_samples,), for example using ravel().\n",
      "  estimator.fit(X_train, y_train, **fit_params)\n",
      "/home/pmotameni/anaconda3/envs/w207final/lib/python3.9/site-packages/sklearn/ensemble/_forest.py:395: FutureWarning: Criterion 'mae' was deprecated in v1.0 and will be removed in version 1.2. Use `criterion='absolute_error'` which is equivalent.\n",
      "  warn(\n",
      "/home/pmotameni/anaconda3/envs/w207final/lib/python3.9/site-packages/sklearn/model_selection/_validation.py:681: DataConversionWarning: A column-vector y was passed when a 1d array was expected. Please change the shape of y to (n_samples,), for example using ravel().\n",
      "  estimator.fit(X_train, y_train, **fit_params)\n",
      "/home/pmotameni/anaconda3/envs/w207final/lib/python3.9/site-packages/sklearn/ensemble/_forest.py:395: FutureWarning: Criterion 'mae' was deprecated in v1.0 and will be removed in version 1.2. Use `criterion='absolute_error'` which is equivalent.\n",
      "  warn(\n",
      "/home/pmotameni/anaconda3/envs/w207final/lib/python3.9/site-packages/sklearn/model_selection/_validation.py:681: DataConversionWarning: A column-vector y was passed when a 1d array was expected. Please change the shape of y to (n_samples,), for example using ravel().\n",
      "  estimator.fit(X_train, y_train, **fit_params)\n",
      "/home/pmotameni/anaconda3/envs/w207final/lib/python3.9/site-packages/sklearn/ensemble/_forest.py:395: FutureWarning: Criterion 'mae' was deprecated in v1.0 and will be removed in version 1.2. Use `criterion='absolute_error'` which is equivalent.\n",
      "  warn(\n",
      "/home/pmotameni/anaconda3/envs/w207final/lib/python3.9/site-packages/sklearn/model_selection/_validation.py:681: DataConversionWarning: A column-vector y was passed when a 1d array was expected. Please change the shape of y to (n_samples,), for example using ravel().\n",
      "  estimator.fit(X_train, y_train, **fit_params)\n",
      "/home/pmotameni/anaconda3/envs/w207final/lib/python3.9/site-packages/sklearn/ensemble/_forest.py:395: FutureWarning: Criterion 'mae' was deprecated in v1.0 and will be removed in version 1.2. Use `criterion='absolute_error'` which is equivalent.\n",
      "  warn(\n",
      "/home/pmotameni/anaconda3/envs/w207final/lib/python3.9/site-packages/sklearn/model_selection/_validation.py:681: DataConversionWarning: A column-vector y was passed when a 1d array was expected. Please change the shape of y to (n_samples,), for example using ravel().\n",
      "  estimator.fit(X_train, y_train, **fit_params)\n",
      "/home/pmotameni/anaconda3/envs/w207final/lib/python3.9/site-packages/sklearn/ensemble/_forest.py:395: FutureWarning: Criterion 'mae' was deprecated in v1.0 and will be removed in version 1.2. Use `criterion='absolute_error'` which is equivalent.\n",
      "  warn(\n",
      "/home/pmotameni/anaconda3/envs/w207final/lib/python3.9/site-packages/sklearn/model_selection/_validation.py:681: DataConversionWarning: A column-vector y was passed when a 1d array was expected. Please change the shape of y to (n_samples,), for example using ravel().\n",
      "  estimator.fit(X_train, y_train, **fit_params)\n",
      "/home/pmotameni/anaconda3/envs/w207final/lib/python3.9/site-packages/sklearn/ensemble/_forest.py:388: FutureWarning: Criterion 'mse' was deprecated in v1.0 and will be removed in version 1.2. Use `criterion='squared_error'` which is equivalent.\n",
      "  warn(\n",
      "/home/pmotameni/anaconda3/envs/w207final/lib/python3.9/site-packages/sklearn/model_selection/_validation.py:681: DataConversionWarning: A column-vector y was passed when a 1d array was expected. Please change the shape of y to (n_samples,), for example using ravel().\n",
      "  estimator.fit(X_train, y_train, **fit_params)\n",
      "/home/pmotameni/anaconda3/envs/w207final/lib/python3.9/site-packages/sklearn/ensemble/_forest.py:388: FutureWarning: Criterion 'mse' was deprecated in v1.0 and will be removed in version 1.2. Use `criterion='squared_error'` which is equivalent.\n",
      "  warn(\n",
      "/home/pmotameni/anaconda3/envs/w207final/lib/python3.9/site-packages/sklearn/model_selection/_validation.py:681: DataConversionWarning: A column-vector y was passed when a 1d array was expected. Please change the shape of y to (n_samples,), for example using ravel().\n",
      "  estimator.fit(X_train, y_train, **fit_params)\n",
      "/home/pmotameni/anaconda3/envs/w207final/lib/python3.9/site-packages/sklearn/ensemble/_forest.py:388: FutureWarning: Criterion 'mse' was deprecated in v1.0 and will be removed in version 1.2. Use `criterion='squared_error'` which is equivalent.\n",
      "  warn(\n",
      "/home/pmotameni/anaconda3/envs/w207final/lib/python3.9/site-packages/sklearn/model_selection/_validation.py:681: DataConversionWarning: A column-vector y was passed when a 1d array was expected. Please change the shape of y to (n_samples,), for example using ravel().\n",
      "  estimator.fit(X_train, y_train, **fit_params)\n",
      "/home/pmotameni/anaconda3/envs/w207final/lib/python3.9/site-packages/sklearn/ensemble/_forest.py:388: FutureWarning: Criterion 'mse' was deprecated in v1.0 and will be removed in version 1.2. Use `criterion='squared_error'` which is equivalent.\n",
      "  warn(\n",
      "/home/pmotameni/anaconda3/envs/w207final/lib/python3.9/site-packages/sklearn/model_selection/_validation.py:681: DataConversionWarning: A column-vector y was passed when a 1d array was expected. Please change the shape of y to (n_samples,), for example using ravel().\n",
      "  estimator.fit(X_train, y_train, **fit_params)\n",
      "/home/pmotameni/anaconda3/envs/w207final/lib/python3.9/site-packages/sklearn/ensemble/_forest.py:388: FutureWarning: Criterion 'mse' was deprecated in v1.0 and will be removed in version 1.2. Use `criterion='squared_error'` which is equivalent.\n",
      "  warn(\n",
      "/home/pmotameni/anaconda3/envs/w207final/lib/python3.9/site-packages/sklearn/model_selection/_validation.py:681: DataConversionWarning: A column-vector y was passed when a 1d array was expected. Please change the shape of y to (n_samples,), for example using ravel().\n",
      "  estimator.fit(X_train, y_train, **fit_params)\n",
      "/home/pmotameni/anaconda3/envs/w207final/lib/python3.9/site-packages/sklearn/ensemble/_forest.py:388: FutureWarning: Criterion 'mse' was deprecated in v1.0 and will be removed in version 1.2. Use `criterion='squared_error'` which is equivalent.\n",
      "  warn(\n",
      "/home/pmotameni/anaconda3/envs/w207final/lib/python3.9/site-packages/sklearn/model_selection/_validation.py:681: DataConversionWarning: A column-vector y was passed when a 1d array was expected. Please change the shape of y to (n_samples,), for example using ravel().\n",
      "  estimator.fit(X_train, y_train, **fit_params)\n",
      "/home/pmotameni/anaconda3/envs/w207final/lib/python3.9/site-packages/sklearn/ensemble/_forest.py:388: FutureWarning: Criterion 'mse' was deprecated in v1.0 and will be removed in version 1.2. Use `criterion='squared_error'` which is equivalent.\n",
      "  warn(\n",
      "/home/pmotameni/anaconda3/envs/w207final/lib/python3.9/site-packages/sklearn/model_selection/_validation.py:681: DataConversionWarning: A column-vector y was passed when a 1d array was expected. Please change the shape of y to (n_samples,), for example using ravel().\n",
      "  estimator.fit(X_train, y_train, **fit_params)\n",
      "/home/pmotameni/anaconda3/envs/w207final/lib/python3.9/site-packages/sklearn/ensemble/_forest.py:395: FutureWarning: Criterion 'mae' was deprecated in v1.0 and will be removed in version 1.2. Use `criterion='absolute_error'` which is equivalent.\n",
      "  warn(\n",
      "/home/pmotameni/anaconda3/envs/w207final/lib/python3.9/site-packages/sklearn/model_selection/_validation.py:681: DataConversionWarning: A column-vector y was passed when a 1d array was expected. Please change the shape of y to (n_samples,), for example using ravel().\n",
      "  estimator.fit(X_train, y_train, **fit_params)\n",
      "/home/pmotameni/anaconda3/envs/w207final/lib/python3.9/site-packages/sklearn/ensemble/_forest.py:395: FutureWarning: Criterion 'mae' was deprecated in v1.0 and will be removed in version 1.2. Use `criterion='absolute_error'` which is equivalent.\n",
      "  warn(\n",
      "/home/pmotameni/anaconda3/envs/w207final/lib/python3.9/site-packages/sklearn/model_selection/_validation.py:681: DataConversionWarning: A column-vector y was passed when a 1d array was expected. Please change the shape of y to (n_samples,), for example using ravel().\n",
      "  estimator.fit(X_train, y_train, **fit_params)\n",
      "/home/pmotameni/anaconda3/envs/w207final/lib/python3.9/site-packages/sklearn/ensemble/_forest.py:395: FutureWarning: Criterion 'mae' was deprecated in v1.0 and will be removed in version 1.2. Use `criterion='absolute_error'` which is equivalent.\n",
      "  warn(\n",
      "/home/pmotameni/anaconda3/envs/w207final/lib/python3.9/site-packages/sklearn/model_selection/_validation.py:681: DataConversionWarning: A column-vector y was passed when a 1d array was expected. Please change the shape of y to (n_samples,), for example using ravel().\n",
      "  estimator.fit(X_train, y_train, **fit_params)\n",
      "/home/pmotameni/anaconda3/envs/w207final/lib/python3.9/site-packages/sklearn/ensemble/_forest.py:395: FutureWarning: Criterion 'mae' was deprecated in v1.0 and will be removed in version 1.2. Use `criterion='absolute_error'` which is equivalent.\n",
      "  warn(\n",
      "/home/pmotameni/anaconda3/envs/w207final/lib/python3.9/site-packages/sklearn/model_selection/_validation.py:681: DataConversionWarning: A column-vector y was passed when a 1d array was expected. Please change the shape of y to (n_samples,), for example using ravel().\n",
      "  estimator.fit(X_train, y_train, **fit_params)\n",
      "/home/pmotameni/anaconda3/envs/w207final/lib/python3.9/site-packages/sklearn/ensemble/_forest.py:395: FutureWarning: Criterion 'mae' was deprecated in v1.0 and will be removed in version 1.2. Use `criterion='absolute_error'` which is equivalent.\n",
      "  warn(\n",
      "/home/pmotameni/anaconda3/envs/w207final/lib/python3.9/site-packages/sklearn/model_selection/_validation.py:681: DataConversionWarning: A column-vector y was passed when a 1d array was expected. Please change the shape of y to (n_samples,), for example using ravel().\n",
      "  estimator.fit(X_train, y_train, **fit_params)\n",
      "/home/pmotameni/anaconda3/envs/w207final/lib/python3.9/site-packages/sklearn/ensemble/_forest.py:395: FutureWarning: Criterion 'mae' was deprecated in v1.0 and will be removed in version 1.2. Use `criterion='absolute_error'` which is equivalent.\n",
      "  warn(\n",
      "/home/pmotameni/anaconda3/envs/w207final/lib/python3.9/site-packages/sklearn/model_selection/_validation.py:681: DataConversionWarning: A column-vector y was passed when a 1d array was expected. Please change the shape of y to (n_samples,), for example using ravel().\n",
      "  estimator.fit(X_train, y_train, **fit_params)\n",
      "/home/pmotameni/anaconda3/envs/w207final/lib/python3.9/site-packages/sklearn/ensemble/_forest.py:395: FutureWarning: Criterion 'mae' was deprecated in v1.0 and will be removed in version 1.2. Use `criterion='absolute_error'` which is equivalent.\n",
      "  warn(\n",
      "/home/pmotameni/anaconda3/envs/w207final/lib/python3.9/site-packages/sklearn/model_selection/_validation.py:681: DataConversionWarning: A column-vector y was passed when a 1d array was expected. Please change the shape of y to (n_samples,), for example using ravel().\n",
      "  estimator.fit(X_train, y_train, **fit_params)\n",
      "/home/pmotameni/anaconda3/envs/w207final/lib/python3.9/site-packages/sklearn/ensemble/_forest.py:395: FutureWarning: Criterion 'mae' was deprecated in v1.0 and will be removed in version 1.2. Use `criterion='absolute_error'` which is equivalent.\n",
      "  warn(\n",
      "/home/pmotameni/anaconda3/envs/w207final/lib/python3.9/site-packages/sklearn/model_selection/_validation.py:681: DataConversionWarning: A column-vector y was passed when a 1d array was expected. Please change the shape of y to (n_samples,), for example using ravel().\n",
      "  estimator.fit(X_train, y_train, **fit_params)\n",
      "/home/pmotameni/anaconda3/envs/w207final/lib/python3.9/site-packages/sklearn/ensemble/_forest.py:395: FutureWarning: Criterion 'mae' was deprecated in v1.0 and will be removed in version 1.2. Use `criterion='absolute_error'` which is equivalent.\n",
      "  warn(\n",
      "/home/pmotameni/anaconda3/envs/w207final/lib/python3.9/site-packages/sklearn/model_selection/_validation.py:681: DataConversionWarning: A column-vector y was passed when a 1d array was expected. Please change the shape of y to (n_samples,), for example using ravel().\n",
      "  estimator.fit(X_train, y_train, **fit_params)\n",
      "/home/pmotameni/anaconda3/envs/w207final/lib/python3.9/site-packages/sklearn/ensemble/_forest.py:388: FutureWarning: Criterion 'mse' was deprecated in v1.0 and will be removed in version 1.2. Use `criterion='squared_error'` which is equivalent.\n",
      "  warn(\n",
      "/home/pmotameni/anaconda3/envs/w207final/lib/python3.9/site-packages/sklearn/model_selection/_validation.py:681: DataConversionWarning: A column-vector y was passed when a 1d array was expected. Please change the shape of y to (n_samples,), for example using ravel().\n",
      "  estimator.fit(X_train, y_train, **fit_params)\n",
      "/home/pmotameni/anaconda3/envs/w207final/lib/python3.9/site-packages/sklearn/ensemble/_forest.py:388: FutureWarning: Criterion 'mse' was deprecated in v1.0 and will be removed in version 1.2. Use `criterion='squared_error'` which is equivalent.\n",
      "  warn(\n"
     ]
    },
    {
     "name": "stdout",
     "output_type": "stream",
     "text": [
      "Best parameters:\n",
      "{'n_estimators': 600, 'min_samples_split': 2, 'min_samples_leaf': 1, 'max_features': 19, 'max_depth': 254, 'criterion': 'mse', 'bootstrap': False}\n",
      "30033.625186149475\n"
     ]
    }
   ],
   "source": [
    "from sklearn.ensemble import RandomForestRegressor\n",
    "from sklearn.model_selection import RandomizedSearchCV\n",
    "\n",
    "X_train, X_test, y_train, y_test = data_loader.get_clean_encoded_data()\n",
    "\n",
    "def RandomForest_model_HP():\n",
    "\n",
    "    parameter_space = \\\n",
    "        {\n",
    "            \"n_estimators\": [10, 100, 300, 600],\n",
    "            \"criterion\": [\"mse\", \"mae\"],\n",
    "            \"max_depth\": [7, 50, 254],\n",
    "            \"min_samples_split\": [2, 5],\n",
    "            \"min_samples_leaf\": [1, 5],\n",
    "            \"max_features\": [19, 100, X_train.shape[1]],\n",
    "            \"bootstrap\": [True, False],\n",
    "        }\n",
    "\n",
    "    clf = RandomizedSearchCV(RandomForestRegressor(random_state=3), \n",
    "                             parameter_space, cv=3, n_jobs=4, \n",
    "                             n_iter=10, random_state=3)\n",
    "\n",
    "    clf.fit(X_train, y_train)\n",
    "    print(\"Best parameters:\")\n",
    "    print(clf.best_params_)\n",
    "\n",
    "    rf_model = RandomForestRegressor(**clf.best_params_)\n",
    "\n",
    "    rf_model.fit(X_train, y_train)\n",
    "\n",
    "    y_pred = rf_model.predict(X_test)\n",
    "    print(mean_squared_error(y_test, y_pred, squared=False))\n",
    "    RMSE=mean_squared_error(y_test, y_pred, squared=False)\n",
    "    RMSE_Scores_Hyper.append(RMSE)\n",
    "\n",
    "RandomForest_model_HP()"
   ]
  },
  {
   "cell_type": "code",
   "execution_count": 37,
   "metadata": {},
   "outputs": [
    {
     "data": {
      "image/png": "[encoded data removed]",
      "text/plain": [
       "<Figure size 432x288 with 1 Axes>"
      ]
     },
     "metadata": {
      "needs_background": "light"
     },
     "output_type": "display_data"
    },
    {
     "data": {
      "image/png": "[encoded data removed]",
      "text/plain": [
       "<Figure size 432x288 with 1 Axes>"
      ]
     },
     "metadata": {
      "needs_background": "light"
     },
     "output_type": "display_data"
    },
    {
     "data": {
      "image/png": "[encoded data removed]",
      "text/plain": [
       "<Figure size 432x288 with 1 Axes>"
      ]
     },
     "metadata": {
      "needs_background": "light"
     },
     "output_type": "display_data"
    }
   ],
   "source": [
    "x2 = ['Linear','Ridge','Lasso','Elastic','Decision Tree','Random Forest']\n",
    "y = RMSE_Scores_Wrapper[:6]\n",
    "\n",
    "fig, ax = plt.subplots()\n",
    "plt.barh(y=range(len(x2)), tick_label=x2, width=y, height=0.4)\n",
    "plt.xlim(25000,45000)\n",
    "ax.set(xlabel=\"RMSE (smaller is better)\", ylabel=\"Model: Wrapper Function\")\n",
    "\n",
    "x1 = ['Linear','Ridge','Lasso','Elastic','Decision Tree','Random Forest']\n",
    "y = RMSE_Scores[:6]\n",
    "\n",
    "fig, ax = plt.subplots()\n",
    "plt.barh(y=range(len(x1)), tick_label=x1, width=y, height=0.4)\n",
    "plt.xlim(25000,45000)\n",
    "ax.set(xlabel=\"RMSE (smaller is better)\", ylabel=\"Model: Clean_encoded_data\")\n",
    "\n",
    "\n",
    "RMSE_Scores_Hyper.insert(0,0)\n",
    "x3 = ['Linear','Ridge','Lasso','Elastic','Decision Tree','Random Forest']\n",
    "y = RMSE_Scores_Hyper[-6:]\n",
    "\n",
    "fig, ax = plt.subplots()\n",
    "plt.barh(y=range(len(x3)), tick_label=x3, width=y, height=0.4)\n",
    "plt.xlim(25000,45000)\n",
    "ax.set(xlabel=\"RMSE (smaller is better)\", ylabel=\"Model: Hyperparameter Tuning\")"
   ]
  },
  {
   "cell_type": "code",
   "execution_count": 38,
   "metadata": {},
   "outputs": [
    {
     "data": {
      "text/html": [
       "<style type=\"text/css\">\n",
       "</style>\n",
       "<table id=\"T_a50c3_\">\n",
       "  <caption>Comparison of RMSE Scores for various Regressors with, Baseline, Wrapper Function and Hyperparameter tuning</caption>\n",
       "  <thead>\n",
       "    <tr>\n",
       "      <th class=\"blank level0\" >&nbsp;</th>\n",
       "      <th class=\"col_heading level0 col0\" >Regressor</th>\n",
       "      <th class=\"col_heading level0 col1\" >Wrapper</th>\n",
       "      <th class=\"col_heading level0 col2\" >Baseline</th>\n",
       "      <th class=\"col_heading level0 col3\" >Hyperparameter_tuning</th>\n",
       "    </tr>\n",
       "  </thead>\n",
       "  <tbody>\n",
       "    <tr>\n",
       "      <th id=\"T_a50c3_level0_row0\" class=\"row_heading level0 row0\" >0</th>\n",
       "      <td id=\"T_a50c3_row0_col0\" class=\"data row0 col0\" >Linear</td>\n",
       "      <td id=\"T_a50c3_row0_col1\" class=\"data row0 col1\" >37698.106612</td>\n",
       "      <td id=\"T_a50c3_row0_col2\" class=\"data row0 col2\" >29325.596202</td>\n",
       "      <td id=\"T_a50c3_row0_col3\" class=\"data row0 col3\" >0.000000</td>\n",
       "    </tr>\n",
       "    <tr>\n",
       "      <th id=\"T_a50c3_level0_row1\" class=\"row_heading level0 row1\" >1</th>\n",
       "      <td id=\"T_a50c3_row1_col0\" class=\"data row1 col0\" >Ridge</td>\n",
       "      <td id=\"T_a50c3_row1_col1\" class=\"data row1 col1\" >37739.188209</td>\n",
       "      <td id=\"T_a50c3_row1_col2\" class=\"data row1 col2\" >29406.413053</td>\n",
       "      <td id=\"T_a50c3_row1_col3\" class=\"data row1 col3\" >29409.794982</td>\n",
       "    </tr>\n",
       "    <tr>\n",
       "      <th id=\"T_a50c3_level0_row2\" class=\"row_heading level0 row2\" >2</th>\n",
       "      <td id=\"T_a50c3_row2_col0\" class=\"data row2 col0\" >Lasso</td>\n",
       "      <td id=\"T_a50c3_row2_col1\" class=\"data row2 col1\" >37698.278002</td>\n",
       "      <td id=\"T_a50c3_row2_col2\" class=\"data row2 col2\" >29340.796981</td>\n",
       "      <td id=\"T_a50c3_row2_col3\" class=\"data row2 col3\" >29325.822247</td>\n",
       "    </tr>\n",
       "    <tr>\n",
       "      <th id=\"T_a50c3_level0_row3\" class=\"row_heading level0 row3\" >3</th>\n",
       "      <td id=\"T_a50c3_row3_col0\" class=\"data row3 col0\" >Elastic</td>\n",
       "      <td id=\"T_a50c3_row3_col1\" class=\"data row3 col1\" >37270.446911</td>\n",
       "      <td id=\"T_a50c3_row3_col2\" class=\"data row3 col2\" >30925.944372</td>\n",
       "      <td id=\"T_a50c3_row3_col3\" class=\"data row3 col3\" >29340.796981</td>\n",
       "    </tr>\n",
       "    <tr>\n",
       "      <th id=\"T_a50c3_level0_row4\" class=\"row_heading level0 row4\" >4</th>\n",
       "      <td id=\"T_a50c3_row4_col0\" class=\"data row4 col0\" >Decision Tree</td>\n",
       "      <td id=\"T_a50c3_row4_col1\" class=\"data row4 col1\" >31025.824756</td>\n",
       "      <td id=\"T_a50c3_row4_col2\" class=\"data row4 col2\" >37407.315384</td>\n",
       "      <td id=\"T_a50c3_row4_col3\" class=\"data row4 col3\" >35942.875202</td>\n",
       "    </tr>\n",
       "    <tr>\n",
       "      <th id=\"T_a50c3_level0_row5\" class=\"row_heading level0 row5\" >5</th>\n",
       "      <td id=\"T_a50c3_row5_col0\" class=\"data row5 col0\" >Random Forest</td>\n",
       "      <td id=\"T_a50c3_row5_col1\" class=\"data row5 col1\" >29279.573076</td>\n",
       "      <td id=\"T_a50c3_row5_col2\" class=\"data row5 col2\" >30394.642472</td>\n",
       "      <td id=\"T_a50c3_row5_col3\" class=\"data row5 col3\" >30033.625186</td>\n",
       "    </tr>\n",
       "  </tbody>\n",
       "</table>\n"
      ],
      "text/plain": [
       "<pandas.io.formats.style.Styler at 0x7f538f774cd0>"
      ]
     },
     "metadata": {},
     "output_type": "display_data"
    }
   ],
   "source": [
    "df = pd.DataFrame({\n",
    "            'Regressor': x1,\n",
    "            'Wrapper':RMSE_Scores_Wrapper[:6],\n",
    "            'Baseline': RMSE_Scores[:6],\n",
    "            'Hyperparameter_tuning':RMSE_Scores_Hyper[-6:]\n",
    "            })\n",
    "df = df.style.set_caption('Comparison of RMSE Scores for various Regressors with, Baseline, Wrapper Function and Hyperparameter tuning')\n",
    "display(df)"
   ]
  }
 ],
 "metadata": {
  "kernelspec": {
   "display_name": "Python 3",
   "language": "python",
   "name": "python3"
  },
  "language_info": {
   "codemirror_mode": {
    "name": "ipython",
    "version": 3
   },
   "file_extension": ".py",
   "mimetype": "text/x-python",
   "name": "python",
   "nbconvert_exporter": "python",
   "pygments_lexer": "ipython3",
   "version": "3.9.7"
  }
 },
 "nbformat": 4,
 "nbformat_minor": 4
}
