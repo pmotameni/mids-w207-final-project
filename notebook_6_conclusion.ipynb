{
 "cells": [
  {
   "cell_type": "markdown",
   "metadata": {},
   "source": [
    "# Conclusion and Furtherwork\n"
   ]
  },
  {
   "cell_type": "markdown",
   "metadata": {},
   "source": [
    "**Overall Neural Networks served best.**\n",
    "\n",
    "**Feature Selection also did considerably well.**\n",
    "\n",
    "**Hyperparameter Tuning did not do as well as expected. It is likely that we might be able to work on this further by widing up the parameter space** \n",
    "\n",
    "**PCA was overall a dissapointment. But if we include categorical featueres and take care of the annomalies in data definitions, then we might get better results**"
   ]
  },
  {
   "cell_type": "markdown",
   "metadata": {},
   "source": [
    "We have answered the above questions stated under \"Project Goals\" by Exploring the data (EDA) and performing various ML techniques. The outcome is delailed below\n",
    "\n",
    "## **Outcomes**\n",
    "\n",
    "1. The most impactful features are:\n",
    " ['GarageCars', 'FullBath', 'OverallQual', 'Exterior2nd', 'MSSubClass', 'LotArea', 'Neighborhood', 'ExterQual', 'HeatingQC', 'TotRmsAbvGrd', 'KitchenQual', 'Fireplaces', 'YearRemodAdd', '1stFlrSF', 'TotalBsmtSF', 'YearBuilt', 'GrLivArea', 'Foundation', '2ndFlrSF', 'GarageArea', 'BsmtFinSF1']\n",
    "#### \n",
    "2. Best Model is Neural Networks\n",
    "   \n",
    "\n",
    "## **Further work**\n",
    "\n",
    "1. Apply alternative feature selection algorithms \n",
    "2. Descripencies of those parameters and how those will effect us\n",
    "3. Look further into regression results interpretation. Potentially also advanced regression techniques\n",
    "3. Deeper work in principal Components Analysis\n",
    "\n",
    "\n"
   ]
  }
 ],
 "metadata": {
  "interpreter": {
   "hash": "2ec5ef2ef6915d277aaea50dc172e794b982cc5f41075f1dfd6598edc485a9d8"
  },
  "kernelspec": {
   "display_name": "Python 3.9.7 64-bit ('w207final': conda)",
   "language": "python",
   "name": "python3"
  },
  "language_info": {
   "codemirror_mode": {
    "name": "ipython",
    "version": 3
   },
   "file_extension": ".py",
   "mimetype": "text/x-python",
   "name": "python",
   "nbconvert_exporter": "python",
   "pygments_lexer": "ipython3",
   "version": "3.9.7"
  },
  "orig_nbformat": 4
 },
 "nbformat": 4,
 "nbformat_minor": 2
}
