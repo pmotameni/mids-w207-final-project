{
  "cells": [
    {
      "cell_type": "markdown",
      "metadata": {
        "id": "_y4okRUhPjC9"
      },
      "source": [
        "# Final Project Baseline: House Prices- Advanced Regression Techniques\n",
        "### Author: Radia Abdul Wahab, Parham Motameni, Jun Qian\n",
        "### Date: Fall 2021\n",
        "### Course: w207 Machine Learning\n",
        "\n",
        "\n",
        "\n",
        "# "
      ]
    },
    {
      "cell_type": "code",
      "execution_count": 9,
      "metadata": {},
      "outputs": [],
      "source": [
        "# This tells matplotlib not to try opening a new window for each plot.\n",
        "%matplotlib inline\n"
      ]
    },
    {
      "cell_type": "code",
      "execution_count": 10,
      "metadata": {
        "colab": {
          "base_uri": "https://localhost:8080/",
          "height": 35
        },
        "id": "ncAF-sIOPjDG",
        "outputId": "7db46d42-c6f4-4f7c-cf48-c2d320109079"
      },
      "outputs": [],
      "source": [
        "# Import libraries.\n",
        "\n",
        "from sklearn.metrics import r2_score\n",
        "import random\n",
        "import time\n",
        "import numpy as np\n",
        "import pandas as pd\n",
        "import matplotlib.pyplot as plt\n",
        "import seaborn as sns\n",
        "from pathlib import Path\n",
        "from matplotlib.ticker import MultipleLocator\n",
        "from sklearn.pipeline import Pipeline\n",
        "from sklearn.datasets import fetch_openml\n",
        "from sklearn.neighbors import KNeighborsClassifier\n",
        "from sklearn.metrics import confusion_matrix\n",
        "from sklearn.linear_model import LinearRegression\n",
        "from sklearn.naive_bayes import BernoulliNB\n",
        "from sklearn.naive_bayes import MultinomialNB\n",
        "from sklearn.naive_bayes import GaussianNB\n",
        "from sklearn.model_selection import GridSearchCV\n",
        "from sklearn.metrics import classification_report\n",
        "from sklearn.model_selection import train_test_split\n",
        "from sklearn.compose import ColumnTransformer\n",
        "from sklearn.preprocessing import OneHotEncoder\n",
        "from sklearn.ensemble import RandomForestRegressor\n",
        "from sklearn.svm import SVR\n",
        "from sklearn.tree import DecisionTreeRegressor\n",
        "import scipy.io as sio\n"
      ]
    },
    {
      "cell_type": "code",
      "execution_count": 11,
      "metadata": {
        "id": "fRNfelLOPjDH"
      },
      "outputs": [],
      "source": [
        "# lock the seed to have repeatable results\n",
        "random.seed(100)"
      ]
    },
    {
      "cell_type": "code",
      "execution_count": 12,
      "metadata": {
        "id": "1JUDtInxPjDI"
      },
      "outputs": [],
      "source": [
        "# load datatsets and labels\n",
        "def load_dataset():\n",
        "    # X_train is sparse matrix others are not\n",
        "    X_train = sio.mmread(\"X_train.mtx\").todense()\n",
        "    X_test = pd.read_csv('X_test.csv')\n",
        "    y_train, y_test=  pd.read_csv('y_train.csv'),  pd.read_csv('y_test.csv')\n",
        "    return X_train, y_train, X_test, y_test\n"
      ]
    },
    {
      "cell_type": "markdown",
      "metadata": {},
      "source": [
        "# Helper methods"
      ]
    },
    {
      "cell_type": "code",
      "execution_count": 13,
      "metadata": {},
      "outputs": [],
      "source": [
        "def predict_and_display_score(regressor, X_test, y_test):\n",
        "    y_pred = regressor.predict(X_test)\n",
        "    print(\n",
        "        f'r2_score of {type(regressor).__name__}: {r2_score(y_test, y_pred)}')\n",
        "    return y_pred\n",
        "\n",
        "def get_side_by_side_comparison(y_pred, y_test ):\n",
        "    comp = pd.concat([pd.DataFrame(y_pred), y_test], axis=1)\n",
        "    return comp\n"
      ]
    },
    {
      "cell_type": "markdown",
      "metadata": {},
      "source": [
        "# Training the Multiple Linear Regression model on the Training set"
      ]
    },
    {
      "cell_type": "code",
      "execution_count": 14,
      "metadata": {},
      "outputs": [],
      "source": [
        "def run_regression(regressor, X_train, y_train, X_test, y_test):\n",
        "    regressor.fit(X_train, y_train)\n",
        "    predict_and_display_score(regressor, X_test, y_test)\n"
      ]
    },
    {
      "cell_type": "code",
      "execution_count": 15,
      "metadata": {},
      "outputs": [],
      "source": [
        "def run_all():\n",
        "    regressors = [LinearRegression(),\n",
        "                    DecisionTreeRegressor(random_state=0),\n",
        "                    RandomForestRegressor(n_estimators=10, random_state=0)\n",
        "                ]\n",
        "    X_tr, y_tr, X_tst, y_tst = load_dataset()\n",
        "    [run_regression(r, X_tr, y_tr.values.ravel(), X_tst, y_tst.values.ravel())\n",
        "     for r in regressors]\n"
      ]
    },
    {
      "cell_type": "markdown",
      "metadata": {},
      "source": [
        "## Predicting and displaying set results for Regression models"
      ]
    },
    {
      "cell_type": "code",
      "execution_count": 16,
      "metadata": {},
      "outputs": [
        {
          "name": "stdout",
          "output_type": "stream",
          "text": [
            "r2_score of LinearRegression: 0.8775862774364419\n",
            "r2_score of DecisionTreeRegressor: 0.8225349679881327\n",
            "r2_score of RandomForestRegressor: 0.8902441767129868\n"
          ]
        }
      ],
      "source": [
        "run_all()"
      ]
    }
  ],
  "metadata": {
    "colab": {
      "collapsed_sections": [
        "jgBn3bKfPjDM",
        "UqGu8jx4PjDQ"
      ],
      "name": "w207_Final_Baseline.ipynb",
      "provenance": []
    },
    "interpreter": {
      "hash": "e60adb67eb80270c05ee6b033ce8b930b3ae8adb47b2f7aaebb32759a2596efe"
    },
    "kernelspec": {
      "display_name": "Python 3.8.8 64-bit ('base': conda)",
      "name": "python3"
    },
    "language_info": {
      "codemirror_mode": {
        "name": "ipython",
        "version": 3
      },
      "file_extension": ".py",
      "mimetype": "text/x-python",
      "name": "python",
      "nbconvert_exporter": "python",
      "pygments_lexer": "ipython3",
      "version": "3.8.8"
    }
  },
  "nbformat": 4,
  "nbformat_minor": 0
}
